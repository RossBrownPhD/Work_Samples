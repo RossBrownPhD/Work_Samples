{
 "cells": [
  {
   "cell_type": "markdown",
   "metadata": {},
   "source": [
    "<a id='top'></a>"
   ]
  },
  {
   "cell_type": "markdown",
   "metadata": {},
   "source": [
    "# Beyond .85 \n",
    "\n",
    "### A random forests algorithm applied to Lending Club data predicted default rates with .85 accuracy out of the box. \n",
    "\n",
    "#### Could streamlining the feature set from an initial 40, and randomly sampling grids of hyperparameter values, maintain or improve that accuracy?\n",
    "\n",
    "#### This notebook contains all the steps for this project; skip to the code, questions and answers that interest you using the links below.\n",
    "\n",
    "This project was to predict loan default rates using a data set from Lending Club. It entailed winnowing down 140+ initial features and creating a machine learning model that accomplished the goal with as few features as possible, followed by hyperparameter tuning via randomized search\n",
    "\n",
    "\n",
    "- [Step 1](#Step_1) Make a data dictionary in Excel for review and notation\n",
    "- [Step 2](#Step_2) Missing data visualizations and initial data review\n",
    "- [Step 3](#Step_3) Outliers\n",
    "- [Step 4](#Step_4) Preprocessing\n",
    "- [Step 5](#Step_5) Consider characteristics of the data to choose an initial algorithm and strategy: Random forests with feature importance ranking to reduce the number of features\n",
    "- [Finding I](#Finding_I) Going from 40 features to 5 features, accuracy was only reduced by .003, ending up at .851.\n",
    "- [Finding II](#Finding_II) Using the iterative process to winnow features from 40 down to five arrived at five final features that were in the top five less than half the time for each of the previous iterations. \n",
    "- [Step 6](#Step_6) With a baseline random forests algorithm with five features producing .851, verify predictive strength with cross validation and look at results using another algorithm.\n",
    "- [Finding III](#Finding_III) Using the final five features derived from the winnowing process, both random forests cross validation and naive Bayes resulted in the same .85 accuracy, demonstrating that .85 is robust, and not improved upon by another easy-to-slot-in algorithm.\n",
    "- [Finding IV](#Finding_IV) Naive Bayes on the initial 40 features produced accuracy of .76.\n",
    "- [Step 7](#Step_7) Investigate whether base predictive capacity can be improved by applying randomly sampled hyperparameter values, using a random hyperparameter grid and randomized search cross validation, based on a method described here:\n",
    "https://towardsdatascience.com/hyperparameter-tuning-the-random-forest-in-python-using-scikit-learn-28d2aa77dd74\n",
    "- [Finding V](#Finding_V) Best parameter values from five samples, as well as means/modes for these values, are shown. Some were the same across samples.\n",
    "- [Step 8](#Step_8) Do any of the sets of hyperparameters generated from the random grid searches on different samples improve predictive power?\n",
    "- [Finding VI](#Finding_VI) Hyperparameter values derived from the random search grids on 2% and 5% samples (same values, oops) resulted in the highest test set prediction, .854, which is a very small increase from the default hyperparameter settings.\n",
    "- [Step 9](#Step_9) Conduct a hyperparameter grid search using a grid comprised of values centered around values with the greatest effect in the previous steps. Use those parameters to see if accuracy improves.\n",
    "- [Conclusion](#Conclusion) \n",
    "Seems the predictive capability with this algorithm and hyperparameter tuning is maxed out at .854. But it's a promising methodology for other algorithms that are more sensitive to hyperparameter tuning.\n"
   ]
  },
  {
   "cell_type": "code",
   "execution_count": 3,
   "metadata": {},
   "outputs": [],
   "source": [
    "import pandas as pd\n",
    "pd.set_option('mode.chained_assignment', None)\n",
    "pd.set_option('max_columns', 120)\n",
    "pd.set_option('max_colwidth', 5000)\n",
    "pd.options.display.max_rows = 999\n",
    "import numpy as np\n",
    "import matplotlib.pyplot as plt\n",
    "from IPython.display import display\n",
    "%matplotlib inline\n",
    "import seaborn as sns\n",
    "import warnings\n",
    "warnings.filterwarnings(\"ignore\")\n",
    "def warn(*args, **kwargs):\n",
    "    pass\n",
    "import warnings\n",
    "warnings.warn = warn"
   ]
  },
  {
   "cell_type": "markdown",
   "metadata": {},
   "source": [
    "<a id='Step_1'></a>"
   ]
  },
  {
   "cell_type": "markdown",
   "metadata": {},
   "source": [
    "#### Step 1: Make a data dictionary in Excel for review and notations \n",
    "I used the Excel file to review and annotate, identifying which features were relevant, and which were redundant or not useful for other reasons."
   ]
  },
  {
   "cell_type": "code",
   "execution_count": 2,
   "metadata": {},
   "outputs": [
    {
     "name": "stdout",
     "output_type": "stream",
     "text": [
      "153\n",
      "['LoanStatNew', 'Description']\n"
     ]
    }
   ],
   "source": [
    "df = pd.read_csv('C:/Users/rmbrm/Downloads/LoanStats_2015_v2/LoanStats_2015.csv', skiprows=1, low_memory=False) \n",
    "data_dictionary = pd.read_excel('C:/Users/rmbrm/Documents/DS_WP/Predict default/Predict Default Final/LCDataDictionary.xlsx') \n",
    "print(data_dictionary.shape[0])\n",
    "print(data_dictionary.columns.tolist())\n",
    "data_dictionary = data_dictionary.rename(columns={'LoanStatNew': 'name',\n",
    "                                                 'Description': 'description'})\n",
    "df_dtypes = pd.DataFrame(df.dtypes,columns=['dtypes'])\n",
    "df_dtypes = df_dtypes.reset_index()\n",
    "df_dtypes['name'] = df_dtypes['index']\n",
    "df_dtypes = df_dtypes[['name','dtypes']]\n",
    "\n",
    "df_dtypes['first value'] = df.loc[0].values\n",
    "preview = df_dtypes.merge(data_dictionary, on='name',how='left')\n",
    "\n",
    "preview.to_excel('C:/Users/rmbrm/Documents/DS_WP/Predict default/Predict Default Final/variables2.xlsx')"
   ]
  },
  {
   "cell_type": "code",
   "execution_count": 3,
   "metadata": {
    "scrolled": false
   },
   "outputs": [
    {
     "data": {
      "text/html": [
       "<div>\n",
       "<style scoped>\n",
       "    .dataframe tbody tr th:only-of-type {\n",
       "        vertical-align: middle;\n",
       "    }\n",
       "\n",
       "    .dataframe tbody tr th {\n",
       "        vertical-align: top;\n",
       "    }\n",
       "\n",
       "    .dataframe thead th {\n",
       "        text-align: right;\n",
       "    }\n",
       "</style>\n",
       "<table border=\"1\" class=\"dataframe\">\n",
       "  <thead>\n",
       "    <tr style=\"text-align: right;\">\n",
       "      <th></th>\n",
       "      <th>name</th>\n",
       "      <th>dtypes</th>\n",
       "      <th>first value</th>\n",
       "      <th>description</th>\n",
       "    </tr>\n",
       "  </thead>\n",
       "  <tbody>\n",
       "    <tr>\n",
       "      <th>0</th>\n",
       "      <td>id</td>\n",
       "      <td>object</td>\n",
       "      <td>NaN</td>\n",
       "      <td>A unique LC assigned ID for the loan listing.</td>\n",
       "    </tr>\n",
       "    <tr>\n",
       "      <th>1</th>\n",
       "      <td>member_id</td>\n",
       "      <td>float64</td>\n",
       "      <td>NaN</td>\n",
       "      <td>A unique LC assigned Id for the borrower member.</td>\n",
       "    </tr>\n",
       "    <tr>\n",
       "      <th>2</th>\n",
       "      <td>loan_amnt</td>\n",
       "      <td>float64</td>\n",
       "      <td>12000</td>\n",
       "      <td>The listed amount of the loan applied for by the borrower. If at some point in time, the credit department reduces the loan amount, then it will be reflected in this value.</td>\n",
       "    </tr>\n",
       "    <tr>\n",
       "      <th>3</th>\n",
       "      <td>funded_amnt</td>\n",
       "      <td>float64</td>\n",
       "      <td>12000</td>\n",
       "      <td>The total amount committed to that loan at that point in time.</td>\n",
       "    </tr>\n",
       "    <tr>\n",
       "      <th>4</th>\n",
       "      <td>funded_amnt_inv</td>\n",
       "      <td>float64</td>\n",
       "      <td>12000</td>\n",
       "      <td>The total amount committed by investors for that loan at that point in time.</td>\n",
       "    </tr>\n",
       "  </tbody>\n",
       "</table>\n",
       "</div>"
      ],
      "text/plain": [
       "              name   dtypes first value  \\\n",
       "0               id   object         NaN   \n",
       "1        member_id  float64         NaN   \n",
       "2        loan_amnt  float64       12000   \n",
       "3      funded_amnt  float64       12000   \n",
       "4  funded_amnt_inv  float64       12000   \n",
       "\n",
       "                                                                                                                                                                    description  \n",
       "0                                                                                                                                 A unique LC assigned ID for the loan listing.  \n",
       "1                                                                                                                              A unique LC assigned Id for the borrower member.  \n",
       "2  The listed amount of the loan applied for by the borrower. If at some point in time, the credit department reduces the loan amount, then it will be reflected in this value.  \n",
       "3                                                                                                                The total amount committed to that loan at that point in time.  \n",
       "4                                                                                                  The total amount committed by investors for that loan at that point in time.  "
      ]
     },
     "execution_count": 3,
     "metadata": {},
     "output_type": "execute_result"
    }
   ],
   "source": [
    "preview.head()"
   ]
  },
  {
   "cell_type": "markdown",
   "metadata": {},
   "source": [
    "Back to [top](#top) "
   ]
  },
  {
   "cell_type": "markdown",
   "metadata": {},
   "source": [
    "<a id='Step_2'></a>"
   ]
  },
  {
   "cell_type": "markdown",
   "metadata": {},
   "source": [
    "#### Step 2: Missing data visualizations and initial data review \n",
    "- Missing data visualization tool showed data for many features were almost entirely missing, and \n",
    "- showed feature sets with matching missing data.\n",
    "- I removed all features for which more than 50% of the data was missing.\n",
    "- I removed features that contained the same information as other features\n",
    "- I removed two empty rows at the end of the dataframe"
   ]
  },
  {
   "cell_type": "code",
   "execution_count": 4,
   "metadata": {},
   "outputs": [
    {
     "data": {
      "text/plain": [
       "(421097, 145)"
      ]
     },
     "execution_count": 4,
     "metadata": {},
     "output_type": "execute_result"
    }
   ],
   "source": [
    "loans_orig = df\n",
    "loans_orig.shape"
   ]
  },
  {
   "cell_type": "code",
   "execution_count": 5,
   "metadata": {},
   "outputs": [
    {
     "data": {
      "text/plain": [
       "<matplotlib.axes._subplots.AxesSubplot at 0x269008655c0>"
      ]
     },
     "execution_count": 5,
     "metadata": {},
     "output_type": "execute_result"
    },
    {
     "data": {
      "image/png": "[encoded data removed]",
      "text/plain": [
       "<Figure size 1800x720 with 2 Axes>"
      ]
     },
     "metadata": {
      "needs_background": "light"
     },
     "output_type": "display_data"
    }
   ],
   "source": [
    "# 100,000\n",
    "import missingno as msno\n",
    "%matplotlib inline\n",
    "msno.matrix(loans_orig.sample(100000))"
   ]
  },
  {
   "cell_type": "markdown",
   "metadata": {},
   "source": [
    "Missing data visualization tool shows individual variables as columns, white is where data is missing. Shown are a low and high sampling rate. Variable names are not shown when there are more than 100."
   ]
  },
  {
   "cell_type": "code",
   "execution_count": 6,
   "metadata": {},
   "outputs": [
    {
     "data": {
      "text/plain": [
       "<matplotlib.axes._subplots.AxesSubplot at 0x26901d711d0>"
      ]
     },
     "execution_count": 6,
     "metadata": {},
     "output_type": "execute_result"
    },
    {
     "data": {
      "image/png": "[encoded data removed]",
      "text/plain": [
       "<Figure size 1800x720 with 2 Axes>"
      ]
     },
     "metadata": {
      "needs_background": "light"
     },
     "output_type": "display_data"
    }
   ],
   "source": [
    "# 100\n",
    "import missingno as msno\n",
    "%matplotlib inline\n",
    "msno.matrix(loans_orig.sample(100))"
   ]
  },
  {
   "cell_type": "code",
   "execution_count": 7,
   "metadata": {},
   "outputs": [
    {
     "data": {
      "text/plain": [
       "(421097, 88)"
      ]
     },
     "execution_count": 7,
     "metadata": {},
     "output_type": "execute_result"
    }
   ],
   "source": [
    "half_count = len(loans_orig) / 2\n",
    "loans_abrdg = loans_orig.dropna(thresh=half_count,axis=1)\n",
    "loans_abrdg.shape"
   ]
  },
  {
   "cell_type": "code",
   "execution_count": 8,
   "metadata": {
    "scrolled": true
   },
   "outputs": [
    {
     "data": {
      "text/plain": [
       "sec_app_earliest_cr_line                      421097\n",
       "revol_bal_joint                               421097\n",
       "member_id                                     421097\n",
       "url                                           421097\n",
       "sec_app_inq_last_6mths                        421097\n",
       "sec_app_mort_acc                              421097\n",
       "sec_app_open_acc                              421097\n",
       "sec_app_revol_util                            421097\n",
       "sec_app_open_act_il                           421097\n",
       "sec_app_num_rev_accts                         421097\n",
       "sec_app_chargeoff_within_12_mths              421097\n",
       "sec_app_collections_12_mths_ex_med            421097\n",
       "sec_app_mths_since_last_major_derog           421097\n",
       "id                                            421095\n",
       "desc                                          421052\n",
       "dti_joint                                     420588\n",
       "annual_inc_joint                              420586\n",
       "verification_status_joint                     420586\n",
       "orig_projected_additional_accrued_interest    419361\n",
       "payment_plan_start_date                       418983\n",
       "hardship_loan_status                          418983\n",
       "hardship_last_payment_amount                  418983\n",
       "hardship_payoff_balance_amount                418983\n",
       "hardship_dpd                                  418983\n",
       "hardship_end_date                             418983\n",
       "hardship_type                                 418983\n",
       "hardship_reason                               418983\n",
       "hardship_status                               418983\n",
       "deferral_term                                 418983\n",
       "hardship_amount                               418983\n",
       "hardship_length                               418983\n",
       "hardship_start_date                           418983\n",
       "settlement_percentage                         413699\n",
       "settlement_term                               413699\n",
       "settlement_date                               413699\n",
       "settlement_amount                             413699\n",
       "debt_settlement_flag_date                     413699\n",
       "settlement_status                             413699\n",
       "il_util                                       402480\n",
       "mths_since_rcnt_il                            400287\n",
       "total_cu_tl                                   399725\n",
       "max_bal_bc                                    399725\n",
       "open_rv_24m                                   399725\n",
       "open_rv_12m                                   399725\n",
       "total_bal_il                                  399725\n",
       "open_il_24m                                   399725\n",
       "all_util                                      399725\n",
       "open_il_12m                                   399725\n",
       "inq_fi                                        399725\n",
       "open_act_il                                   399725\n",
       "open_acc_6m                                   399725\n",
       "inq_last_12m                                  399725\n",
       "mths_since_last_record                        346682\n",
       "mths_since_recent_bc_dlq                      312497\n",
       "mths_since_last_major_derog                   298368\n",
       "mths_since_recent_revol_delinq                269360\n",
       "next_pymnt_d                                  260661\n",
       "mths_since_last_delinq                        203964\n",
       "mths_since_recent_inq                          44601\n",
       "emp_title                                      23876\n",
       "emp_length                                     23819\n",
       "num_tl_120dpd_2m                               19232\n",
       "mo_sin_old_il_acct                             12256\n",
       "percent_bc_gt_75                                4241\n",
       "bc_util                                         4229\n",
       "bc_open_to_buy                                  3965\n",
       "mths_since_recent_bc                            3800\n",
       "last_pymnt_d                                     296\n",
       "revol_util                                       164\n",
       "title                                            134\n",
       "last_credit_pull_d                                11\n",
       "dti                                                4\n",
       "num_rev_accts                                      3\n",
       "funded_amnt                                        2\n",
       "pub_rec                                            2\n",
       "revol_bal                                          2\n",
       "funded_amnt_inv                                    2\n",
       "total_acc                                          2\n",
       "addr_state                                         2\n",
       "initial_list_status                                2\n",
       "term                                               2\n",
       "loan_amnt                                          2\n",
       "out_prncp                                          2\n",
       "out_prncp_inv                                      2\n",
       "total_pymnt                                        2\n",
       "open_acc                                           2\n",
       "grade                                              2\n",
       "int_rate                                           2\n",
       "installment                                        2\n",
       "zip_code                                           2\n",
       "sub_grade                                          2\n",
       "home_ownership                                     2\n",
       "annual_inc                                         2\n",
       "verification_status                                2\n",
       "issue_d                                            2\n",
       "loan_status                                        2\n",
       "pymnt_plan                                         2\n",
       "inq_last_6mths                                     2\n",
       "purpose                                            2\n",
       "earliest_cr_line                                   2\n",
       "delinq_2yrs                                        2\n",
       "total_rec_prncp                                    2\n",
       "total_pymnt_inv                                    2\n",
       "total_il_high_credit_limit                         2\n",
       "total_rec_int                                      2\n",
       "mo_sin_rcnt_tl                                     2\n",
       "num_accts_ever_120_pd                              2\n",
       "num_actv_bc_tl                                     2\n",
       "num_actv_rev_tl                                    2\n",
       "num_bc_sats                                        2\n",
       "num_bc_tl                                          2\n",
       "num_il_tl                                          2\n",
       "num_op_rev_tl                                      2\n",
       "num_rev_tl_bal_gt_0                                2\n",
       "num_sats                                           2\n",
       "num_tl_30dpd                                       2\n",
       "num_tl_90g_dpd_24m                                 2\n",
       "num_tl_op_past_12m                                 2\n",
       "pct_tl_nvr_dlq                                     2\n",
       "pub_rec_bankruptcies                               2\n",
       "tax_liens                                          2\n",
       "tot_hi_cred_lim                                    2\n",
       "total_bal_ex_mort                                  2\n",
       "mort_acc                                           2\n",
       "mo_sin_rcnt_rev_tl_op                              2\n",
       "total_rec_late_fee                                 2\n",
       "mo_sin_old_rev_tl_op                               2\n",
       "recoveries                                         2\n",
       "collection_recovery_fee                            2\n",
       "last_pymnt_amnt                                    2\n",
       "collections_12_mths_ex_med                         2\n",
       "policy_code                                        2\n",
       "application_type                                   2\n",
       "debt_settlement_flag                               2\n",
       "total_bc_limit                                     2\n",
       "acc_now_delinq                                     2\n",
       "tot_coll_amt                                       2\n",
       "tot_cur_bal                                        2\n",
       "total_rev_hi_lim                                   2\n",
       "hardship_flag                                      2\n",
       "acc_open_past_24mths                               2\n",
       "avg_cur_bal                                        2\n",
       "chargeoff_within_12_mths                           2\n",
       "delinq_amnt                                        2\n",
       "disbursement_method                                2\n",
       "dtype: int64"
      ]
     },
     "execution_count": 8,
     "metadata": {},
     "output_type": "execute_result"
    }
   ],
   "source": [
    "missing = loans_orig.isnull().sum()\n",
    "missing.sort_values(ascending=False)"
   ]
  },
  {
   "cell_type": "code",
   "execution_count": 9,
   "metadata": {
    "scrolled": true
   },
   "outputs": [],
   "source": [
    "# Remove empty rows at the end \n",
    "df = loans_abrdg\n",
    "dfa = df.drop(df.index[421095])\n",
    "dfb = dfa.drop(dfa.index[421095])\n",
    "df = dfb\n"
   ]
  },
  {
   "cell_type": "code",
   "execution_count": 10,
   "metadata": {},
   "outputs": [],
   "source": [
    "# ID features that have the same information\n",
    "df['loan'] = np.where((df['loan_amnt'] == df['funded_amnt']) & (df['loan_amnt'] == df['funded_amnt_inv']), df['loan_amnt'], np.nan)"
   ]
  },
  {
   "cell_type": "markdown",
   "metadata": {},
   "source": [
    "Back to [top](#top) "
   ]
  },
  {
   "cell_type": "markdown",
   "metadata": {},
   "source": [
    "<a id='Step_3'></a>"
   ]
  },
  {
   "cell_type": "markdown",
   "metadata": {},
   "source": [
    "#### Step 3: Outliers\n",
    "I first used the visualization library Plotly because it creates interactive boxplots, showing data values on hover, and allowing for zooming, panning, etc. Unfortunately, the data set was so big that only a few boxplots could be created in a single notebook. Therefore I recreated the boxplot using Seaborn. \n",
    "\n",
    "*Takeaway: None of the outliers are problematic; the boxplots show many features with high-skewing distributions, which is not surprising, considering the variables.*"
   ]
  },
  {
   "cell_type": "code",
   "execution_count": 11,
   "metadata": {},
   "outputs": [],
   "source": [
    "# Create and format variables for box plots\n",
    "time_vars = loans_orig[['mo_sin_old_rev_tl_op', 'mo_sin_rcnt_rev_tl_op', 'mo_sin_rcnt_tl']].copy()\n",
    "time_fin = time_vars.rename(index=str, columns={'mo_sin_old_rev_tl_op': 'Oldest Revolving Account Opened',\n",
    "                                                'mo_sin_rcnt_rev_tl_op': 'Most Recent Revolving Account Opened',\n",
    "                                                'mo_sin_rcnt_tl': 'Most Recent Account Opened'})\n",
    "acct_vars = loans_orig[['num_accts_ever_120_pd', 'num_actv_bc_tl', 'num_actv_rev_tl', 'num_bc_sats',\n",
    "                        'num_tl_90g_dpd_24m', 'num_sats']].copy()\n",
    "acct_fin = acct_vars.rename(index=str, columns={'num_accts_ever_120_pd': 'Accounts Ever 120 or More Days Past Due',\n",
    "                                                'num_actv_bc_tl': 'Currently Active Bankcard Accounts',\n",
    "                                                'num_actv_rev_tl': 'Currently Active Revolving Trades',\n",
    "                                                'num_bc_sats': 'Satisfactory Bankcard Accounts',\n",
    "                                                'num_tl_90g_dpd_24m': 'Accounts 90+ Days Past Due in Past 24 Months',\n",
    "                                                'num_sats': 'Satisfactory Accounts'})\n"
   ]
  },
  {
   "cell_type": "code",
   "execution_count": 12,
   "metadata": {
    "scrolled": false
   },
   "outputs": [
    {
     "data": {
      "image/png": "[encoded data removed]",
      "text/plain": [
       "<Figure size 864x864 with 1 Axes>"
      ]
     },
     "metadata": {},
     "output_type": "display_data"
    }
   ],
   "source": [
    "sns.set(style='whitegrid', rc={\"grid.linewidth\": 0.1})\n",
    "sns.set_context(\"paper\", font_scale=1.65) \n",
    "sns.catplot(kind='box',data=time_fin, height=12, color=\"skyblue\")\n",
    "plt.ylabel(\"Months Since ...\")\n",
    "plt.show()"
   ]
  },
  {
   "cell_type": "code",
   "execution_count": 13,
   "metadata": {},
   "outputs": [
    {
     "data": {
      "image/png": "[encoded data removed]",
      "text/plain": [
       "<Figure size 864x864 with 1 Axes>"
      ]
     },
     "metadata": {},
     "output_type": "display_data"
    }
   ],
   "source": [
    "sns.set(style='whitegrid', rc={\"grid.linewidth\": 0.1})\n",
    "sns.set_context(\"paper\", font_scale=1.65) \n",
    "sns.catplot(kind='box',data=acct_fin, height=12, color=\"skyblue\")\n",
    "plt.ylabel(\"Number of ...\")\n",
    "plt.xticks(rotation='80')\n",
    "plt.show()"
   ]
  },
  {
   "cell_type": "markdown",
   "metadata": {},
   "source": [
    "Back to [top](#top) "
   ]
  },
  {
   "cell_type": "markdown",
   "metadata": {},
   "source": [
    "<a id='Step_4'></a>"
   ]
  },
  {
   "cell_type": "markdown",
   "metadata": {},
   "source": [
    "#### Step 4: Preprocessing\n",
    "- strip out text to create numeric features\n",
    "- recode text variables to create numeric features and target\n",
    "- remove irrelevant features\n",
    "- where some features have very few cases of a particular value, drop those cases\n",
    "- remove \"future leakage\" features that were identified during review of data dictionary, features such as \"debt_settlement_flag\""
   ]
  },
  {
   "cell_type": "code",
   "execution_count": 14,
   "metadata": {},
   "outputs": [
    {
     "data": {
      "text/html": [
       "<div>\n",
       "<style scoped>\n",
       "    .dataframe tbody tr th:only-of-type {\n",
       "        vertical-align: middle;\n",
       "    }\n",
       "\n",
       "    .dataframe tbody tr th {\n",
       "        vertical-align: top;\n",
       "    }\n",
       "\n",
       "    .dataframe thead th {\n",
       "        text-align: right;\n",
       "    }\n",
       "</style>\n",
       "<table border=\"1\" class=\"dataframe\">\n",
       "  <thead>\n",
       "    <tr style=\"text-align: right;\">\n",
       "      <th></th>\n",
       "      <th>loan_amnt</th>\n",
       "      <th>funded_amnt</th>\n",
       "      <th>funded_amnt_inv</th>\n",
       "      <th>term</th>\n",
       "      <th>int_rate</th>\n",
       "      <th>installment</th>\n",
       "      <th>grade</th>\n",
       "      <th>sub_grade</th>\n",
       "      <th>emp_title</th>\n",
       "      <th>emp_length</th>\n",
       "      <th>home_ownership</th>\n",
       "      <th>annual_inc</th>\n",
       "      <th>verification_status</th>\n",
       "      <th>issue_d</th>\n",
       "      <th>loan_status</th>\n",
       "      <th>pymnt_plan</th>\n",
       "      <th>purpose</th>\n",
       "      <th>title</th>\n",
       "      <th>zip_code</th>\n",
       "      <th>addr_state</th>\n",
       "      <th>dti</th>\n",
       "      <th>delinq_2yrs</th>\n",
       "      <th>earliest_cr_line</th>\n",
       "      <th>inq_last_6mths</th>\n",
       "      <th>mths_since_last_delinq</th>\n",
       "      <th>open_acc</th>\n",
       "      <th>pub_rec</th>\n",
       "      <th>revol_bal</th>\n",
       "      <th>revol_util</th>\n",
       "      <th>total_acc</th>\n",
       "      <th>initial_list_status</th>\n",
       "      <th>out_prncp</th>\n",
       "      <th>out_prncp_inv</th>\n",
       "      <th>total_pymnt</th>\n",
       "      <th>total_pymnt_inv</th>\n",
       "      <th>total_rec_prncp</th>\n",
       "      <th>total_rec_int</th>\n",
       "      <th>total_rec_late_fee</th>\n",
       "      <th>recoveries</th>\n",
       "      <th>collection_recovery_fee</th>\n",
       "      <th>last_pymnt_d</th>\n",
       "      <th>last_pymnt_amnt</th>\n",
       "      <th>last_credit_pull_d</th>\n",
       "      <th>collections_12_mths_ex_med</th>\n",
       "      <th>policy_code</th>\n",
       "      <th>application_type</th>\n",
       "      <th>acc_now_delinq</th>\n",
       "      <th>tot_coll_amt</th>\n",
       "      <th>tot_cur_bal</th>\n",
       "      <th>total_rev_hi_lim</th>\n",
       "      <th>acc_open_past_24mths</th>\n",
       "      <th>avg_cur_bal</th>\n",
       "      <th>bc_open_to_buy</th>\n",
       "      <th>bc_util</th>\n",
       "      <th>chargeoff_within_12_mths</th>\n",
       "      <th>delinq_amnt</th>\n",
       "      <th>mo_sin_old_il_acct</th>\n",
       "      <th>mo_sin_old_rev_tl_op</th>\n",
       "      <th>mo_sin_rcnt_rev_tl_op</th>\n",
       "      <th>mo_sin_rcnt_tl</th>\n",
       "      <th>mort_acc</th>\n",
       "      <th>mths_since_recent_bc</th>\n",
       "      <th>mths_since_recent_inq</th>\n",
       "      <th>num_accts_ever_120_pd</th>\n",
       "      <th>num_actv_bc_tl</th>\n",
       "      <th>num_actv_rev_tl</th>\n",
       "      <th>num_bc_sats</th>\n",
       "      <th>num_bc_tl</th>\n",
       "      <th>num_il_tl</th>\n",
       "      <th>num_op_rev_tl</th>\n",
       "      <th>num_rev_accts</th>\n",
       "      <th>num_rev_tl_bal_gt_0</th>\n",
       "      <th>num_sats</th>\n",
       "      <th>num_tl_120dpd_2m</th>\n",
       "      <th>num_tl_30dpd</th>\n",
       "      <th>num_tl_90g_dpd_24m</th>\n",
       "      <th>num_tl_op_past_12m</th>\n",
       "      <th>pct_tl_nvr_dlq</th>\n",
       "      <th>percent_bc_gt_75</th>\n",
       "      <th>pub_rec_bankruptcies</th>\n",
       "      <th>tax_liens</th>\n",
       "      <th>tot_hi_cred_lim</th>\n",
       "      <th>total_bal_ex_mort</th>\n",
       "      <th>total_bc_limit</th>\n",
       "      <th>total_il_high_credit_limit</th>\n",
       "      <th>hardship_flag</th>\n",
       "      <th>disbursement_method</th>\n",
       "      <th>debt_settlement_flag</th>\n",
       "      <th>loan</th>\n",
       "    </tr>\n",
       "  </thead>\n",
       "  <tbody>\n",
       "    <tr>\n",
       "      <th>0</th>\n",
       "      <td>12000.0</td>\n",
       "      <td>12000.0</td>\n",
       "      <td>12000.0</td>\n",
       "      <td>60 months</td>\n",
       "      <td>9.80%</td>\n",
       "      <td>253.79</td>\n",
       "      <td>B</td>\n",
       "      <td>B3</td>\n",
       "      <td>Teacher</td>\n",
       "      <td>10+ years</td>\n",
       "      <td>MORTGAGE</td>\n",
       "      <td>65000.0</td>\n",
       "      <td>Not Verified</td>\n",
       "      <td>Dec-2015</td>\n",
       "      <td>Fully Paid</td>\n",
       "      <td>n</td>\n",
       "      <td>debt_consolidation</td>\n",
       "      <td>Debt consolidation</td>\n",
       "      <td>660xx</td>\n",
       "      <td>KS</td>\n",
       "      <td>23.84</td>\n",
       "      <td>0.0</td>\n",
       "      <td>Nov-2003</td>\n",
       "      <td>0.0</td>\n",
       "      <td>NaN</td>\n",
       "      <td>18.0</td>\n",
       "      <td>0.0</td>\n",
       "      <td>9786.0</td>\n",
       "      <td>13.4%</td>\n",
       "      <td>37.0</td>\n",
       "      <td>w</td>\n",
       "      <td>0.00</td>\n",
       "      <td>0.00</td>\n",
       "      <td>13842.626405</td>\n",
       "      <td>13842.63</td>\n",
       "      <td>12000.00</td>\n",
       "      <td>1842.63</td>\n",
       "      <td>0.0</td>\n",
       "      <td>0.0</td>\n",
       "      <td>0.0</td>\n",
       "      <td>Nov-2017</td>\n",
       "      <td>8529.37</td>\n",
       "      <td>Nov-2017</td>\n",
       "      <td>0.0</td>\n",
       "      <td>1.0</td>\n",
       "      <td>Individual</td>\n",
       "      <td>0.0</td>\n",
       "      <td>0.0</td>\n",
       "      <td>181540.0</td>\n",
       "      <td>73200.0</td>\n",
       "      <td>8.0</td>\n",
       "      <td>10086.0</td>\n",
       "      <td>41055.0</td>\n",
       "      <td>17.1</td>\n",
       "      <td>0.0</td>\n",
       "      <td>0.0</td>\n",
       "      <td>127.0</td>\n",
       "      <td>145.0</td>\n",
       "      <td>4.0</td>\n",
       "      <td>1.0</td>\n",
       "      <td>2.0</td>\n",
       "      <td>4.0</td>\n",
       "      <td>14.0</td>\n",
       "      <td>0.0</td>\n",
       "      <td>2.0</td>\n",
       "      <td>4.0</td>\n",
       "      <td>5.0</td>\n",
       "      <td>10.0</td>\n",
       "      <td>13.0</td>\n",
       "      <td>11.0</td>\n",
       "      <td>22.0</td>\n",
       "      <td>4.0</td>\n",
       "      <td>18.0</td>\n",
       "      <td>0.0</td>\n",
       "      <td>0.0</td>\n",
       "      <td>0.0</td>\n",
       "      <td>3.0</td>\n",
       "      <td>100.0</td>\n",
       "      <td>0.0</td>\n",
       "      <td>0.0</td>\n",
       "      <td>0.0</td>\n",
       "      <td>291626.0</td>\n",
       "      <td>74787.0</td>\n",
       "      <td>49500.0</td>\n",
       "      <td>105910.0</td>\n",
       "      <td>N</td>\n",
       "      <td>Cash</td>\n",
       "      <td>N</td>\n",
       "      <td>12000.0</td>\n",
       "    </tr>\n",
       "    <tr>\n",
       "      <th>1</th>\n",
       "      <td>25000.0</td>\n",
       "      <td>25000.0</td>\n",
       "      <td>25000.0</td>\n",
       "      <td>36 months</td>\n",
       "      <td>5.32%</td>\n",
       "      <td>752.87</td>\n",
       "      <td>A</td>\n",
       "      <td>A1</td>\n",
       "      <td>Director</td>\n",
       "      <td>1 year</td>\n",
       "      <td>MORTGAGE</td>\n",
       "      <td>150000.0</td>\n",
       "      <td>Not Verified</td>\n",
       "      <td>Dec-2015</td>\n",
       "      <td>Current</td>\n",
       "      <td>n</td>\n",
       "      <td>credit_card</td>\n",
       "      <td>Credit card refinancing</td>\n",
       "      <td>054xx</td>\n",
       "      <td>VT</td>\n",
       "      <td>9.54</td>\n",
       "      <td>0.0</td>\n",
       "      <td>Feb-1996</td>\n",
       "      <td>0.0</td>\n",
       "      <td>NaN</td>\n",
       "      <td>7.0</td>\n",
       "      <td>0.0</td>\n",
       "      <td>19339.0</td>\n",
       "      <td>42.5%</td>\n",
       "      <td>18.0</td>\n",
       "      <td>w</td>\n",
       "      <td>6628.03</td>\n",
       "      <td>6628.03</td>\n",
       "      <td>20257.290000</td>\n",
       "      <td>20257.29</td>\n",
       "      <td>18371.97</td>\n",
       "      <td>1885.32</td>\n",
       "      <td>0.0</td>\n",
       "      <td>0.0</td>\n",
       "      <td>0.0</td>\n",
       "      <td>Mar-2018</td>\n",
       "      <td>752.87</td>\n",
       "      <td>Aug-2017</td>\n",
       "      <td>0.0</td>\n",
       "      <td>1.0</td>\n",
       "      <td>Individual</td>\n",
       "      <td>0.0</td>\n",
       "      <td>0.0</td>\n",
       "      <td>430856.0</td>\n",
       "      <td>45500.0</td>\n",
       "      <td>1.0</td>\n",
       "      <td>61551.0</td>\n",
       "      <td>24661.0</td>\n",
       "      <td>44.0</td>\n",
       "      <td>0.0</td>\n",
       "      <td>0.0</td>\n",
       "      <td>166.0</td>\n",
       "      <td>238.0</td>\n",
       "      <td>4.0</td>\n",
       "      <td>4.0</td>\n",
       "      <td>7.0</td>\n",
       "      <td>73.0</td>\n",
       "      <td>NaN</td>\n",
       "      <td>0.0</td>\n",
       "      <td>1.0</td>\n",
       "      <td>1.0</td>\n",
       "      <td>3.0</td>\n",
       "      <td>3.0</td>\n",
       "      <td>4.0</td>\n",
       "      <td>4.0</td>\n",
       "      <td>7.0</td>\n",
       "      <td>1.0</td>\n",
       "      <td>7.0</td>\n",
       "      <td>0.0</td>\n",
       "      <td>0.0</td>\n",
       "      <td>0.0</td>\n",
       "      <td>1.0</td>\n",
       "      <td>100.0</td>\n",
       "      <td>0.0</td>\n",
       "      <td>0.0</td>\n",
       "      <td>0.0</td>\n",
       "      <td>512381.0</td>\n",
       "      <td>44786.0</td>\n",
       "      <td>44000.0</td>\n",
       "      <td>51081.0</td>\n",
       "      <td>N</td>\n",
       "      <td>Cash</td>\n",
       "      <td>N</td>\n",
       "      <td>25000.0</td>\n",
       "    </tr>\n",
       "    <tr>\n",
       "      <th>2</th>\n",
       "      <td>28000.0</td>\n",
       "      <td>28000.0</td>\n",
       "      <td>28000.0</td>\n",
       "      <td>60 months</td>\n",
       "      <td>18.49%</td>\n",
       "      <td>718.51</td>\n",
       "      <td>D</td>\n",
       "      <td>D5</td>\n",
       "      <td>Engineer</td>\n",
       "      <td>10+ years</td>\n",
       "      <td>MORTGAGE</td>\n",
       "      <td>75000.0</td>\n",
       "      <td>Verified</td>\n",
       "      <td>Dec-2015</td>\n",
       "      <td>Current</td>\n",
       "      <td>n</td>\n",
       "      <td>debt_consolidation</td>\n",
       "      <td>Debt consolidation</td>\n",
       "      <td>471xx</td>\n",
       "      <td>IN</td>\n",
       "      <td>31.88</td>\n",
       "      <td>0.0</td>\n",
       "      <td>Oct-2002</td>\n",
       "      <td>0.0</td>\n",
       "      <td>NaN</td>\n",
       "      <td>27.0</td>\n",
       "      <td>0.0</td>\n",
       "      <td>43413.0</td>\n",
       "      <td>51.9%</td>\n",
       "      <td>46.0</td>\n",
       "      <td>w</td>\n",
       "      <td>18904.38</td>\n",
       "      <td>18904.38</td>\n",
       "      <td>18609.350000</td>\n",
       "      <td>18609.35</td>\n",
       "      <td>9095.62</td>\n",
       "      <td>9513.73</td>\n",
       "      <td>0.0</td>\n",
       "      <td>0.0</td>\n",
       "      <td>0.0</td>\n",
       "      <td>Mar-2018</td>\n",
       "      <td>718.51</td>\n",
       "      <td>Mar-2018</td>\n",
       "      <td>0.0</td>\n",
       "      <td>1.0</td>\n",
       "      <td>Individual</td>\n",
       "      <td>0.0</td>\n",
       "      <td>0.0</td>\n",
       "      <td>193745.0</td>\n",
       "      <td>83600.0</td>\n",
       "      <td>8.0</td>\n",
       "      <td>7176.0</td>\n",
       "      <td>23476.0</td>\n",
       "      <td>59.9</td>\n",
       "      <td>0.0</td>\n",
       "      <td>0.0</td>\n",
       "      <td>143.0</td>\n",
       "      <td>158.0</td>\n",
       "      <td>4.0</td>\n",
       "      <td>4.0</td>\n",
       "      <td>2.0</td>\n",
       "      <td>10.0</td>\n",
       "      <td>16.0</td>\n",
       "      <td>0.0</td>\n",
       "      <td>14.0</td>\n",
       "      <td>20.0</td>\n",
       "      <td>14.0</td>\n",
       "      <td>18.0</td>\n",
       "      <td>9.0</td>\n",
       "      <td>24.0</td>\n",
       "      <td>34.0</td>\n",
       "      <td>20.0</td>\n",
       "      <td>27.0</td>\n",
       "      <td>0.0</td>\n",
       "      <td>0.0</td>\n",
       "      <td>0.0</td>\n",
       "      <td>2.0</td>\n",
       "      <td>100.0</td>\n",
       "      <td>50.0</td>\n",
       "      <td>0.0</td>\n",
       "      <td>0.0</td>\n",
       "      <td>267312.0</td>\n",
       "      <td>57302.0</td>\n",
       "      <td>58500.0</td>\n",
       "      <td>31758.0</td>\n",
       "      <td>N</td>\n",
       "      <td>Cash</td>\n",
       "      <td>N</td>\n",
       "      <td>28000.0</td>\n",
       "    </tr>\n",
       "    <tr>\n",
       "      <th>3</th>\n",
       "      <td>30000.0</td>\n",
       "      <td>30000.0</td>\n",
       "      <td>30000.0</td>\n",
       "      <td>36 months</td>\n",
       "      <td>15.77%</td>\n",
       "      <td>1051.31</td>\n",
       "      <td>D</td>\n",
       "      <td>D1</td>\n",
       "      <td>Vice-President</td>\n",
       "      <td>2 years</td>\n",
       "      <td>MORTGAGE</td>\n",
       "      <td>175000.0</td>\n",
       "      <td>Not Verified</td>\n",
       "      <td>Dec-2015</td>\n",
       "      <td>Fully Paid</td>\n",
       "      <td>n</td>\n",
       "      <td>home_improvement</td>\n",
       "      <td>Home improvement</td>\n",
       "      <td>430xx</td>\n",
       "      <td>OH</td>\n",
       "      <td>18.50</td>\n",
       "      <td>0.0</td>\n",
       "      <td>Aug-1997</td>\n",
       "      <td>1.0</td>\n",
       "      <td>61.0</td>\n",
       "      <td>9.0</td>\n",
       "      <td>0.0</td>\n",
       "      <td>21831.0</td>\n",
       "      <td>50.3%</td>\n",
       "      <td>23.0</td>\n",
       "      <td>w</td>\n",
       "      <td>0.00</td>\n",
       "      <td>0.00</td>\n",
       "      <td>33903.765739</td>\n",
       "      <td>33903.77</td>\n",
       "      <td>30000.00</td>\n",
       "      <td>3903.77</td>\n",
       "      <td>0.0</td>\n",
       "      <td>0.0</td>\n",
       "      <td>0.0</td>\n",
       "      <td>Dec-2016</td>\n",
       "      <td>23456.38</td>\n",
       "      <td>Sep-2017</td>\n",
       "      <td>0.0</td>\n",
       "      <td>1.0</td>\n",
       "      <td>Individual</td>\n",
       "      <td>0.0</td>\n",
       "      <td>0.0</td>\n",
       "      <td>408118.0</td>\n",
       "      <td>43400.0</td>\n",
       "      <td>7.0</td>\n",
       "      <td>51015.0</td>\n",
       "      <td>21569.0</td>\n",
       "      <td>50.3</td>\n",
       "      <td>0.0</td>\n",
       "      <td>0.0</td>\n",
       "      <td>118.0</td>\n",
       "      <td>220.0</td>\n",
       "      <td>16.0</td>\n",
       "      <td>6.0</td>\n",
       "      <td>3.0</td>\n",
       "      <td>16.0</td>\n",
       "      <td>0.0</td>\n",
       "      <td>0.0</td>\n",
       "      <td>2.0</td>\n",
       "      <td>2.0</td>\n",
       "      <td>3.0</td>\n",
       "      <td>7.0</td>\n",
       "      <td>9.0</td>\n",
       "      <td>4.0</td>\n",
       "      <td>11.0</td>\n",
       "      <td>2.0</td>\n",
       "      <td>9.0</td>\n",
       "      <td>0.0</td>\n",
       "      <td>0.0</td>\n",
       "      <td>0.0</td>\n",
       "      <td>3.0</td>\n",
       "      <td>95.7</td>\n",
       "      <td>33.3</td>\n",
       "      <td>0.0</td>\n",
       "      <td>0.0</td>\n",
       "      <td>447599.0</td>\n",
       "      <td>152571.0</td>\n",
       "      <td>43400.0</td>\n",
       "      <td>146568.0</td>\n",
       "      <td>N</td>\n",
       "      <td>Cash</td>\n",
       "      <td>N</td>\n",
       "      <td>30000.0</td>\n",
       "    </tr>\n",
       "    <tr>\n",
       "      <th>4</th>\n",
       "      <td>17600.0</td>\n",
       "      <td>17600.0</td>\n",
       "      <td>17600.0</td>\n",
       "      <td>60 months</td>\n",
       "      <td>19.89%</td>\n",
       "      <td>465.22</td>\n",
       "      <td>E</td>\n",
       "      <td>E3</td>\n",
       "      <td>RN</td>\n",
       "      <td>&lt; 1 year</td>\n",
       "      <td>RENT</td>\n",
       "      <td>44000.0</td>\n",
       "      <td>Verified</td>\n",
       "      <td>Dec-2015</td>\n",
       "      <td>Current</td>\n",
       "      <td>n</td>\n",
       "      <td>credit_card</td>\n",
       "      <td>NaN</td>\n",
       "      <td>322xx</td>\n",
       "      <td>FL</td>\n",
       "      <td>17.56</td>\n",
       "      <td>0.0</td>\n",
       "      <td>Jun-2006</td>\n",
       "      <td>0.0</td>\n",
       "      <td>NaN</td>\n",
       "      <td>7.0</td>\n",
       "      <td>0.0</td>\n",
       "      <td>12900.0</td>\n",
       "      <td>102.4%</td>\n",
       "      <td>25.0</td>\n",
       "      <td>w</td>\n",
       "      <td>12017.72</td>\n",
       "      <td>12017.72</td>\n",
       "      <td>12047.100000</td>\n",
       "      <td>12047.10</td>\n",
       "      <td>5582.28</td>\n",
       "      <td>6464.82</td>\n",
       "      <td>0.0</td>\n",
       "      <td>0.0</td>\n",
       "      <td>0.0</td>\n",
       "      <td>Mar-2018</td>\n",
       "      <td>465.22</td>\n",
       "      <td>Mar-2018</td>\n",
       "      <td>0.0</td>\n",
       "      <td>1.0</td>\n",
       "      <td>Individual</td>\n",
       "      <td>0.0</td>\n",
       "      <td>0.0</td>\n",
       "      <td>133285.0</td>\n",
       "      <td>12600.0</td>\n",
       "      <td>1.0</td>\n",
       "      <td>19041.0</td>\n",
       "      <td>0.0</td>\n",
       "      <td>102.4</td>\n",
       "      <td>0.0</td>\n",
       "      <td>0.0</td>\n",
       "      <td>112.0</td>\n",
       "      <td>114.0</td>\n",
       "      <td>25.0</td>\n",
       "      <td>13.0</td>\n",
       "      <td>0.0</td>\n",
       "      <td>25.0</td>\n",
       "      <td>NaN</td>\n",
       "      <td>0.0</td>\n",
       "      <td>3.0</td>\n",
       "      <td>3.0</td>\n",
       "      <td>3.0</td>\n",
       "      <td>3.0</td>\n",
       "      <td>21.0</td>\n",
       "      <td>3.0</td>\n",
       "      <td>4.0</td>\n",
       "      <td>3.0</td>\n",
       "      <td>7.0</td>\n",
       "      <td>0.0</td>\n",
       "      <td>0.0</td>\n",
       "      <td>0.0</td>\n",
       "      <td>0.0</td>\n",
       "      <td>100.0</td>\n",
       "      <td>100.0</td>\n",
       "      <td>0.0</td>\n",
       "      <td>0.0</td>\n",
       "      <td>139633.0</td>\n",
       "      <td>133285.0</td>\n",
       "      <td>12600.0</td>\n",
       "      <td>127033.0</td>\n",
       "      <td>N</td>\n",
       "      <td>Cash</td>\n",
       "      <td>N</td>\n",
       "      <td>17600.0</td>\n",
       "    </tr>\n",
       "  </tbody>\n",
       "</table>\n",
       "</div>"
      ],
      "text/plain": [
       "   loan_amnt  funded_amnt  funded_amnt_inv        term int_rate  installment  \\\n",
       "0    12000.0      12000.0          12000.0   60 months    9.80%       253.79   \n",
       "1    25000.0      25000.0          25000.0   36 months    5.32%       752.87   \n",
       "2    28000.0      28000.0          28000.0   60 months   18.49%       718.51   \n",
       "3    30000.0      30000.0          30000.0   36 months   15.77%      1051.31   \n",
       "4    17600.0      17600.0          17600.0   60 months   19.89%       465.22   \n",
       "\n",
       "  grade sub_grade       emp_title emp_length home_ownership  annual_inc  \\\n",
       "0     B        B3         Teacher  10+ years       MORTGAGE     65000.0   \n",
       "1     A        A1        Director     1 year       MORTGAGE    150000.0   \n",
       "2     D        D5        Engineer  10+ years       MORTGAGE     75000.0   \n",
       "3     D        D1  Vice-President    2 years       MORTGAGE    175000.0   \n",
       "4     E        E3              RN   < 1 year           RENT     44000.0   \n",
       "\n",
       "  verification_status   issue_d loan_status pymnt_plan             purpose  \\\n",
       "0        Not Verified  Dec-2015  Fully Paid          n  debt_consolidation   \n",
       "1        Not Verified  Dec-2015     Current          n         credit_card   \n",
       "2            Verified  Dec-2015     Current          n  debt_consolidation   \n",
       "3        Not Verified  Dec-2015  Fully Paid          n    home_improvement   \n",
       "4            Verified  Dec-2015     Current          n         credit_card   \n",
       "\n",
       "                     title zip_code addr_state    dti  delinq_2yrs  \\\n",
       "0       Debt consolidation    660xx         KS  23.84          0.0   \n",
       "1  Credit card refinancing    054xx         VT   9.54          0.0   \n",
       "2       Debt consolidation    471xx         IN  31.88          0.0   \n",
       "3         Home improvement    430xx         OH  18.50          0.0   \n",
       "4                      NaN    322xx         FL  17.56          0.0   \n",
       "\n",
       "  earliest_cr_line  inq_last_6mths  mths_since_last_delinq  open_acc  pub_rec  \\\n",
       "0         Nov-2003             0.0                     NaN      18.0      0.0   \n",
       "1         Feb-1996             0.0                     NaN       7.0      0.0   \n",
       "2         Oct-2002             0.0                     NaN      27.0      0.0   \n",
       "3         Aug-1997             1.0                    61.0       9.0      0.0   \n",
       "4         Jun-2006             0.0                     NaN       7.0      0.0   \n",
       "\n",
       "   revol_bal revol_util  total_acc initial_list_status  out_prncp  \\\n",
       "0     9786.0      13.4%       37.0                   w       0.00   \n",
       "1    19339.0      42.5%       18.0                   w    6628.03   \n",
       "2    43413.0      51.9%       46.0                   w   18904.38   \n",
       "3    21831.0      50.3%       23.0                   w       0.00   \n",
       "4    12900.0     102.4%       25.0                   w   12017.72   \n",
       "\n",
       "   out_prncp_inv   total_pymnt  total_pymnt_inv  total_rec_prncp  \\\n",
       "0           0.00  13842.626405         13842.63         12000.00   \n",
       "1        6628.03  20257.290000         20257.29         18371.97   \n",
       "2       18904.38  18609.350000         18609.35          9095.62   \n",
       "3           0.00  33903.765739         33903.77         30000.00   \n",
       "4       12017.72  12047.100000         12047.10          5582.28   \n",
       "\n",
       "   total_rec_int  total_rec_late_fee  recoveries  collection_recovery_fee  \\\n",
       "0        1842.63                 0.0         0.0                      0.0   \n",
       "1        1885.32                 0.0         0.0                      0.0   \n",
       "2        9513.73                 0.0         0.0                      0.0   \n",
       "3        3903.77                 0.0         0.0                      0.0   \n",
       "4        6464.82                 0.0         0.0                      0.0   \n",
       "\n",
       "  last_pymnt_d  last_pymnt_amnt last_credit_pull_d  \\\n",
       "0     Nov-2017          8529.37           Nov-2017   \n",
       "1     Mar-2018           752.87           Aug-2017   \n",
       "2     Mar-2018           718.51           Mar-2018   \n",
       "3     Dec-2016         23456.38           Sep-2017   \n",
       "4     Mar-2018           465.22           Mar-2018   \n",
       "\n",
       "   collections_12_mths_ex_med  policy_code application_type  acc_now_delinq  \\\n",
       "0                         0.0          1.0       Individual             0.0   \n",
       "1                         0.0          1.0       Individual             0.0   \n",
       "2                         0.0          1.0       Individual             0.0   \n",
       "3                         0.0          1.0       Individual             0.0   \n",
       "4                         0.0          1.0       Individual             0.0   \n",
       "\n",
       "   tot_coll_amt  tot_cur_bal  total_rev_hi_lim  acc_open_past_24mths  \\\n",
       "0           0.0     181540.0           73200.0                   8.0   \n",
       "1           0.0     430856.0           45500.0                   1.0   \n",
       "2           0.0     193745.0           83600.0                   8.0   \n",
       "3           0.0     408118.0           43400.0                   7.0   \n",
       "4           0.0     133285.0           12600.0                   1.0   \n",
       "\n",
       "   avg_cur_bal  bc_open_to_buy  bc_util  chargeoff_within_12_mths  \\\n",
       "0      10086.0         41055.0     17.1                       0.0   \n",
       "1      61551.0         24661.0     44.0                       0.0   \n",
       "2       7176.0         23476.0     59.9                       0.0   \n",
       "3      51015.0         21569.0     50.3                       0.0   \n",
       "4      19041.0             0.0    102.4                       0.0   \n",
       "\n",
       "   delinq_amnt  mo_sin_old_il_acct  mo_sin_old_rev_tl_op  \\\n",
       "0          0.0               127.0                 145.0   \n",
       "1          0.0               166.0                 238.0   \n",
       "2          0.0               143.0                 158.0   \n",
       "3          0.0               118.0                 220.0   \n",
       "4          0.0               112.0                 114.0   \n",
       "\n",
       "   mo_sin_rcnt_rev_tl_op  mo_sin_rcnt_tl  mort_acc  mths_since_recent_bc  \\\n",
       "0                    4.0             1.0       2.0                   4.0   \n",
       "1                    4.0             4.0       7.0                  73.0   \n",
       "2                    4.0             4.0       2.0                  10.0   \n",
       "3                   16.0             6.0       3.0                  16.0   \n",
       "4                   25.0            13.0       0.0                  25.0   \n",
       "\n",
       "   mths_since_recent_inq  num_accts_ever_120_pd  num_actv_bc_tl  \\\n",
       "0                   14.0                    0.0             2.0   \n",
       "1                    NaN                    0.0             1.0   \n",
       "2                   16.0                    0.0            14.0   \n",
       "3                    0.0                    0.0             2.0   \n",
       "4                    NaN                    0.0             3.0   \n",
       "\n",
       "   num_actv_rev_tl  num_bc_sats  num_bc_tl  num_il_tl  num_op_rev_tl  \\\n",
       "0              4.0          5.0       10.0       13.0           11.0   \n",
       "1              1.0          3.0        3.0        4.0            4.0   \n",
       "2             20.0         14.0       18.0        9.0           24.0   \n",
       "3              2.0          3.0        7.0        9.0            4.0   \n",
       "4              3.0          3.0        3.0       21.0            3.0   \n",
       "\n",
       "   num_rev_accts  num_rev_tl_bal_gt_0  num_sats  num_tl_120dpd_2m  \\\n",
       "0           22.0                  4.0      18.0               0.0   \n",
       "1            7.0                  1.0       7.0               0.0   \n",
       "2           34.0                 20.0      27.0               0.0   \n",
       "3           11.0                  2.0       9.0               0.0   \n",
       "4            4.0                  3.0       7.0               0.0   \n",
       "\n",
       "   num_tl_30dpd  num_tl_90g_dpd_24m  num_tl_op_past_12m  pct_tl_nvr_dlq  \\\n",
       "0           0.0                 0.0                 3.0           100.0   \n",
       "1           0.0                 0.0                 1.0           100.0   \n",
       "2           0.0                 0.0                 2.0           100.0   \n",
       "3           0.0                 0.0                 3.0            95.7   \n",
       "4           0.0                 0.0                 0.0           100.0   \n",
       "\n",
       "   percent_bc_gt_75  pub_rec_bankruptcies  tax_liens  tot_hi_cred_lim  \\\n",
       "0               0.0                   0.0        0.0         291626.0   \n",
       "1               0.0                   0.0        0.0         512381.0   \n",
       "2              50.0                   0.0        0.0         267312.0   \n",
       "3              33.3                   0.0        0.0         447599.0   \n",
       "4             100.0                   0.0        0.0         139633.0   \n",
       "\n",
       "   total_bal_ex_mort  total_bc_limit  total_il_high_credit_limit  \\\n",
       "0            74787.0         49500.0                    105910.0   \n",
       "1            44786.0         44000.0                     51081.0   \n",
       "2            57302.0         58500.0                     31758.0   \n",
       "3           152571.0         43400.0                    146568.0   \n",
       "4           133285.0         12600.0                    127033.0   \n",
       "\n",
       "  hardship_flag disbursement_method debt_settlement_flag     loan  \n",
       "0             N                Cash                    N  12000.0  \n",
       "1             N                Cash                    N  25000.0  \n",
       "2             N                Cash                    N  28000.0  \n",
       "3             N                Cash                    N  30000.0  \n",
       "4             N                Cash                    N  17600.0  "
      ]
     },
     "execution_count": 14,
     "metadata": {},
     "output_type": "execute_result"
    }
   ],
   "source": [
    "df.head()"
   ]
  },
  {
   "cell_type": "code",
   "execution_count": 15,
   "metadata": {},
   "outputs": [],
   "source": [
    "cols1 = ['term']\n",
    "df[cols1] = df[cols1].replace({' months': ''}, regex=True)\n",
    "cols2 = ['int_rate', 'revol_util']\n",
    "df[cols2] = df[cols2].replace({'%': ''}, regex=True)\n",
    "df[cols2] = df[cols2].replace({' ': ''}, regex=True)"
   ]
  },
  {
   "cell_type": "code",
   "execution_count": 16,
   "metadata": {},
   "outputs": [],
   "source": [
    "df[\"revol_util\"] = df.revol_util.astype(float)\n",
    "df[\"int_rate\"] = df.int_rate.astype(float)\n",
    "df[\"term\"] = df.term.astype(float)"
   ]
  },
  {
   "cell_type": "code",
   "execution_count": 17,
   "metadata": {},
   "outputs": [
    {
     "data": {
      "text/plain": [
       "(421095, 41)"
      ]
     },
     "execution_count": 17,
     "metadata": {},
     "output_type": "execute_result"
    }
   ],
   "source": [
    "df.hardship_flag = df.hardship_flag.replace({\"N\": 0, \"Y\": 1})\n",
    "df.grade = df.grade.replace({\"A\": 7, \"B\": 6, \"C\": 5, \"D\": 4, \"E\": 3, \"F\": 2, \"G\": 1})\n",
    "df.emp_length = df.emp_length.replace({\"10+ years\": 10, \"1 year\": 1, \"< 1 year\": .5, \"2 years\": 2, \"3 years\": 3,\n",
    "                                       \"4 years\": 4, \"5 years\": 5, \"6 years\": 6, \"7 years\": 7, \"8 years\": 8, \"9 years\": 9})\n",
    "df['default'] = df['loan_status']\n",
    "recode = {'Fully Paid': 0, 'Current': 0, 'Charged Off': 1, 'Late (31-120 days)': 0,'In Grace Period': 0,\n",
    "          'Late (16-30 days)': 0, 'Default': 1}\n",
    "df['default'] = df['default'].apply(lambda x: recode[x])\n",
    "drop_cols = ['funded_amnt', 'addr_state', 'debt_settlement_flag', 'loan_amnt', 'funded_amnt_inv', 'sub_grade', 'emp_title',\n",
    "             'issue_d', 'loan_status', 'pymnt_plan', 'last_pymnt_d', 'title', 'zip_code', 'earliest_cr_line', 'revol_bal',\n",
    "             'total_acc', 'initial_list_status', 'out_prncp', 'out_prncp_inv', 'total_pymnt', 'total_pymnt_inv',\n",
    "             'total_rec_prncp', 'total_rec_int', 'total_rec_late_fee', 'recoveries', 'collection_recovery_fee',\n",
    "             'last_pymnt_amnt', 'last_credit_pull_d', 'policy_code', 'application_type', 'tot_coll_amt', 'tot_cur_bal',\n",
    "             'total_rev_hi_lim', 'acc_open_past_24mths', 'avg_cur_bal', 'delinq_amnt', 'mort_acc', 'num_actv_rev_tl',\n",
    "             'num_bc_tl', 'num_il_tl', 'num_op_rev_tl', 'num_rev_accts', 'num_rev_tl_bal_gt_0', 'tot_hi_cred_lim',\n",
    "             'total_bal_ex_mort', 'disbursement_method', 'mths_since_last_delinq', 'mths_since_recent_inq', 'num_tl_120dpd_2m']\n",
    "data_filtered = df.drop(drop_cols, axis=1)\n",
    "data_filtered.shape "
   ]
  },
  {
   "cell_type": "code",
   "execution_count": 18,
   "metadata": {},
   "outputs": [
    {
     "data": {
      "text/plain": [
       "(421095, 41)"
      ]
     },
     "execution_count": 18,
     "metadata": {},
     "output_type": "execute_result"
    }
   ],
   "source": [
    "data_filtered = df.drop(drop_cols, axis=1)\n",
    "data_filtered.shape "
   ]
  },
  {
   "cell_type": "code",
   "execution_count": 19,
   "metadata": {},
   "outputs": [],
   "source": [
    "data_filtered.to_pickle (\"C:/Users/rmbrm/Documents/DS_WP/Predict default/Predict Default Final/data_41_variables\", compression='infer', protocol=4)\n",
    "df = data_filtered"
   ]
  },
  {
   "cell_type": "markdown",
   "metadata": {},
   "source": [
    "Check for low count values on various features; delete cases with the low count values"
   ]
  },
  {
   "cell_type": "code",
   "execution_count": 20,
   "metadata": {
    "scrolled": true
   },
   "outputs": [
    {
     "data": {
      "text/plain": [
       "MORTGAGE    207683\n",
       "RENT        167644\n",
       "OWN          45766\n",
       "ANY              2\n",
       "Name: home_ownership, dtype: int64"
      ]
     },
     "execution_count": 20,
     "metadata": {},
     "output_type": "execute_result"
    }
   ],
   "source": [
    "df['home_ownership'].value_counts()"
   ]
  },
  {
   "cell_type": "code",
   "execution_count": 21,
   "metadata": {},
   "outputs": [
    {
     "data": {
      "text/plain": [
       "Source Verified    179565\n",
       "Verified           123016\n",
       "Not Verified       118514\n",
       "Name: verification_status, dtype: int64"
      ]
     },
     "execution_count": 21,
     "metadata": {},
     "output_type": "execute_result"
    }
   ],
   "source": [
    "df['verification_status'].value_counts()"
   ]
  },
  {
   "cell_type": "code",
   "execution_count": 22,
   "metadata": {},
   "outputs": [
    {
     "data": {
      "text/plain": [
       "debt_consolidation    250020\n",
       "credit_card           102025\n",
       "home_improvement       25293\n",
       "other                  19204\n",
       "major_purchase          7449\n",
       "medical                 3938\n",
       "car                     3466\n",
       "small_business          3364\n",
       "moving                  2420\n",
       "vacation                2249\n",
       "house                   1438\n",
       "renewable_energy         224\n",
       "wedding                    4\n",
       "educational                1\n",
       "Name: purpose, dtype: int64"
      ]
     },
     "execution_count": 22,
     "metadata": {},
     "output_type": "execute_result"
    }
   ],
   "source": [
    "df['purpose'].value_counts()"
   ]
  },
  {
   "cell_type": "code",
   "execution_count": 23,
   "metadata": {},
   "outputs": [],
   "source": [
    "df.verification_status = df.verification_status.replace({\"Source Verified\": 1, \"Verified\": 2, \"Not Verified\": 3})\n",
    "df.purpose = df.purpose.replace({\"debt_consolidation\": 1, \"credit_card\": 2, \"home_improvement\": 3, \"other\": 4,\n",
    "                                 \"major_purchase\": 5, \"medical\": 6, \"car\": 7, \"small_business\": 8, \"moving\": 9,\n",
    "                                 \"vacation\": 10, \"house\": 11})\n",
    "df.home_ownership = df.home_ownership.replace({\"MORTGAGE\": 1, \"RENT\": 2, \"OWN\": 3})"
   ]
  },
  {
   "cell_type": "code",
   "execution_count": 24,
   "metadata": {},
   "outputs": [],
   "source": [
    "df = df[df.purpose != 'wedding']\n",
    "df = df[df.purpose != 'educational']\n",
    "df = df[df.purpose != 'renewable_energy']\n",
    "df = df[df.home_ownership != 'ANY']"
   ]
  },
  {
   "cell_type": "code",
   "execution_count": 25,
   "metadata": {},
   "outputs": [],
   "source": [
    "df.to_pickle (\"C:/Users/rmbrm/Documents/DS_WP/Predict default/Predict Default Final/data_processed\", compression='infer', protocol=4)"
   ]
  },
  {
   "cell_type": "markdown",
   "metadata": {},
   "source": [
    "Back to [top](#top) "
   ]
  },
  {
   "cell_type": "markdown",
   "metadata": {},
   "source": [
    "<a id='Step_5'></a>"
   ]
  },
  {
   "cell_type": "markdown",
   "metadata": {},
   "source": [
    "#### Step 5: Consider characteristics of the data and the goal of the project to formulate and implement a machine learning plan\n",
    "- There are many features, so an algorithm that does not require scaling or one-hot encoding is a good starting point \n",
    "- Ergo, run a random forests\n",
    "- Iteratively investigate feature importance to see if features can be removed without having a great effect on prediction accuracy\n",
    "- With a predictive model finalized, run the analysis with cross validation rather than just train/test split to ensure model generalizability\n",
    "\n"
   ]
  },
  {
   "cell_type": "code",
   "execution_count": 26,
   "metadata": {},
   "outputs": [],
   "source": [
    "df = df.dropna()"
   ]
  },
  {
   "cell_type": "code",
   "execution_count": 27,
   "metadata": {
    "scrolled": true
   },
   "outputs": [
    {
     "data": {
      "text/plain": [
       "(353257, 41)"
      ]
     },
     "execution_count": 27,
     "metadata": {},
     "output_type": "execute_result"
    }
   ],
   "source": [
    "df.shape"
   ]
  },
  {
   "cell_type": "code",
   "execution_count": 28,
   "metadata": {},
   "outputs": [
    {
     "data": {
      "text/plain": [
       "(numpy.ndarray, numpy.ndarray)"
      ]
     },
     "execution_count": 28,
     "metadata": {},
     "output_type": "execute_result"
    }
   ],
   "source": [
    "features = df.drop(df.columns[40], axis=1).values \n",
    "target = df['default'].values\n",
    "#QC \n",
    "type (features), type(target)"
   ]
  },
  {
   "cell_type": "code",
   "execution_count": 29,
   "metadata": {},
   "outputs": [
    {
     "name": "stdout",
     "output_type": "stream",
     "text": [
      "[[60.0 9.8 253.79 ... 105910.0 0 12000.0]\n",
      " [36.0 5.32 752.87 ... 51081.0 0 25000.0]\n",
      " [60.0 18.49 718.51 ... 31758.0 0 28000.0]\n",
      " ...\n",
      " [60.0 19.99 317.86 ... 69919.0 0 12000.0]\n",
      " [60.0 15.99 316.07 ... 33239.0 0 13000.0]\n",
      " [36.0 11.99 664.2 ... 0.0 0 20000.0]]\n"
     ]
    }
   ],
   "source": [
    "#QC \n",
    "print(features)"
   ]
  },
  {
   "cell_type": "code",
   "execution_count": 30,
   "metadata": {},
   "outputs": [
    {
     "name": "stdout",
     "output_type": "stream",
     "text": [
      "[0 0 0 ... 1 1 0]\n"
     ]
    }
   ],
   "source": [
    "#QC \n",
    "print(target)"
   ]
  },
  {
   "cell_type": "markdown",
   "metadata": {},
   "source": [
    "##### Note\n",
    "QC steps shown above were run throughout this project, but have been omitted for brevity."
   ]
  },
  {
   "cell_type": "code",
   "execution_count": 32,
   "metadata": {
    "scrolled": false
   },
   "outputs": [
    {
     "name": "stdout",
     "output_type": "stream",
     "text": [
      "Accuracy on training set: 1.000\n",
      "Accuracy on test set: 0.854\n"
     ]
    }
   ],
   "source": [
    "from sklearn.ensemble import RandomForestClassifier\n",
    "from sklearn.model_selection import train_test_split\n",
    "X_train, X_test, y_train, y_test = train_test_split(features, target, random_state = 42)\n",
    "forest = RandomForestClassifier(n_estimators = 100, random_state = 42)\n",
    "forest.fit(X_train, y_train)\n",
    "\n",
    "print(\"Accuracy on training set: {:.3f}\".format(forest.score(X_train, y_train)))\n",
    "print(\"Accuracy on test set: {:.3f}\".format(forest.score( X_test, y_test)))\n"
   ]
  },
  {
   "cell_type": "code",
   "execution_count": 33,
   "metadata": {
    "scrolled": false
   },
   "outputs": [
    {
     "name": "stdout",
     "output_type": "stream",
     "text": [
      "Feature ranking:\n",
      "1. feature 1 (0.055382)\n",
      "2. feature 9 (0.053760)\n",
      "3. feature 21 (0.050187)\n",
      "4. feature 20 (0.048370)\n",
      "5. feature 14 (0.048241)\n",
      "6. feature 36 (0.048076)\n",
      "7. feature 17 (0.047976)\n",
      "8. feature 37 (0.046817)\n",
      "9. feature 2 (0.046501)\n",
      "10. feature 18 (0.046459)\n",
      "11. feature 6 (0.045371)\n",
      "12. feature 24 (0.037675)\n",
      "13. feature 39 (0.037403)\n",
      "14. feature 22 (0.031806)\n",
      "15. feature 28 (0.029101)\n",
      "16. feature 12 (0.028824)\n",
      "17. feature 23 (0.028712)\n",
      "18. feature 32 (0.028229)\n",
      "19. feature 3 (0.024467)\n",
      "20. feature 4 (0.024177)\n",
      "21. feature 27 (0.023469)\n",
      "22. feature 33 (0.023395)\n",
      "23. feature 26 (0.022620)\n",
      "24. feature 31 (0.020769)\n",
      "25. feature 8 (0.014574)\n",
      "26. feature 11 (0.013245)\n",
      "27. feature 25 (0.011907)\n",
      "28. feature 7 (0.011105)\n",
      "29. feature 5 (0.009928)\n",
      "30. feature 10 (0.009706)\n",
      "31. feature 13 (0.007465)\n",
      "32. feature 0 (0.005742)\n",
      "33. feature 34 (0.005590)\n",
      "34. feature 30 (0.004212)\n",
      "35. feature 35 (0.003629)\n",
      "36. feature 15 (0.002547)\n",
      "37. feature 19 (0.001340)\n",
      "38. feature 16 (0.000687)\n",
      "39. feature 29 (0.000532)\n",
      "40. feature 38 (0.000007)\n"
     ]
    },
    {
     "data": {
      "image/png": "[encoded data removed]",
      "text/plain": [
       "<Figure size 1440x720 with 1 Axes>"
      ]
     },
     "metadata": {},
     "output_type": "display_data"
    }
   ],
   "source": [
    "importances = forest.feature_importances_\n",
    "std = np.std([tree.feature_importances_ for tree in forest.estimators_],\n",
    "             axis=0)\n",
    "indices = np.argsort(importances)[::-1]\n",
    "\n",
    "# Print the feature ranking\n",
    "print(\"Feature ranking:\")\n",
    "\n",
    "for f in range(X_train.shape[1]):\n",
    "    print(\"%d. feature %d (%f)\" % (f + 1, indices[f], importances[indices[f]]))\n",
    "\n",
    "# Plot the feature importances of the forest\n",
    "plt.figure(figsize=(20,10))\n",
    "plt.title(\"Feature importances\")\n",
    "plt.bar(range(X_train.shape[1]), importances[indices],\n",
    "       color=\"r\", yerr=std[indices], align=\"center\")\n",
    "plt.xticks(range(X_train.shape[1]), indices)\n",
    "plt.xlim([-1, X_train.shape[1]])\n",
    "plt.show()"
   ]
  },
  {
   "cell_type": "code",
   "execution_count": 34,
   "metadata": {},
   "outputs": [
    {
     "data": {
      "text/plain": [
       "(353257, 21)"
      ]
     },
     "execution_count": 34,
     "metadata": {},
     "output_type": "execute_result"
    }
   ],
   "source": [
    "feature_list = df.dtypes\n",
    "feature_list.to_excel('C:/Users/rmbrm/Documents/DS_WP/Predict default/Predict Default Final/feature_list.xlsx')\n",
    "bottom_20 = ['term', 'grade', 'home_ownership', 'verification_status', 'purpose', 'delinq_2yrs', 'inq_last_6mths',\n",
    "             'pub_rec', 'collections_12_mths_ex_med', 'acc_now_delinq', 'chargeoff_within_12_mths', 'num_accts_ever_120_pd',\n",
    "             'num_actv_bc_tl', 'num_tl_30dpd', 'num_tl_90g_dpd_24m', 'num_tl_op_past_12m', 'percent_bc_gt_75',\n",
    "             'pub_rec_bankruptcies', 'tax_liens', 'hardship_flag']\n",
    "data_filtered = df.drop(bottom_20, axis=1)\n",
    "df = data_filtered\n",
    "df.shape"
   ]
  },
  {
   "cell_type": "code",
   "execution_count": 35,
   "metadata": {
    "collapsed": true
   },
   "outputs": [
    {
     "data": {
      "text/plain": [
       "(numpy.ndarray, numpy.ndarray)"
      ]
     },
     "execution_count": 35,
     "metadata": {},
     "output_type": "execute_result"
    }
   ],
   "source": [
    "features = df.drop(df.columns[20], axis=1).values \n",
    "target = df['default'].values"
   ]
  },
  {
   "cell_type": "code",
   "execution_count": 39,
   "metadata": {
    "scrolled": false
   },
   "outputs": [
    {
     "name": "stdout",
     "output_type": "stream",
     "text": [
      "Accuracy on training set: 1.000\n",
      "Accuracy on test set: 0.854\n"
     ]
    }
   ],
   "source": [
    "X_train, X_test, y_train, y_test = train_test_split(features, target, random_state = 42)\n",
    "forest = RandomForestClassifier(n_estimators = 100, random_state = 42)\n",
    "forest.fit(X_train, y_train)\n",
    "\n",
    "print(\"Accuracy on training set: {:.3f}\".format(forest.score(X_train, y_train)))\n",
    "print(\"Accuracy on test set: {:.3f}\".format(forest.score( X_test, y_test)))"
   ]
  },
  {
   "cell_type": "code",
   "execution_count": 40,
   "metadata": {
    "scrolled": false
   },
   "outputs": [
    {
     "name": "stdout",
     "output_type": "stream",
     "text": [
      "Feature ranking:\n",
      "1. feature 0 (0.083710)\n",
      "2. feature 4 (0.065978)\n",
      "3. feature 10 (0.062160)\n",
      "4. feature 7 (0.059878)\n",
      "5. feature 17 (0.059820)\n",
      "6. feature 9 (0.059803)\n",
      "7. feature 6 (0.059434)\n",
      "8. feature 18 (0.058063)\n",
      "9. feature 1 (0.057769)\n",
      "10. feature 8 (0.057742)\n",
      "11. feature 3 (0.054832)\n",
      "12. feature 19 (0.045082)\n",
      "13. feature 13 (0.044284)\n",
      "14. feature 11 (0.036339)\n",
      "15. feature 16 (0.036230)\n",
      "16. feature 5 (0.033735)\n",
      "17. feature 15 (0.033382)\n",
      "18. feature 12 (0.033040)\n",
      "19. feature 14 (0.029811)\n",
      "20. feature 2 (0.028908)\n"
     ]
    },
    {
     "data": {
      "image/png": "[encoded data removed]",
      "text/plain": [
       "<Figure size 1440x720 with 1 Axes>"
      ]
     },
     "metadata": {},
     "output_type": "display_data"
    }
   ],
   "source": [
    "importances = forest.feature_importances_\n",
    "std = np.std([tree.feature_importances_ for tree in forest.estimators_],\n",
    "             axis=0)\n",
    "indices = np.argsort(importances)[::-1]\n",
    "\n",
    "# Print the feature ranking\n",
    "print(\"Feature ranking:\")\n",
    "\n",
    "for f in range(X_train.shape[1]):\n",
    "    print(\"%d. feature %d (%f)\" % (f + 1, indices[f], importances[indices[f]]))\n",
    "\n",
    "# Plot the feature importances of the forest\n",
    "plt.figure(figsize=(20,10))\n",
    "plt.title(\"Feature importances\")\n",
    "plt.bar(range(X_train.shape[1]), importances[indices],\n",
    "       color=\"r\", yerr=std[indices], align=\"center\")\n",
    "plt.xticks(range(X_train.shape[1]), indices)\n",
    "plt.xlim([-1, X_train.shape[1]])\n",
    "plt.show()"
   ]
  },
  {
   "cell_type": "code",
   "execution_count": 41,
   "metadata": {},
   "outputs": [
    {
     "data": {
      "text/plain": [
       "(353257, 12)"
      ]
     },
     "execution_count": 41,
     "metadata": {},
     "output_type": "execute_result"
    }
   ],
   "source": [
    "feature_list2 = df.dtypes\n",
    "feature_list2.to_excel('C:/Users/rmbrm/Documents/DS_WP/Predict default/Predict Default Final/feature_list2.xlsx')\n",
    "bottom_9 = ['emp_length', 'open_acc', 'mo_sin_rcnt_rev_tl_op', 'mo_sin_rcnt_tl', 'mths_since_recent_bc', 'num_bc_sats',\n",
    "            'num_sats', 'pct_tl_nvr_dlq', 'loan']\n",
    "data_filtered = df.drop(bottom_9, axis=1)\n",
    "df = data_filtered\n",
    "df.shape"
   ]
  },
  {
   "cell_type": "code",
   "execution_count": 42,
   "metadata": {
    "collapsed": true
   },
   "outputs": [
    {
     "data": {
      "text/plain": [
       "(numpy.ndarray, numpy.ndarray)"
      ]
     },
     "execution_count": 42,
     "metadata": {},
     "output_type": "execute_result"
    }
   ],
   "source": [
    "features = df.drop(df.columns[11], axis=1).values \n",
    "target = df['default'].values"
   ]
  },
  {
   "cell_type": "code",
   "execution_count": 45,
   "metadata": {
    "scrolled": false
   },
   "outputs": [
    {
     "name": "stdout",
     "output_type": "stream",
     "text": [
      "Accuracy on training set: 1.000\n",
      "Accuracy on test set: 0.854\n"
     ]
    }
   ],
   "source": [
    "X_train, X_test, y_train, y_test = train_test_split(features, target, random_state = 42)\n",
    "forest = RandomForestClassifier(n_estimators = 100, random_state = 42)\n",
    "forest.fit(X_train, y_train)\n",
    "\n",
    "print(\"Accuracy on training set: {:.3f}\".format(forest.score(X_train, y_train)))\n",
    "print(\"Accuracy on test set: {:.3f}\".format(forest.score( X_test, y_test)))"
   ]
  },
  {
   "cell_type": "code",
   "execution_count": 46,
   "metadata": {
    "scrolled": false
   },
   "outputs": [
    {
     "name": "stdout",
     "output_type": "stream",
     "text": [
      "Feature ranking:\n",
      "1. feature 0 (0.100236)\n",
      "2. feature 3 (0.099746)\n",
      "3. feature 1 (0.092544)\n",
      "4. feature 4 (0.091161)\n",
      "5. feature 8 (0.091004)\n",
      "6. feature 10 (0.091002)\n",
      "7. feature 5 (0.090087)\n",
      "8. feature 7 (0.088441)\n",
      "9. feature 9 (0.088263)\n",
      "10. feature 6 (0.086806)\n",
      "11. feature 2 (0.080710)\n"
     ]
    },
    {
     "data": {
      "image/png": "[encoded data removed]",
      "text/plain": [
       "<Figure size 1440x720 with 1 Axes>"
      ]
     },
     "metadata": {},
     "output_type": "display_data"
    }
   ],
   "source": [
    "importances = forest.feature_importances_\n",
    "std = np.std([tree.feature_importances_ for tree in forest.estimators_],\n",
    "             axis=0)\n",
    "indices = np.argsort(importances)[::-1]\n",
    "\n",
    "# Print the feature ranking\n",
    "print(\"Feature ranking:\")\n",
    "\n",
    "for f in range(X_train.shape[1]):\n",
    "    print(\"%d. feature %d (%f)\" % (f + 1, indices[f], importances[indices[f]]))\n",
    "\n",
    "# Plot the feature importances of the forest\n",
    "plt.figure(figsize=(20,10))\n",
    "plt.title(\"Feature importances\")\n",
    "plt.bar(range(X_train.shape[1]), importances[indices],\n",
    "       color=\"r\", yerr=std[indices], align=\"center\")\n",
    "plt.xticks(range(X_train.shape[1]), indices)\n",
    "plt.xlim([-1, X_train.shape[1]])\n",
    "plt.show()"
   ]
  },
  {
   "cell_type": "code",
   "execution_count": 47,
   "metadata": {
    "collapsed": true
   },
   "outputs": [
    {
     "data": {
      "text/plain": [
       "(353257, 6)"
      ]
     },
     "execution_count": 47,
     "metadata": {},
     "output_type": "execute_result"
    }
   ],
   "source": [
    "feature_list3 = df.dtypes\n",
    "feature_list3.to_excel('C:/Users/rmbrm/Documents/DS_WP/Predict default/Predict Default Final/feature_list3.xlsx')\n",
    "bottom_6 = ['annual_inc', 'bc_open_to_buy', 'bc_util', 'mo_sin_old_il_acct', 'total_bc_limit', 'total_il_high_credit_limit']\n",
    "data_filtered = df.drop(bottom_6, axis=1)\n",
    "df = data_filtered\n",
    "df.shape"
   ]
  },
  {
   "cell_type": "code",
   "execution_count": 49,
   "metadata": {
    "collapsed": true
   },
   "outputs": [
    {
     "data": {
      "text/plain": [
       "(numpy.ndarray, numpy.ndarray)"
      ]
     },
     "execution_count": 49,
     "metadata": {},
     "output_type": "execute_result"
    }
   ],
   "source": [
    "features = df.drop(df.columns[5], axis=1).values \n",
    "target = df['default'].values"
   ]
  },
  {
   "cell_type": "code",
   "execution_count": 52,
   "metadata": {
    "scrolled": false
   },
   "outputs": [
    {
     "name": "stdout",
     "output_type": "stream",
     "text": [
      "Accuracy on training set: 1.000\n",
      "Accuracy on test set: 0.851\n"
     ]
    }
   ],
   "source": [
    "X_train, X_test, y_train, y_test = train_test_split(features, target, random_state = 42)\n",
    "forest = RandomForestClassifier(n_estimators = 100, random_state = 42)\n",
    "forest.fit(X_train, y_train)\n",
    "\n",
    "print(\"Accuracy on training set: {:.3f}\".format(forest.score(X_train, y_train)))\n",
    "print(\"Accuracy on test set: {:.3f}\".format(forest.score( X_test, y_test)))"
   ]
  },
  {
   "cell_type": "code",
   "execution_count": 53,
   "metadata": {
    "scrolled": false
   },
   "outputs": [
    {
     "name": "stdout",
     "output_type": "stream",
     "text": [
      "Feature ranking:\n",
      "1. feature 2 (0.236933)\n",
      "2. feature 3 (0.226616)\n",
      "3. feature 1 (0.200177)\n",
      "4. feature 4 (0.198367)\n",
      "5. feature 0 (0.137906)\n"
     ]
    },
    {
     "data": {
      "image/png": "[encoded data removed]",
      "text/plain": [
       "<Figure size 1440x720 with 1 Axes>"
      ]
     },
     "metadata": {},
     "output_type": "display_data"
    }
   ],
   "source": [
    "importances = forest.feature_importances_\n",
    "std = np.std([tree.feature_importances_ for tree in forest.estimators_],\n",
    "             axis=0)\n",
    "indices = np.argsort(importances)[::-1]\n",
    "\n",
    "# Print the feature ranking\n",
    "print(\"Feature ranking:\")\n",
    "\n",
    "for f in range(X_train.shape[1]):\n",
    "    print(\"%d. feature %d (%f)\" % (f + 1, indices[f], importances[indices[f]]))\n",
    "\n",
    "# Plot the feature importances of the forest\n",
    "plt.figure(figsize=(20,10))\n",
    "plt.title(\"Feature importances\")\n",
    "plt.bar(range(X_train.shape[1]), importances[indices],\n",
    "       color=\"r\", yerr=std[indices], align=\"center\")\n",
    "plt.xticks(range(X_train.shape[1]), indices)\n",
    "plt.xlim([-1, X_train.shape[1]])\n",
    "plt.show()"
   ]
  },
  {
   "cell_type": "code",
   "execution_count": 53,
   "metadata": {
    "scrolled": false
   },
   "outputs": [
    {
     "name": "stdout",
     "output_type": "stream",
     "text": [
      "Feature ranking:\n",
      "1. feature 2 (0.236933)\n",
      "2. feature 3 (0.226616)\n",
      "3. feature 1 (0.200177)\n",
      "4. feature 4 (0.198367)\n",
      "5. feature 0 (0.137906)\n"
     ]
    },
    {
     "data": {
      "image/png": "[encoded data removed]",
      "text/plain": [
       "<Figure size 1440x720 with 1 Axes>"
      ]
     },
     "metadata": {},
     "output_type": "display_data"
    }
   ],
   "source": [
    "importances = forest.feature_importances_\n",
    "std = np.std([tree.feature_importances_ for tree in forest.estimators_],\n",
    "             axis=0)\n",
    "indices = np.argsort(importances)[::-1]\n",
    "\n",
    "# Print the feature ranking\n",
    "print(\"Feature ranking:\")\n",
    "\n",
    "for f in range(X_train.shape[1]):\n",
    "    print(\"%d. feature %d (%f)\" % (f + 1, indices[f], importances[indices[f]]))\n",
    "\n",
    "# Plot the feature importances of the forest\n",
    "plt.figure(figsize=(20,10))\n",
    "plt.title(\"Feature importances\")\n",
    "plt.bar(range(X_train.shape[1]), importances[indices],\n",
    "       color=\"r\", yerr=std[indices], align=\"center\")\n",
    "plt.xticks(range(X_train.shape[1]), indices)\n",
    "plt.xlim([-1, X_train.shape[1]])\n",
    "plt.show()"
   ]
  },
  {
   "cell_type": "markdown",
   "metadata": {},
   "source": [
    "<a id='Finding_I'></a>"
   ]
  },
  {
   "cell_type": "markdown",
   "metadata": {},
   "source": [
    "#### Finding I\n",
    "Going from 40 features to 5 features, accuracy was only reduced by .003, ending up at .851."
   ]
  },
  {
   "cell_type": "markdown",
   "metadata": {},
   "source": [
    "<a id='Finding_II'></a>"
   ]
  },
  {
   "cell_type": "markdown",
   "metadata": {},
   "source": [
    "#### Finding II\n",
    "Using the iterative process to winnow features from 40 down to five arrived at five final features that were in the top five just more than half the time for each of the previous iterations. The rankings of the final five features in the first three iterations are as follows:\n",
    "\n",
    "Final five rankings in the first iteration:\n",
    "2, 3, 10, 15, 22\n",
    "\n",
    "Final five rankings in the second iteration:\n",
    "1, 2, 5, 7, 11\n",
    "\n",
    "Final five rankings in the third iteration:\n",
    "1, 2, 4, 5, 9"
   ]
  },
  {
   "cell_type": "markdown",
   "metadata": {},
   "source": [
    "Back to [top](#top) "
   ]
  },
  {
   "cell_type": "markdown",
   "metadata": {},
   "source": [
    "<a id='Step_6'></a>"
   ]
  },
  {
   "cell_type": "markdown",
   "metadata": {},
   "source": [
    "#### Step 6: How does this result stack up? Compare results to cross validation and another algorithm\n",
    "\n",
    "- With a predictive model finalized, run the analysis with cross validation rather than just train/test split to ensure model generalizability\n",
    "- Compare results to naive Bayes, both on final most effective features as determined from the random forest iterations, and naive Bayes on the initial 40 features.\n",
    "\n"
   ]
  },
  {
   "cell_type": "code",
   "execution_count": 4,
   "metadata": {},
   "outputs": [],
   "source": [
    "df = pd.read_pickle(\"C:/Users/rmbrm/Documents/DS_WP/Predict default/Predict Default Final/data_for_hyper_tuning\") \n",
    "features = df.drop(df.columns[5], axis=1).values \n",
    "target = df['default'].values"
   ]
  },
  {
   "cell_type": "code",
   "execution_count": 8,
   "metadata": {},
   "outputs": [
    {
     "name": "stdout",
     "output_type": "stream",
     "text": [
      "Cross-validation scores: [0.85335405 0.85180719 0.84379883]\n",
      "Average cross-validation score: 0.850\n"
     ]
    }
   ],
   "source": [
    "# cross val with three folds on final five features \n",
    "from sklearn.model_selection import cross_val_score\n",
    "from sklearn.ensemble import RandomForestClassifier\n",
    "forest = RandomForestClassifier(n_estimators = 100, random_state = 42)\n",
    "scores = cross_val_score(forest, features, target)\n",
    "\n",
    "print('Cross validation with three folds on final five features:')\n",
    "print(\"Cross-validation scores: {}\".format(scores))\n",
    "print(\"Average cross-validation score: {:.3f}\".format(scores.mean()))\n"
   ]
  },
  {
   "cell_type": "code",
   "execution_count": 9,
   "metadata": {},
   "outputs": [
    {
     "name": "stdout",
     "output_type": "stream",
     "text": [
      "Cross-validation scores: [0.85341033 0.85337787 0.85237293 0.85108491 0.85095752]\n",
      "Average cross-validation score: 0.852\n"
     ]
    }
   ],
   "source": [
    "# cross val with five folds\n",
    "\n",
    "from sklearn.model_selection import cross_val_score\n",
    "from sklearn.ensemble import RandomForestClassifier\n",
    "forest = RandomForestClassifier(n_estimators = 100, random_state = 42)\n",
    "scores = cross_val_score(forest, features, target, cv=5)\n",
    "print(\"Cross-validation scores: {}\".format(scores))\n",
    "print(\"Average cross-validation score: {:.3f}\".format(scores.mean()))\n"
   ]
  },
  {
   "cell_type": "code",
   "execution_count": 10,
   "metadata": {},
   "outputs": [
    {
     "name": "stdout",
     "output_type": "stream",
     "text": [
      "Accuracy on training set: 0.849\n",
      "Accuracy on test set: 0.850\n"
     ]
    }
   ],
   "source": [
    "# Bayes on five features\n",
    "\n",
    "from sklearn.naive_bayes import GaussianNB\n",
    "from sklearn.cross_validation import train_test_split\n",
    "\n",
    "from sklearn.metrics import accuracy_score\n",
    "\n",
    "#df = pd.read_pickle(\"C:/Users/rmbrm/Documents/DS_WP/Predict default/Predict Default Final/data_for_hyper_tuning\") \n",
    "\n",
    "\n",
    "X_train, X_test, y_train, y_test = train_test_split(features, target)\n",
    "clf = GaussianNB()\n",
    "clf.fit(X_train, y_train)\n",
    "\n",
    "print(\"Bayes on five features:\")\n",
    "print(\"Accuracy on training set: {:.3f}\".format(clf.score(X_train, y_train)))\n",
    "print(\"Accuracy on test set: {:.3f}\".format(clf.score(X_test, y_test)))\n"
   ]
  },
  {
   "cell_type": "code",
   "execution_count": 12,
   "metadata": {
    "collapsed": true
   },
   "outputs": [
    {
     "data": {
      "text/plain": [
       "(353257, 41)"
      ]
     },
     "execution_count": 12,
     "metadata": {},
     "output_type": "execute_result"
    }
   ],
   "source": [
    "df = pd.read_pickle(\"C:/Users/rmbrm/Documents/DS_WP/Predict default/Predict Default Final/data_41_cleaned\") \n",
    "features = df.drop(df.columns[40], axis=1).values \n",
    "target = df['default'].values"
   ]
  },
  {
   "cell_type": "code",
   "execution_count": 16,
   "metadata": {},
   "outputs": [
    {
     "name": "stdout",
     "output_type": "stream",
     "text": [
      "Accuracy on training set: 0.785\n",
      "Accuracy on test set: 0.785\n"
     ]
    }
   ],
   "source": [
    "# Bayes on 40 features\n",
    "\n",
    "X_train, X_test, y_train, y_test = train_test_split(features, target)\n",
    "clf = GaussianNB()\n",
    "clf.fit(X_train, y_train)\n",
    "print(\"Bayes on 40 features:\")\n",
    "print(\"Accuracy on training set: {:.3f}\".format(clf.score(X_train, y_train)))\n",
    "print(\"Accuracy on test set: {:.3f}\".format(clf.score(X_test, y_test)))\n"
   ]
  },
  {
   "cell_type": "markdown",
   "metadata": {},
   "source": [
    "<a id='Finding_III'></a>"
   ]
  },
  {
   "cell_type": "markdown",
   "metadata": {},
   "source": [
    "#### Finding III\n",
    "Using the final five features derived from the winnowing process, both random forests cross validation and naive Bayes resulted in the same .85 accuracy, demonstrating that .85 is robust, and not improved upon by another easy-to-slot-in algorithm."
   ]
  },
  {
   "cell_type": "markdown",
   "metadata": {},
   "source": [
    "<a id='Finding_IV'></a>"
   ]
  },
  {
   "cell_type": "markdown",
   "metadata": {},
   "source": [
    "#### Finding IV\n",
    "Naive Bayes on the initial 40 features produced accuracy of .79."
   ]
  },
  {
   "cell_type": "markdown",
   "metadata": {},
   "source": [
    "Back to [top](#top) "
   ]
  },
  {
   "cell_type": "markdown",
   "metadata": {},
   "source": [
    "<a id='Step_7'></a>"
   ]
  },
  {
   "cell_type": "markdown",
   "metadata": {},
   "source": [
    "#### Step 7: Random grid search for hyperparameter tuning\n",
    "\n",
    "- Investigate whether base predictive capacity can be improved by applying randomly sampled hyperparameter values, using a random hyperparameter grid and randomized search cross validation, based on a method described here: https://towardsdatascience.com/hyperparameter-tuning-the-random-forest-in-python-using-scikit-learn-28d2aa77dd74\n",
    "- Running the analyses on all data was not practical (it took hours). Instead I sampled the data set and compared outcomes from various sample sizes. The code and results for a sample of .5% of the 353,257 cases are shown, followed by results from several additional samples."
   ]
  },
  {
   "cell_type": "code",
   "execution_count": 55,
   "metadata": {},
   "outputs": [
    {
     "name": "stdout",
     "output_type": "stream",
     "text": [
      "'Parameters currently in use:\\n'\n",
      "{'bootstrap': True,\n",
      " 'class_weight': None,\n",
      " 'criterion': 'gini',\n",
      " 'max_depth': None,\n",
      " 'max_features': 'auto',\n",
      " 'max_leaf_nodes': None,\n",
      " 'min_impurity_decrease': 0.0,\n",
      " 'min_impurity_split': None,\n",
      " 'min_samples_leaf': 1,\n",
      " 'min_samples_split': 2,\n",
      " 'min_weight_fraction_leaf': 0.0,\n",
      " 'n_estimators': 100,\n",
      " 'n_jobs': 1,\n",
      " 'oob_score': False,\n",
      " 'random_state': 42,\n",
      " 'verbose': 0,\n",
      " 'warm_start': False}\n"
     ]
    }
   ],
   "source": [
    "# What are default hyperparameters\n",
    "from pprint import pprint\n",
    "pprint('Parameters currently in use:\\n')\n",
    "pprint(forest.get_params())"
   ]
  },
  {
   "cell_type": "code",
   "execution_count": 56,
   "metadata": {},
   "outputs": [
    {
     "name": "stdout",
     "output_type": "stream",
     "text": [
      "{'bootstrap': [True, False],\n",
      " 'max_depth': [10, 20, 30, 40, 50, 60, 70, 80, 90, 100, 110, None],\n",
      " 'max_features': ['auto', 'sqrt'],\n",
      " 'min_samples_leaf': [1, 2, 4],\n",
      " 'min_samples_split': [2, 5, 10],\n",
      " 'n_estimators': [200, 400, 600, 800, 1000, 1200, 1400, 1600, 1800, 2000]}\n"
     ]
    },
    {
     "data": {
      "text/plain": [
       "{'bootstrap': [True, False],\n",
       " 'max_depth': [10, 20, 30, 40, 50, 60, 70, 80, 90, 100, None],\n",
       " 'max_features': ['auto', 'sqrt'],\n",
       " 'min_samples_leaf': [1, 2, 4],\n",
       " 'min_samples_split': [2, 5, 10],\n",
       " 'n_estimators': [200, 400, 600, 800, 1000, 1200, 1400, 1600, 1800, 2000]}"
      ]
     },
     "execution_count": 56,
     "metadata": {},
     "output_type": "execute_result"
    }
   ],
   "source": [
    "# CREATE THE SEARCH GRID\n",
    "\n",
    "from sklearn.model_selection import RandomizedSearchCV\n",
    "# Number of trees in random forest\n",
    "n_estimators = [int(x) for x in np.linspace(start = 200, stop = 2000, num = 10)]\n",
    "# Number of features to consider at every split\n",
    "max_features = ['auto', 'sqrt']\n",
    "# Maximum number of levels in tree\n",
    "max_depth = [int(x) for x in np.linspace(10, 110, num = 11)]\n",
    "max_depth.append(None)\n",
    "# Minimum number of samples required to split a node\n",
    "min_samples_split = [2, 5, 10]\n",
    "# Minimum number of samples required at each leaf node\n",
    "min_samples_leaf = [1, 2, 4]\n",
    "# Method of selecting samples for training each tree\n",
    "bootstrap = [True, False]\n",
    "# Create the random grid\n",
    "random_grid = {'n_estimators': n_estimators,\n",
    "               'max_features': max_features,\n",
    "               'max_depth': max_depth,\n",
    "               'min_samples_split': min_samples_split,\n",
    "               'min_samples_leaf': min_samples_leaf,\n",
    "               'bootstrap': bootstrap}\n",
    "pprint(random_grid)\n",
    "{'bootstrap': [True, False],\n",
    " 'max_depth': [10, 20, 30, 40, 50, 60, 70, 80, 90, 100, None],\n",
    " 'max_features': ['auto', 'sqrt'],\n",
    " 'min_samples_leaf': [1, 2, 4],\n",
    " 'min_samples_split': [2, 5, 10],\n",
    " 'n_estimators': [200, 400, 600, 800, 1000, 1200, 1400, 1600, 1800, 2000]}\n"
   ]
  },
  {
   "cell_type": "code",
   "execution_count": 2,
   "metadata": {},
   "outputs": [
    {
     "data": {
      "text/plain": [
       "(1766, 6)"
      ]
     },
     "execution_count": 2,
     "metadata": {},
     "output_type": "execute_result"
    }
   ],
   "source": [
    "df = pd.read_pickle(\"C:/Users/rmbrm/Documents/DS_WP/Predict default/Predict Default Final/data_for_hyper_tuning\") \n",
    "sample = df.sample(n=1766)\n",
    "df = sample\n",
    "df.shape"
   ]
  },
  {
   "cell_type": "code",
   "execution_count": 5,
   "metadata": {},
   "outputs": [],
   "source": [
    "features = df.drop(df.columns[5], axis=1).values \n",
    "target = df['default'].values\n",
    "X_train, X_test, y_train, y_test = train_test_split(features, target)"
   ]
  },
  {
   "cell_type": "code",
   "execution_count": 65,
   "metadata": {
    "collapsed": true
   },
   "outputs": [
    {
     "name": "stdout",
     "output_type": "stream",
     "text": [
      "Fitting 3 folds for each of 100 candidates, totalling 300 fits\n"
     ]
    },
    {
     "name": "stderr",
     "output_type": "stream",
     "text": [
      "[Parallel(n_jobs=-1)]: Done  33 tasks      | elapsed:   33.4s\n",
      "[Parallel(n_jobs=-1)]: Done 154 tasks      | elapsed:  4.0min\n",
      "[Parallel(n_jobs=-1)]: Done 300 out of 300 | elapsed:  6.2min finished\n"
     ]
    },
    {
     "data": {
      "text/plain": [
       "RandomizedSearchCV(cv=3, error_score='raise',\n",
       "          estimator=RandomForestClassifier(bootstrap=True, class_weight=None, criterion='gini',\n",
       "            max_depth=None, max_features='auto', max_leaf_nodes=None,\n",
       "            min_impurity_decrease=0.0, min_impurity_split=None,\n",
       "            min_samples_leaf=1, min_samples_split=2,\n",
       "            min_weight_fraction_leaf=0.0, n_estimators=10, n_jobs=1,\n",
       "            oob_score=False, random_state=None, verbose=0,\n",
       "            warm_start=False),\n",
       "          fit_params=None, iid=True, n_iter=100, n_jobs=-1,\n",
       "          param_distributions={'n_estimators': [200, 400, 600, 800, 1000, 1200, 1400, 1600, 1800, 2000], 'max_features': ['auto', 'sqrt'], 'max_depth': [10, 20, 30, 40, 50, 60, 70, 80, 90, 100, 110, None], 'min_samples_split': [2, 5, 10], 'min_samples_leaf': [1, 2, 4], 'bootstrap': [True, False]},\n",
       "          pre_dispatch='2*n_jobs', random_state=0, refit=True,\n",
       "          return_train_score='warn', scoring=None, verbose=2)"
      ]
     },
     "execution_count": 65,
     "metadata": {},
     "output_type": "execute_result"
    }
   ],
   "source": [
    "# ANALYSIS WITH HYPER PARAMETER GRID SEARCH: base model\n",
    "forest = RandomForestClassifier()\n",
    "\n",
    "# Random parameter search, three fold cross validation, \n",
    "forest_random =  RandomizedSearchCV(estimator = forest, param_distributions = random_grid, n_iter = 100, cv = 3, verbose=2, random_state=42, n_jobs = -1)\n",
    "\n",
    "# Fit the random search model\n",
    "forest_random.fit(X_train, y_train)"
   ]
  },
  {
   "cell_type": "code",
   "execution_count": 66,
   "metadata": {
    "scrolled": true
   },
   "outputs": [
    {
     "data": {
      "text/plain": [
       "{'n_estimators': 1800,\n",
       " 'min_samples_split': 5,\n",
       " 'min_samples_leaf': 4,\n",
       " 'max_features': 'sqrt',\n",
       " 'max_depth': 30,\n",
       " 'bootstrap': True}"
      ]
     },
     "execution_count": 66,
     "metadata": {},
     "output_type": "execute_result"
    }
   ],
   "source": [
    "# show the best performing parameters based on the .5% sample\n",
    "\n",
    "forest_random.best_params_"
   ]
  },
  {
   "cell_type": "markdown",
   "metadata": {},
   "source": [
    "<a id='Finding_V'></a>"
   ]
  },
  {
   "cell_type": "markdown",
   "metadata": {},
   "source": [
    "#### Finding V\n",
    "Best parameters from five samples, as well as means/modes for these values, are shown below. Many were the same across samples."
   ]
  },
  {
   "cell_type": "code",
   "execution_count": 5,
   "metadata": {
    "scrolled": true
   },
   "outputs": [
    {
     "data": {
      "text/html": [
       "<div>\n",
       "<style scoped>\n",
       "    .dataframe tbody tr th:only-of-type {\n",
       "        vertical-align: middle;\n",
       "    }\n",
       "\n",
       "    .dataframe tbody tr th {\n",
       "        vertical-align: top;\n",
       "    }\n",
       "\n",
       "    .dataframe thead th {\n",
       "        text-align: right;\n",
       "    }\n",
       "</style>\n",
       "<table border=\"1\" class=\"dataframe\">\n",
       "  <thead>\n",
       "    <tr style=\"text-align: right;\">\n",
       "      <th></th>\n",
       "      <th>n_estimators</th>\n",
       "      <th>min_samples_split</th>\n",
       "      <th>min_samples_leaf</th>\n",
       "      <th>max_features</th>\n",
       "      <th>max_depth</th>\n",
       "      <th>bootstrap</th>\n",
       "    </tr>\n",
       "    <tr>\n",
       "      <th>Sample Size</th>\n",
       "      <th></th>\n",
       "      <th></th>\n",
       "      <th></th>\n",
       "      <th></th>\n",
       "      <th></th>\n",
       "      <th></th>\n",
       "    </tr>\n",
       "  </thead>\n",
       "  <tbody>\n",
       "    <tr>\n",
       "      <th>0.005</th>\n",
       "      <td>1400</td>\n",
       "      <td>5</td>\n",
       "      <td>4</td>\n",
       "      <td>sqrt</td>\n",
       "      <td>80</td>\n",
       "      <td>True</td>\n",
       "    </tr>\n",
       "    <tr>\n",
       "      <th>0.01</th>\n",
       "      <td>400</td>\n",
       "      <td>10</td>\n",
       "      <td>4</td>\n",
       "      <td>sqrt</td>\n",
       "      <td>30</td>\n",
       "      <td>True</td>\n",
       "    </tr>\n",
       "    <tr>\n",
       "      <th>0.02</th>\n",
       "      <td>200</td>\n",
       "      <td>5</td>\n",
       "      <td>4</td>\n",
       "      <td>auto</td>\n",
       "      <td>10</td>\n",
       "      <td>True</td>\n",
       "    </tr>\n",
       "    <tr>\n",
       "      <th>0.05</th>\n",
       "      <td>200</td>\n",
       "      <td>5</td>\n",
       "      <td>4</td>\n",
       "      <td>auto</td>\n",
       "      <td>10</td>\n",
       "      <td>True</td>\n",
       "    </tr>\n",
       "    <tr>\n",
       "      <th>0.1</th>\n",
       "      <td>1400</td>\n",
       "      <td>5</td>\n",
       "      <td>4</td>\n",
       "      <td>sqrt</td>\n",
       "      <td>80</td>\n",
       "      <td>True</td>\n",
       "    </tr>\n",
       "    <tr>\n",
       "      <th>Mean/mode</th>\n",
       "      <td>720</td>\n",
       "      <td>6</td>\n",
       "      <td>4</td>\n",
       "      <td>sqrt</td>\n",
       "      <td>42</td>\n",
       "      <td>True</td>\n",
       "    </tr>\n",
       "  </tbody>\n",
       "</table>\n",
       "</div>"
      ],
      "text/plain": [
       "             n_estimators  min_samples_split  min_samples_leaf max_features  \\\n",
       "Sample Size                                                                   \n",
       "0.005                1400                  5                 4         sqrt   \n",
       "0.01                  400                 10                 4         sqrt   \n",
       "0.02                  200                  5                 4         auto   \n",
       "0.05                  200                  5                 4         auto   \n",
       "0.1                  1400                  5                 4         sqrt   \n",
       "Mean/mode             720                  6                 4         sqrt   \n",
       "\n",
       "             max_depth  bootstrap  \n",
       "Sample Size                        \n",
       "0.005               80       True  \n",
       "0.01                30       True  \n",
       "0.02                10       True  \n",
       "0.05                10       True  \n",
       "0.1                 80       True  \n",
       "Mean/mode           42       True  "
      ]
     },
     "execution_count": 5,
     "metadata": {},
     "output_type": "execute_result"
    }
   ],
   "source": [
    "df = pd.read_excel(\"C:/Users/rmbrm/Documents/DS_WP/Predict default/Predict Default Final/parameters dataframe.xlsx\",index_col=0)\n",
    "df"
   ]
  },
  {
   "cell_type": "markdown",
   "metadata": {},
   "source": [
    "Back to [top](#top) "
   ]
  },
  {
   "cell_type": "markdown",
   "metadata": {},
   "source": [
    "<a id='Step_8'></a>"
   ]
  },
  {
   "cell_type": "markdown",
   "metadata": {},
   "source": [
    "#### Step 8: Do any of the sets of hyperparameters generated from the random grid searches on different samples improve predictive power?\n",
    "\n",
    "- I ran the sets of hyperparameters generated from Step 7 to see if any improved upon the best prediction score of .852 using default parameters."
   ]
  },
  {
   "cell_type": "code",
   "execution_count": 6,
   "metadata": {
    "collapsed": true
   },
   "outputs": [
    {
     "data": {
      "text/plain": [
       "(353257, 6)"
      ]
     },
     "execution_count": 6,
     "metadata": {},
     "output_type": "execute_result"
    }
   ],
   "source": [
    "df = pd.read_pickle(\"C:/Users/rmbrm/Documents/DS_WP/Predict default/Predict Default Final/data_for_hyper_tuning\") \n",
    "features = df.drop(df.columns[5], axis=1).values \n",
    "target = df['default'].values"
   ]
  },
  {
   "cell_type": "code",
   "execution_count": 11,
   "metadata": {},
   "outputs": [],
   "source": [
    "from sklearn.ensemble import RandomForestClassifier\n",
    "from sklearn.model_selection import train_test_split"
   ]
  },
  {
   "cell_type": "code",
   "execution_count": 14,
   "metadata": {},
   "outputs": [
    {
     "name": "stdout",
     "output_type": "stream",
     "text": [
      "--\n",
      "\n",
      ".5%\n",
      "Accuracy on training set: 0.888\n",
      "Accuracy on test set: 0.853\n",
      "--\n",
      "--\n",
      "\n",
      "1%\n",
      "Accuracy on training set: 0.881\n",
      "Accuracy on test set: 0.853\n",
      "--\n",
      "--\n",
      "\n",
      "2%\n",
      "Accuracy on training set: 0.856\n",
      "Accuracy on test set: 0.854\n",
      "--\n",
      "--\n",
      "\n",
      "5%\n",
      "Accuracy on training set: 0.856\n",
      "Accuracy on test set: 0.854\n",
      "--\n",
      "--\n",
      "\n",
      "10%\n",
      "Accuracy on training set: 0.888\n",
      "Accuracy on test set: 0.853\n",
      "--\n",
      "--\n",
      "\n",
      "Mean/mode\n",
      "Accuracy on training set: 0.888\n",
      "Accuracy on test set: 0.853\n",
      "--\n"
     ]
    }
   ],
   "source": [
    "X_train, X_test, y_train, y_test = train_test_split(features, target, random_state = 42)\n",
    "forest = RandomForestClassifier(n_estimators=1400, min_samples_split=5, min_samples_leaf= 4, max_features= 'sqrt', \n",
    "                                max_depth=80, bootstrap= True, random_state = 42)\n",
    "forest.fit(X_train, y_train)\n",
    "\n",
    "print(\"--\\n\")\n",
    "print(\".5%\")\n",
    "print(\"Accuracy on training set: {:.3f}\".format(forest.score(X_train, y_train)))\n",
    "print(\"Accuracy on test set: {:.3f}\".format(forest.score(X_test, y_test)))\n",
    "print(\"--\")\n",
    "\n",
    "forest = RandomForestClassifier(n_estimators=400, min_samples_split=10, min_samples_leaf= 4, max_features= 'sqrt', \n",
    "                                max_depth=30, bootstrap= True, random_state = 42)\n",
    "forest.fit(X_train, y_train)\n",
    "\n",
    "print(\"--\\n\")\n",
    "print(\"1%\")\n",
    "print(\"Accuracy on training set: {:.3f}\".format(forest.score(X_train, y_train)))\n",
    "print(\"Accuracy on test set: {:.3f}\".format(forest.score(X_test, y_test)))\n",
    "print(\"--\")\n",
    "\n",
    "forest = RandomForestClassifier(n_estimators=200, min_samples_split=5, min_samples_leaf= 4, max_features= 'auto', \n",
    "                                max_depth=10, bootstrap= True, random_state = 42)\n",
    "forest.fit(X_train, y_train)\n",
    "\n",
    "print(\"--\\n\")\n",
    "print(\"2%\")\n",
    "print(\"Accuracy on training set: {:.3f}\".format(forest.score(X_train, y_train)))\n",
    "print(\"Accuracy on test set: {:.3f}\".format(forest.score(X_test, y_test)))\n",
    "print(\"--\")\n",
    "forest = RandomForestClassifier(n_estimators=200, min_samples_split=5, min_samples_leaf= 4, max_features= 'auto', \n",
    "                                max_depth=10, bootstrap= True, random_state = 42)\n",
    "forest.fit(X_train, y_train)\n",
    "\n",
    "print(\"--\\n\")\n",
    "print(\"5%\")\n",
    "print(\"Accuracy on training set: {:.3f}\".format(forest.score(X_train, y_train)))\n",
    "print(\"Accuracy on test set: {:.3f}\".format(forest.score(X_test, y_test)))\n",
    "print(\"--\")\n",
    "forest = RandomForestClassifier(n_estimators=1400, min_samples_split=5, min_samples_leaf= 4, max_features= 'sqrt', \n",
    "                                max_depth=80, bootstrap= True, random_state = 42)\n",
    "forest.fit(X_train, y_train)\n",
    "\n",
    "print(\"--\\n\")\n",
    "print(\"10%\")\n",
    "print(\"Accuracy on training set: {:.3f}\".format(forest.score(X_train, y_train)))\n",
    "print(\"Accuracy on test set: {:.3f}\".format(forest.score(X_test, y_test)))\n",
    "print(\"--\")\n",
    "forest = RandomForestClassifier(n_estimators=720, min_samples_split=6, min_samples_leaf= 4, max_features= 'sqrt', \n",
    "                                max_depth=42, bootstrap= True, random_state = 42)\n",
    "forest.fit(X_train, y_train)\n",
    "\n",
    "print(\"--\\n\")\n",
    "print(\"Mean/mode\")\n",
    "print(\"Accuracy on training set: {:.3f}\".format(forest.score(X_train, y_train)))\n",
    "print(\"Accuracy on test set: {:.3f}\".format(forest.score(X_test, y_test)))\n",
    "print(\"--\")"
   ]
  },
  {
   "cell_type": "markdown",
   "metadata": {},
   "source": [
    "<a id='Finding_VI'></a>"
   ]
  },
  {
   "cell_type": "markdown",
   "metadata": {},
   "source": [
    "#### Finding VI\n",
    "The hyperparameter values derived from the random search grids on 2% and 5% samples (same values, oops) resulted in the highest test set prediction, .854, which is a very small increase from the default hyperparameter settings."
   ]
  },
  {
   "cell_type": "markdown",
   "metadata": {},
   "source": [
    "Back to [top](#top) "
   ]
  },
  {
   "cell_type": "markdown",
   "metadata": {},
   "source": [
    "<a id='Step_9'></a>"
   ]
  },
  {
   "cell_type": "markdown",
   "metadata": {},
   "source": [
    "#### Step 9: Conduct a hyperparameter grid search using a grid comprised of values centered around values with the greatest effect in the previous steps. Use those parameters to see if accuracy improves.\n",
    "\n",
    "- Based again on the article linked to above by Will Koehrsen, I implemented a hyperparameter grid search developed from the most effective values generated in the previous steps on a 10% sample. Then I applied the final hyperparameters to the full data set."
   ]
  },
  {
   "cell_type": "code",
   "execution_count": 6,
   "metadata": {},
   "outputs": [],
   "source": [
    "from sklearn.ensemble import RandomForestClassifier\n",
    "from sklearn.model_selection import train_test_split\n",
    "from sklearn.model_selection import GridSearchCV"
   ]
  },
  {
   "cell_type": "code",
   "execution_count": 7,
   "metadata": {},
   "outputs": [],
   "source": [
    "n_estimators = [100, 200, 300]\n",
    "max_features = ['auto']\n",
    "max_depth = [10, 20, 30, None]\n",
    "min_samples_split = [2, 5, 10]\n",
    "min_samples_leaf = [2, 4, 6]\n",
    "bootstrap = [True]\n",
    "\n",
    "random_grid = {'n_estimators': n_estimators,\n",
    "               'max_features': max_features,\n",
    "               'max_depth': max_depth,\n",
    "               'min_samples_split': min_samples_split,\n",
    "               'min_samples_leaf': min_samples_leaf,\n",
    "               'bootstrap': bootstrap}"
   ]
  },
  {
   "cell_type": "code",
   "execution_count": 8,
   "metadata": {
    "collapsed": true
   },
   "outputs": [
    {
     "data": {
      "text/plain": [
       "(35326, 6)"
      ]
     },
     "execution_count": 8,
     "metadata": {},
     "output_type": "execute_result"
    }
   ],
   "source": [
    "df = pd.read_pickle(\"C:/Users/rmbrm/Documents/DS_WP/Predict default/Predict Default Final/data_for_hyper_tuning\") \n",
    "sample = df.sample(n=35326)\n",
    "df = sample\n",
    "df.shape"
   ]
  },
  {
   "cell_type": "code",
   "execution_count": 9,
   "metadata": {},
   "outputs": [],
   "source": [
    "features = df.drop(df.columns[5], axis=1).values \n",
    "target = df['default'].values\n",
    "X_train, X_test, y_train, y_test = train_test_split(features, target)"
   ]
  },
  {
   "cell_type": "code",
   "execution_count": 12,
   "metadata": {
    "collapsed": true
   },
   "outputs": [
    {
     "name": "stdout",
     "output_type": "stream",
     "text": [
      "Fitting 3 folds for each of 100 candidates, totalling 300 fits\n"
     ]
    },
    {
     "name": "stderr",
     "output_type": "stream",
     "text": [
      "[Parallel(n_jobs=-1)]: Done  33 tasks      | elapsed:  1.4min\n",
      "[Parallel(n_jobs=-1)]: Done 154 tasks      | elapsed:  6.2min\n",
      "[Parallel(n_jobs=-1)]: Done 300 out of 300 | elapsed: 14.5min finished\n"
     ]
    },
    {
     "data": {
      "text/plain": [
       "RandomizedSearchCV(cv=3, error_score='raise',\n",
       "          estimator=RandomForestClassifier(bootstrap=True, class_weight=None, criterion='gini',\n",
       "            max_depth=None, max_features='auto', max_leaf_nodes=None,\n",
       "            min_impurity_decrease=0.0, min_impurity_split=None,\n",
       "            min_samples_leaf=1, min_samples_split=2,\n",
       "            min_weight_fraction_leaf=0.0, n_estimators=10, n_jobs=1,\n",
       "            oob_score=False, random_state=None, verbose=0,\n",
       "            warm_start=False),\n",
       "          fit_params=None, iid=True, n_iter=100, n_jobs=-1,\n",
       "          param_distributions={'n_estimators': [100, 200, 300], 'max_features': ['auto'], 'max_depth': [10, 20, 30, None], 'min_samples_split': [2, 5, 10], 'min_samples_leaf': [2, 4, 6], 'bootstrap': [True]},\n",
       "          pre_dispatch='2*n_jobs', random_state=42, refit=True,\n",
       "          return_train_score='warn', scoring=None, verbose=2)"
      ]
     },
     "execution_count": 12,
     "metadata": {},
     "output_type": "execute_result"
    }
   ],
   "source": [
    "# ANALYSIS WITH HYPER PARAMETER GRID SEARCH: base model\n",
    "forest = RandomForestClassifier()\n",
    "\n",
    "# Random parameter search, three fold cross validation, \n",
    "forest_random =  RandomizedSearchCV(estimator = forest, param_distributions = random_grid, n_iter = 100, cv = 3, verbose=2, random_state=42, n_jobs = -1)\n",
    "\n",
    "# Fit the random search model\n",
    "forest_random.fit(X_train, y_train)"
   ]
  },
  {
   "cell_type": "code",
   "execution_count": 13,
   "metadata": {
    "scrolled": true
   },
   "outputs": [
    {
     "data": {
      "text/plain": [
       "{'n_estimators': 100,\n",
       " 'min_samples_split': 2,\n",
       " 'min_samples_leaf': 6,\n",
       " 'max_features': 'auto',\n",
       " 'max_depth': 10,\n",
       " 'bootstrap': True}"
      ]
     },
     "execution_count": 13,
     "metadata": {},
     "output_type": "execute_result"
    }
   ],
   "source": [
    "# best performing parameters\n",
    "\n",
    "forest_random.best_params_"
   ]
  },
  {
   "cell_type": "code",
   "execution_count": 14,
   "metadata": {},
   "outputs": [
    {
     "data": {
      "text/plain": [
       "(353257, 6)"
      ]
     },
     "execution_count": 14,
     "metadata": {},
     "output_type": "execute_result"
    }
   ],
   "source": [
    "df = pd.read_pickle(\"C:/Users/rmbrm/Documents/DS_WP/Predict default/Predict Default Final/data_for_hyper_tuning\") \n",
    "df.shape"
   ]
  },
  {
   "cell_type": "code",
   "execution_count": 15,
   "metadata": {},
   "outputs": [],
   "source": [
    "features = df.drop(df.columns[5], axis=1).values \n",
    "target = df['default'].values"
   ]
  },
  {
   "cell_type": "code",
   "execution_count": 19,
   "metadata": {},
   "outputs": [
    {
     "name": "stdout",
     "output_type": "stream",
     "text": [
      "Accuracy on training set: 0.856\n",
      "Accuracy on test set: 0.854\n"
     ]
    }
   ],
   "source": [
    "X_train, X_test, y_train, y_test = train_test_split(features, target, random_state = 42)\n",
    "forest = RandomForestClassifier(n_estimators=100, min_samples_split=2, min_samples_leaf= 6, max_features= 'auto', \n",
    "                                max_depth=10, bootstrap= True, random_state = 42)\n",
    "forest.fit(X_train, y_train)\n",
    "\n",
    "print(\"Accuracy on training set: {:.3f}\".format(forest.score(X_train, y_train)))\n",
    "print(\"Accuracy on test set: {:.3f}\".format(forest.score(X_test, y_test)))\n"
   ]
  },
  {
   "cell_type": "markdown",
   "metadata": {},
   "source": [
    "<a id='Conclusion'></a>"
   ]
  },
  {
   "cell_type": "markdown",
   "metadata": {},
   "source": [
    "#### Conclusion\n",
    "Seems the predictive capability with this algorithm and hyperparameter tuning is maxed out at .854. But it's a promising methodology for other algorithms that are more sensitive to hyperparameter tuning."
   ]
  },
  {
   "cell_type": "markdown",
   "metadata": {},
   "source": [
    "Back to [top](#top) "
   ]
  }
 ],
 "metadata": {
  "kernelspec": {
   "display_name": "Python 3",
   "language": "python",
   "name": "python3"
  },
  "language_info": {
   "codemirror_mode": {
    "name": "ipython",
    "version": 3
   },
   "file_extension": ".py",
   "mimetype": "text/x-python",
   "name": "python",
   "nbconvert_exporter": "python",
   "pygments_lexer": "ipython3",
   "version": "3.7.0"
  }
 },
 "nbformat": 4,
 "nbformat_minor": 2
}
