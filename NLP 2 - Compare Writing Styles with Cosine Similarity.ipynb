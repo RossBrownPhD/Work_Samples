{
 "cells": [
  {
   "cell_type": "markdown",
   "metadata": {},
   "source": [
    "<a id='top'></a>"
   ]
  },
  {
   "cell_type": "markdown",
   "metadata": {},
   "source": [
    "# NLP 2 - Compare Reviewers Writing Styles via Cosine Angles of Vectors"
   ]
  },
  {
   "cell_type": "markdown",
   "metadata": {},
   "source": [
    "#### This project uses Natural Language Tool-Kit (NLTK) for text preprocessing, then assesses the similarity of document pairs using the cosine of the angle between two vectors."
   ]
  },
  {
   "cell_type": "markdown",
   "metadata": {},
   "source": [
    "Representing documents in vector space based on the counts of words in the documents (see NLP 1) may mistakenly classify documents with similar content as different, due to difference in document size. Computing the cosine similarity of the vector representations of two documents compensates for the effect of document length when quantifying their similarity. This natural language processing project compares the cosine of the angles between sets of three documents (in three pairs) to see if writing styles are similar or different. The goal was to see if expected differences and similarities in writing styles were borne out by computing and comparing the cosine similarity of the vector representations of pairs of documents. \n",
    "\n",
    "The documents being compared are movie reviews downloaded from rottentomatoes.com. After some data wrangling, each document is the entirety of a particular reviewers' text reviews. \n",
    "\n",
    "For a full description of what documents are being compared and why, see the blog post for this project.\n",
    "\n",
    "- [Step 1](#Step_1) Data wrangling. Select text of reviewers that are being compared and combine all their reviews into a dataframe with different rows for each reviewer, and a column that is the entire text of their reviews joined into a single string. For each reviewer, create a variable representing the string of all their reviews joined together.  \n",
    "- [Step 2](#Step_2) Process the text for analysis. Create a function to process text for analysis, including tokenizing (break words into components), stemming with nltk PorterStemmer (consolidate different permutations of words), and removing stopwords (specific articles, prepositions and other words that do not add meaning).\n",
    "- [Step 3](#Step_3) Compute cosine similarities. Create a function to calculate and compare the cosine of the angles for the three documents in each set. \n",
    "- [Step 4](#Step_4) Group reviewers for comparison, and create a for loop to calculate and print cosine similarities of reviewers.\n",
    "- [Step 5](#Step_5) References. "
   ]
  },
  {
   "cell_type": "code",
   "execution_count": 1,
   "metadata": {},
   "outputs": [],
   "source": [
    "import pandas as pd\n",
    "pd.set_option('mode.chained_assignment', None)\n",
    "pd.set_option('max_columns', 120)\n",
    "pd.set_option('max_colwidth', 5000)\n",
    "pd.options.display.max_rows = 999\n",
    "import numpy as np\n",
    "import nltk\n",
    "from nltk.corpus import stopwords\n",
    "from nltk.stem import PorterStemmer\n",
    "from nltk.tokenize import word_tokenize\n",
    "import warnings\n",
    "warnings.filterwarnings(\"ignore\")"
   ]
  },
  {
   "cell_type": "markdown",
   "metadata": {},
   "source": [
    "Back to [top](#top) "
   ]
  },
  {
   "cell_type": "markdown",
   "metadata": {},
   "source": [
    "<a id='Step_1'></a>"
   ]
  },
  {
   "cell_type": "markdown",
   "metadata": {},
   "source": [
    "#### Step 1: Data wrangling.\n",
    "\n",
    "Select text of reviewers that are being compared and combine all their reviews into a dataframe with different rows for each reviewer, and a column that is the entire text of their reviews joined into a single string. For each reviewer, create a variable representing the string of all their reviews joined together.  "
   ]
  },
  {
   "cell_type": "code",
   "execution_count": 2,
   "metadata": {
    "scrolled": true
   },
   "outputs": [
    {
     "data": {
      "text/html": [
       "<div>\n",
       "<style scoped>\n",
       "    .dataframe tbody tr th:only-of-type {\n",
       "        vertical-align: middle;\n",
       "    }\n",
       "\n",
       "    .dataframe tbody tr th {\n",
       "        vertical-align: top;\n",
       "    }\n",
       "\n",
       "    .dataframe thead th {\n",
       "        text-align: right;\n",
       "    }\n",
       "</style>\n",
       "<table border=\"1\" class=\"dataframe\">\n",
       "  <thead>\n",
       "    <tr style=\"text-align: right;\">\n",
       "      <th></th>\n",
       "      <th>critic</th>\n",
       "      <th>quote</th>\n",
       "    </tr>\n",
       "  </thead>\n",
       "  <tbody>\n",
       "    <tr>\n",
       "      <th>1</th>\n",
       "      <td>Derek Adams</td>\n",
       "      <td>So ingenious in concept, design and execution that you could watch it on a postage stamp-sized screen and still be engulfed by its charm.</td>\n",
       "    </tr>\n",
       "    <tr>\n",
       "      <th>2</th>\n",
       "      <td>Richard Corliss</td>\n",
       "      <td>The year's most inventive comedy.</td>\n",
       "    </tr>\n",
       "    <tr>\n",
       "      <th>3</th>\n",
       "      <td>David Ansen</td>\n",
       "      <td>A winning animated feature that has something for everyone on the age spectrum.</td>\n",
       "    </tr>\n",
       "    <tr>\n",
       "      <th>4</th>\n",
       "      <td>Leonard Klady</td>\n",
       "      <td>The film sports a provocative and appealing story that's every bit the equal of this technical achievement.</td>\n",
       "    </tr>\n",
       "    <tr>\n",
       "      <th>5</th>\n",
       "      <td>Jonathan Rosenbaum</td>\n",
       "      <td>An entertaining computer-generated, hyperrealist animation feature (1995) that's also in effect a toy catalog.</td>\n",
       "    </tr>\n",
       "  </tbody>\n",
       "</table>\n",
       "</div>"
      ],
      "text/plain": [
       "               critic  \\\n",
       "1         Derek Adams   \n",
       "2     Richard Corliss   \n",
       "3         David Ansen   \n",
       "4       Leonard Klady   \n",
       "5  Jonathan Rosenbaum   \n",
       "\n",
       "                                                                                                                                       quote  \n",
       "1  So ingenious in concept, design and execution that you could watch it on a postage stamp-sized screen and still be engulfed by its charm.  \n",
       "2                                                                                                          The year's most inventive comedy.  \n",
       "3                                                            A winning animated feature that has something for everyone on the age spectrum.  \n",
       "4                                The film sports a provocative and appealing story that's every bit the equal of this technical achievement.  \n",
       "5                             An entertaining computer-generated, hyperrealist animation feature (1995) that's also in effect a toy catalog.  "
      ]
     },
     "execution_count": 2,
     "metadata": {},
     "output_type": "execute_result"
    }
   ],
   "source": [
    "file_loc = \"C:/Users/rmbrm/Documents/DS_WP/data/critics.csv\"\n",
    "df = pd.read_csv(file_loc, index_col=None, na_values=['NA'], usecols = ['critic', 'quote'] )\n",
    "df = df[~df.quote.isnull()]\n",
    "df.head()"
   ]
  },
  {
   "cell_type": "code",
   "execution_count": 3,
   "metadata": {
    "scrolled": true
   },
   "outputs": [
    {
     "data": {
      "text/html": [
       "<div>\n",
       "<style scoped>\n",
       "    .dataframe tbody tr th:only-of-type {\n",
       "        vertical-align: middle;\n",
       "    }\n",
       "\n",
       "    .dataframe tbody tr th {\n",
       "        vertical-align: top;\n",
       "    }\n",
       "\n",
       "    .dataframe thead th {\n",
       "        text-align: right;\n",
       "    }\n",
       "</style>\n",
       "<table border=\"1\" class=\"dataframe\">\n",
       "  <thead>\n",
       "    <tr style=\"text-align: right;\">\n",
       "      <th></th>\n",
       "      <th>quote</th>\n",
       "    </tr>\n",
       "    <tr>\n",
       "      <th>critic</th>\n",
       "      <th></th>\n",
       "    </tr>\n",
       "  </thead>\n",
       "  <tbody>\n",
       "    <tr>\n",
       "      <th>Anthony Lane</th>\n",
       "      <td>Brosnan, however, looks set to stay. He'll never recapture the amused cool of the young Sean Connery, but he does overcome the handicap of looking like a humorless male model. In a season of fat blockbusters, a picture as brainy, bitter, and compact as this one comes as a shock and a treat. The two leads' sly comic rhythm is miles removed from the book's failing solemnity. The political argument that ensues is pretty dull, but the battle scenes are the loudest and most convincing in years: Gibson has learned from Kurosawa in lending a clarifying thrust to what is, essentially, chaos. Berkley's acting debut is a joy, if you can call it acting: she jumps up and down a lot to indicate excitement. The talk is dirty and funny, the violence always waiting just around the corner. Warm, wise, and wearisome as hell. The result is clean, delirious, and, yes, speedy -- the best big-vehicle-in-peril movie since Clouzot's The Wages of Fear. That rasping tension is soon smoothed away, as the plot sets off on its daft and hackneyed course. It's a pleasure to find a thriller fulfilling its duties with such gusto: the emotions ring solid, the script finds time to relax into backchat, and for once the stunts look like acts of desperation rather than shows of prowess. This is really quite an achievement. It brings together Jeremy Irons, Meryl Streep, Winona Ryder, Antonio Banderas, and Vanessa Redgrave and insures that, without exception, they all give their worst performances ever. The grand finale? A fistfight, after which somebody gets run over. Listen, if I want to see that kind of action, I don't go to Shanghai. I don't even go to the movies. I go to the South Bronx and stand outside a bar. Its winning formula is driven not by narrative but by what isn't there: no sex, no drugs, and no rock and roll-- unless you count the logjam of thundering power ballads. The funniest thing about The Women is that Mick Jagger is one of the producers. There was a knowing laugh in the theatre as his name sprang up in the opening credits -- our last chance to laugh, as it turned out, for the next two hours. The Pythons are enlightened jesters, whose scorn is reserved for those who persist in walking in darkness. We have yet to recover from his revelation: that there is nothing more real than sitting in your own back yard -- waiting for the unreal to come down, take a handful of candy, and fly you to the moon. We see through a glass darkly, and often confusingly, but at least we see. The triumph of the film lies not just in the force and range of the performances, but in Minghella's creation of an intimate epic: vast landscapes mingle with the minute details of desire, and the combination is transfixing. Action thrillers assail but rarely test us; this is the tautest, most provoking, and altogether most draining example ever made. Terminator Salvation is a confused, humorless grind, with nobody, from the stars to the set designers, prepared to prick its self-importance. Even if you don't buy the main conceit, the scumbled texture of the movie makes it feel not just plausible but recognizable, and Cuaron takes care never to paint the future as consolingly different. The plot is impressively free of anything that does not smell of unpasteurized melodrama. Carrey is on his mettle, but you wonder why thirty years of close observation have made Truman so funny; shouldn't he be a regular guy gone mad? There are no surprises in this movie, and most people will be able to predict, within the first ten minutes, roughly how the last ten will pan out. A dark and fidgety picture from Christopher Nolan, who made such a splash with Memento. After many mishaps, the art of bringing Elmore Leonard's novels to the screen is coming to fruition. This latest adaptation, by director Steven Soderbergh and screenwriter Scott Frank, gets it just about right. Spielberg obviously decided that blood and guts meant just that, and so he arranged his violence into a semblance of pure disorder. The illusion holds, complete with severed limbs and wellsprings of blood, and it feels honorable. As I watched this film, an eager victim of its boundless will to astound, I found my loyal memories of the book beginning to fade. The problem is not that we know the outcome. The problem is the buildup. You cannot help being stirred by the reach and depth, the constant rebuffs to sloppiness, of a strong ensemble.</td>\n",
       "    </tr>\n",
       "    <tr>\n",
       "      <th>Dave Kehr</th>\n",
       "      <td>Wilder's tastelessness now seems his major artistic strength. Kurosawa's film is a model of long-form construction, ably fitting its asides and anecdotes into a powerful suspense structure that endures for all of the film's 208 minutes. As recorded in the great wealth of documentary footage Ofteringer has assembled, the cheekbones slowly collapse and the blue eyes become watery, their owner becoming more and more dependent on hard drugs and fast living. What begins as an anti-Goodbye, Mr. Chips ends, thanks to some psychological point stretching, as an imitation of it. It's a highly professional piece of Hollywood sentimentalism. A serious disappointment, recommended only for inveterate Disney fans and very young people. Like the roller-coaster ride Cliffhanger clearly wants to be, the film sends you out pleasantly rattled and wobbly of gait. It's a beautifully proportioned, wonderfully complete movie. The characters aren't much more well-defined than the anonymous victims of a teen horror movie... The dinosaur effects, however, are absolutely stunning, and sometimes so natural that one even forgets to be impressed. What it offers, apart from the overblown special effects that seem inescapable in American movies, is an unusual and effective combination of swooning, morbid romance and screwball comedy. The pathos of the film is the pathos of its leading character -- it is a magnificent machine, but a machine it remains. It's a gnarled, brutal, highly manipulative film that, at its center, seems morally indefensible. The on-screen carnage established a new level in American movies, but few of the films that followed in its wake could duplicate Peckinpah's depth of feeling. Some of the animation is first-rate, particularly in the more modest comedy segments, and even the heavy set pieces have greater flash and dazzle than anything Ralph Bakshi mustered around the same period. This 1970 animated feature is dull, careless, and all too typical of the Disney studio's slapdash output before the unexpected renaissance of The Rescuers. All in all, a superior genre piece, if not the height of Hill's artistry. The film is ugly on so many levels -- from art direction to human values -- that it's hard to know where to begin. It remains an outstanding example of the filmmaker's power to transform an environment through the selection of detail: everything in it is familiar, but nothing is recognizable. The material is consistently clever and funny, though ultimately the attitudes are too narrow to nourish a feature-length film. No masterpiece, but a prime example of subversive cinema. Rohmer's impossibly light, graceful way of posing profound moral questions hasn't yet wholly coalesced, though this 1966 film does have his soft, slow rhythm. The ultimate family film. George Cukor gives it the royal treatment with a splendid supporting cast... One of the shining glories of the American musical. This story of a party girl in love with a gigolo allows [director Blake] Edwards to create a very handsome film, with impeccable Technicolor photography by Franz Planer. One of the landmarks--not merely of the movies, but of 20th-century art. This is Capra at his best, very funny and very light, with a minimum of populist posturing. A great film, and certainly one of the most entertaining movies ever made, directed by Alfred Hitchcock at his peak. In many ways, the ultimate Billy Wilder film -- replete with breathless pacing, transvestite humor, and unflinching cynicism. A terrifically entertaining comedy-thriller. Who can argue with Bogart's glower or Mary Astor in her ratty fur? Lerner and Loewe's musical masterwork, reimagined for film by director George Cukor. Wyler lays out all the elements with care and precision, but the romantic comedy never comes together -- it's charm by computer. One of the first films to integrate musical numbers into the plot, it explores, without condescension or simplemindedness, the feelings that drive the family members apart and then bring them back together again. I don't find the film light or joyful in the least -- an air of primal menace hangs about it, which may be why I love it. A critic-proof movie if there ever was one: it isn't all that good, but somehow it's great. It is still the best place I know of to start thinking about Welles -- or for that matter about movies in general. It was a freshening attitude then, though its long-term effects haven't been all to the good. The hoped-for tone of Restoration comedy never quite materializes, perhaps because Mankiewicz's cynicism is only skin-deep, but the film's tinny brilliance still pleases. Through its first two-thirds it is as perfect a myth of adolescence as any of the Disney films, documenting the childlike, nameless heroine's initiation into the adult mysteries of sex, death, and identity. This film contains one of Hitchcock's most famous set pieces -- an assassination in the rain -- but otherwise remains a second-rate effort, as immen...</td>\n",
       "    </tr>\n",
       "  </tbody>\n",
       "</table>\n",
       "</div>"
      ],
      "text/plain": [
       "                                                                                                                                                                                                                                                                                                                                                                                                                                                                                                                                                                                                                                                                                                                                                                                                                                                                                                                                                                                                                                                                                                                                                                                                                                                                                                                                                                                                                                                                                                                                                                                                                                                                                                                                                                                                                                                                                                                                                                                                                                                                                                                                                                                                                                                                                                                                                                                                                                                                                                                                                                                                                                                                                                                                                                                                                                                                                                                                                                                                                                                                                                                                                                                                                                                                                                                                                                                                                                                                                                                                                                                                                                                                                                                                                                                                                                                                                                                                                                                                                                                                                                                                                                                                                                                                                                                                                                                                                                                                                                                                                                                                                                                                                                                                                                                                                                                                                                                                                                                                                                                                                                                                                                                                                quote\n",
       "critic                                                                                                                                                                                                                                                                                                                                                                                                                                                                                                                                                                                                                                                                                                                                                                                                                                                                                                                                                                                                                                                                                                                                                                                                                                                                                                                                                                                                                                                                                                                                                                                                                                                                                                                                                                                                                                                                                                                                                                                                                                                                                                                                                                                                                                                                                                                                                                                                                                                                                                                                                                                                                                                                                                                                                                                                                                                                                                                                                                                                                                                                                                                                                                                                                                                                                                                                                                                                                                                                                                                                                                                                                                                                                                                                                                                                                                                                                                                                                                                                                                                                                                                                                                                                                                                                                                                                                                                                                                                                                                                                                                                                                                                                                                                                                                                                                                                                                                                                                                                                                                                                                                                                                                                                               \n",
       "Anthony Lane                                                                                                                                                                                                                                                                                                                                                                                                                                                                                                                                                                                                       Brosnan, however, looks set to stay. He'll never recapture the amused cool of the young Sean Connery, but he does overcome the handicap of looking like a humorless male model. In a season of fat blockbusters, a picture as brainy, bitter, and compact as this one comes as a shock and a treat. The two leads' sly comic rhythm is miles removed from the book's failing solemnity. The political argument that ensues is pretty dull, but the battle scenes are the loudest and most convincing in years: Gibson has learned from Kurosawa in lending a clarifying thrust to what is, essentially, chaos. Berkley's acting debut is a joy, if you can call it acting: she jumps up and down a lot to indicate excitement. The talk is dirty and funny, the violence always waiting just around the corner. Warm, wise, and wearisome as hell. The result is clean, delirious, and, yes, speedy -- the best big-vehicle-in-peril movie since Clouzot's The Wages of Fear. That rasping tension is soon smoothed away, as the plot sets off on its daft and hackneyed course. It's a pleasure to find a thriller fulfilling its duties with such gusto: the emotions ring solid, the script finds time to relax into backchat, and for once the stunts look like acts of desperation rather than shows of prowess. This is really quite an achievement. It brings together Jeremy Irons, Meryl Streep, Winona Ryder, Antonio Banderas, and Vanessa Redgrave and insures that, without exception, they all give their worst performances ever. The grand finale? A fistfight, after which somebody gets run over. Listen, if I want to see that kind of action, I don't go to Shanghai. I don't even go to the movies. I go to the South Bronx and stand outside a bar. Its winning formula is driven not by narrative but by what isn't there: no sex, no drugs, and no rock and roll-- unless you count the logjam of thundering power ballads. The funniest thing about The Women is that Mick Jagger is one of the producers. There was a knowing laugh in the theatre as his name sprang up in the opening credits -- our last chance to laugh, as it turned out, for the next two hours. The Pythons are enlightened jesters, whose scorn is reserved for those who persist in walking in darkness. We have yet to recover from his revelation: that there is nothing more real than sitting in your own back yard -- waiting for the unreal to come down, take a handful of candy, and fly you to the moon. We see through a glass darkly, and often confusingly, but at least we see. The triumph of the film lies not just in the force and range of the performances, but in Minghella's creation of an intimate epic: vast landscapes mingle with the minute details of desire, and the combination is transfixing. Action thrillers assail but rarely test us; this is the tautest, most provoking, and altogether most draining example ever made. Terminator Salvation is a confused, humorless grind, with nobody, from the stars to the set designers, prepared to prick its self-importance. Even if you don't buy the main conceit, the scumbled texture of the movie makes it feel not just plausible but recognizable, and Cuaron takes care never to paint the future as consolingly different. The plot is impressively free of anything that does not smell of unpasteurized melodrama. Carrey is on his mettle, but you wonder why thirty years of close observation have made Truman so funny; shouldn't he be a regular guy gone mad? There are no surprises in this movie, and most people will be able to predict, within the first ten minutes, roughly how the last ten will pan out. A dark and fidgety picture from Christopher Nolan, who made such a splash with Memento. After many mishaps, the art of bringing Elmore Leonard's novels to the screen is coming to fruition. This latest adaptation, by director Steven Soderbergh and screenwriter Scott Frank, gets it just about right. Spielberg obviously decided that blood and guts meant just that, and so he arranged his violence into a semblance of pure disorder. The illusion holds, complete with severed limbs and wellsprings of blood, and it feels honorable. As I watched this film, an eager victim of its boundless will to astound, I found my loyal memories of the book beginning to fade. The problem is not that we know the outcome. The problem is the buildup. You cannot help being stirred by the reach and depth, the constant rebuffs to sloppiness, of a strong ensemble.\n",
       "Dave Kehr     Wilder's tastelessness now seems his major artistic strength. Kurosawa's film is a model of long-form construction, ably fitting its asides and anecdotes into a powerful suspense structure that endures for all of the film's 208 minutes. As recorded in the great wealth of documentary footage Ofteringer has assembled, the cheekbones slowly collapse and the blue eyes become watery, their owner becoming more and more dependent on hard drugs and fast living. What begins as an anti-Goodbye, Mr. Chips ends, thanks to some psychological point stretching, as an imitation of it. It's a highly professional piece of Hollywood sentimentalism. A serious disappointment, recommended only for inveterate Disney fans and very young people. Like the roller-coaster ride Cliffhanger clearly wants to be, the film sends you out pleasantly rattled and wobbly of gait. It's a beautifully proportioned, wonderfully complete movie. The characters aren't much more well-defined than the anonymous victims of a teen horror movie... The dinosaur effects, however, are absolutely stunning, and sometimes so natural that one even forgets to be impressed. What it offers, apart from the overblown special effects that seem inescapable in American movies, is an unusual and effective combination of swooning, morbid romance and screwball comedy. The pathos of the film is the pathos of its leading character -- it is a magnificent machine, but a machine it remains. It's a gnarled, brutal, highly manipulative film that, at its center, seems morally indefensible. The on-screen carnage established a new level in American movies, but few of the films that followed in its wake could duplicate Peckinpah's depth of feeling. Some of the animation is first-rate, particularly in the more modest comedy segments, and even the heavy set pieces have greater flash and dazzle than anything Ralph Bakshi mustered around the same period. This 1970 animated feature is dull, careless, and all too typical of the Disney studio's slapdash output before the unexpected renaissance of The Rescuers. All in all, a superior genre piece, if not the height of Hill's artistry. The film is ugly on so many levels -- from art direction to human values -- that it's hard to know where to begin. It remains an outstanding example of the filmmaker's power to transform an environment through the selection of detail: everything in it is familiar, but nothing is recognizable. The material is consistently clever and funny, though ultimately the attitudes are too narrow to nourish a feature-length film. No masterpiece, but a prime example of subversive cinema. Rohmer's impossibly light, graceful way of posing profound moral questions hasn't yet wholly coalesced, though this 1966 film does have his soft, slow rhythm. The ultimate family film. George Cukor gives it the royal treatment with a splendid supporting cast... One of the shining glories of the American musical. This story of a party girl in love with a gigolo allows [director Blake] Edwards to create a very handsome film, with impeccable Technicolor photography by Franz Planer. One of the landmarks--not merely of the movies, but of 20th-century art. This is Capra at his best, very funny and very light, with a minimum of populist posturing. A great film, and certainly one of the most entertaining movies ever made, directed by Alfred Hitchcock at his peak. In many ways, the ultimate Billy Wilder film -- replete with breathless pacing, transvestite humor, and unflinching cynicism. A terrifically entertaining comedy-thriller. Who can argue with Bogart's glower or Mary Astor in her ratty fur? Lerner and Loewe's musical masterwork, reimagined for film by director George Cukor. Wyler lays out all the elements with care and precision, but the romantic comedy never comes together -- it's charm by computer. One of the first films to integrate musical numbers into the plot, it explores, without condescension or simplemindedness, the feelings that drive the family members apart and then bring them back together again. I don't find the film light or joyful in the least -- an air of primal menace hangs about it, which may be why I love it. A critic-proof movie if there ever was one: it isn't all that good, but somehow it's great. It is still the best place I know of to start thinking about Welles -- or for that matter about movies in general. It was a freshening attitude then, though its long-term effects haven't been all to the good. The hoped-for tone of Restoration comedy never quite materializes, perhaps because Mankiewicz's cynicism is only skin-deep, but the film's tinny brilliance still pleases. Through its first two-thirds it is as perfect a myth of adolescence as any of the Disney films, documenting the childlike, nameless heroine's initiation into the adult mysteries of sex, death, and identity. This film contains one of Hitchcock's most famous set pieces -- an assassination in the rain -- but otherwise remains a second-rate effort, as immen..."
      ]
     },
     "execution_count": 3,
     "metadata": {},
     "output_type": "execute_result"
    }
   ],
   "source": [
    "reviewers = [\"Anthony Lane\", \"Dave Kehr\", \"Rex Reed\", \"Jonathan Rosenbaum\", \"Richard Roeper\", \"Kenneth Turan\",\n",
    "             \"Michael Wilmington\", \"David Edelstein\", \"Owen Gleiberman\", \"Lisa Schwarzbaum\"]\n",
    "\n",
    "df = df.loc[df['critic'].isin(reviewers)]\n",
    "\n",
    "df2 = df.groupby('critic').agg({\n",
    "    'quote': lambda x: ' '.join(x)\n",
    "})\n",
    "\n",
    "df2.head(2)"
   ]
  },
  {
   "cell_type": "code",
   "execution_count": 4,
   "metadata": {},
   "outputs": [],
   "source": [
    "Lane= df2.loc[\"Anthony Lane\", \"quote\"]\n",
    "Kehr= df2.loc[\"Dave Kehr\", \"quote\"]\n",
    "Reed= df2.loc[\"Rex Reed\", \"quote\"]\n",
    "Rosenbaum= df2.loc[\"Jonathan Rosenbaum\", \"quote\"]\n",
    "Roeper= df2.loc[\"Richard Roeper\", \"quote\"]\n",
    "Turan= df2.loc[\"Kenneth Turan\", \"quote\"]\n",
    "Wilmington= df2.loc[\"Michael Wilmington\", \"quote\"]\n",
    "Edelstein= df2.loc[\"David Edelstein\", \"quote\"]\n",
    "Gleiberman= df2.loc[\"Owen Gleiberman\", \"quote\"]\n",
    "Schwarzbaum= df2.loc[\"Lisa Schwarzbaum\", \"quote\"]\n",
    "\n"
   ]
  },
  {
   "cell_type": "markdown",
   "metadata": {},
   "source": [
    "Back to [top](#top) "
   ]
  },
  {
   "cell_type": "markdown",
   "metadata": {},
   "source": [
    "<a id='Step_2'></a>"
   ]
  },
  {
   "cell_type": "markdown",
   "metadata": {},
   "source": [
    "#### Step 2: Process the text for analysis.\n",
    "\n",
    "Create a function to process text for analysis, including tokenizing (break words into components), stemming with nltk PorterStemmer (consolidate different permutations of words), and removing stopwords (specific articles, prepositions and other words that do not add meaning).\n"
   ]
  },
  {
   "cell_type": "code",
   "execution_count": 5,
   "metadata": {},
   "outputs": [],
   "source": [
    "def process(file):\n",
    "    raw = open(file).read()\n",
    "    tokens = word_tokenize(raw)\n",
    "    words = [w.lower() for w in tokens]\n",
    "    \n",
    "    porter = nltk.PorterStemmer()\n",
    "    stemmed_tokens = [porter.stem(t) for t in words]\n",
    "    \n",
    "    stop_words = set(stopwords.words('english'))\n",
    "    filtered_tokens = [w for w in stemmed_tokens if not w in stop_words]\n",
    "    \n",
    "    count = nltk.defaultdict(int)\n",
    "    for word in filtered_tokens:\n",
    "        count[word] += 1\n",
    "    return count;"
   ]
  },
  {
   "cell_type": "markdown",
   "metadata": {},
   "source": [
    "Back to [top](#top) "
   ]
  },
  {
   "cell_type": "markdown",
   "metadata": {},
   "source": [
    "<a id='Step_3'></a>"
   ]
  },
  {
   "cell_type": "markdown",
   "metadata": {},
   "source": [
    "#### Step 3: Compute cosine similarities.\n",
    "\n",
    "Create a function to calculate and compare the cosine of the angles for the three documents in each set."
   ]
  },
  {
   "cell_type": "code",
   "execution_count": 6,
   "metadata": {},
   "outputs": [],
   "source": [
    "def cos_sim(a, b):\n",
    "    dot_product = np.dot(a, b)\n",
    "    norm_a = np.linalg.norm(a)\n",
    "    norm_b = np.linalg.norm(b)\n",
    "    return dot_product / (norm_a * norm_b)\n",
    "\n",
    "def getSimilarity(dict1, dict2):\n",
    "    all_words_list = []\n",
    "    for key in dict1:\n",
    "        all_words_list.append(key)\n",
    "    for key in dict2:\n",
    "        all_words_list.append(key)\n",
    "    all_words_list_size = len(all_words_list)\n",
    "    \n",
    "    v1 = np.zeros(all_words_list_size, dtype=np.int)\n",
    "    v2 = np.zeros(all_words_list_size, dtype=np.int)\n",
    "    i = 0\n",
    "    for (key) in all_words_list:\n",
    "        v1[i] = dict1.get(key, 0)\n",
    "        v2[i] = dict2.get(key, 0)\n",
    "        i = i + 1\n",
    "    return cos_sim(v1, v2);"
   ]
  },
  {
   "cell_type": "markdown",
   "metadata": {},
   "source": [
    "Back to [top](#top) "
   ]
  },
  {
   "cell_type": "markdown",
   "metadata": {},
   "source": [
    "<a id='Step_4'></a>"
   ]
  },
  {
   "cell_type": "markdown",
   "metadata": {},
   "source": [
    "#### Step 4: Group reviewers for comparison, and create a for loop to calculate and print cosine similarities of reviewers."
   ]
  },
  {
   "cell_type": "code",
   "execution_count": 7,
   "metadata": {},
   "outputs": [],
   "source": [
    "sets = [[\"Lane\", \"Kehr\", \"Reed\"], [\"Lane\", \"Roeper\", \"Reed\"], [\"Kehr\", \"Rosenbaum\", \"Roeper\"], [\"Kehr\", \"Rosenbaum\", \"Turan\"], [\"Kehr\", \"Rosenbaum\", \"Wilmington\"],\n",
    "        [\"Edelstein\", \"Gleiberman\", \"Wilmington\"], [\"Edelstein\", \"Gleiberman\", \"Roeper\"], \n",
    "        [\"Edelstein\", \"Gleiberman\", \"Lane\"],[\"Edelstein\", \"Gleiberman\", \"Schwarzbaum\"], \n",
    "       [\"Edelstein\", \"Gleiberman\",\"Reed\"], [\"Kehr\", \"Rosenbaum\", \"Edelstein\"], \n",
    "        [\"Lane\", \"Reed\", \"Wilmington\"]]"
   ]
  },
  {
   "cell_type": "code",
   "execution_count": 8,
   "metadata": {
    "scrolled": false
   },
   "outputs": [
    {
     "name": "stdout",
     "output_type": "stream",
     "text": [
      "Similarity between Lane and Kehr is 0.92\n",
      "Similarity between Lane and Reed is 0.89\n",
      "Similarity between Kehr and Reed is 0.91\n",
      "\n",
      "\n",
      "-----------------------\n",
      "\n",
      "\n",
      "Similarity between Lane and Roeper is 0.79\n",
      "Similarity between Lane and Reed is 0.89\n",
      "Similarity between Roeper and Reed is 0.85\n",
      "\n",
      "\n",
      "-----------------------\n",
      "\n",
      "\n",
      "Similarity between Kehr and Rosenbaum is 0.97\n",
      "Similarity between Kehr and Roeper is 0.88\n",
      "Similarity between Rosenbaum and Roeper is 0.9\n",
      "\n",
      "\n",
      "-----------------------\n",
      "\n",
      "\n",
      "Similarity between Kehr and Rosenbaum is 0.97\n",
      "Similarity between Kehr and Turan is 0.97\n",
      "Similarity between Rosenbaum and Turan is 0.96\n",
      "\n",
      "\n",
      "-----------------------\n",
      "\n",
      "\n",
      "Similarity between Kehr and Rosenbaum is 0.97\n",
      "Similarity between Kehr and Wilmington is 0.95\n",
      "Similarity between Rosenbaum and Wilmington is 0.95\n",
      "\n",
      "\n",
      "-----------------------\n",
      "\n",
      "\n",
      "Similarity between Edelstein and Gleiberman is 0.94\n",
      "Similarity between Edelstein and Wilmington is 0.93\n",
      "Similarity between Gleiberman and Wilmington is 0.98\n",
      "\n",
      "\n",
      "-----------------------\n",
      "\n",
      "\n",
      "Similarity between Edelstein and Gleiberman is 0.94\n",
      "Similarity between Edelstein and Roeper is 0.91\n",
      "Similarity between Gleiberman and Roeper is 0.88\n",
      "\n",
      "\n",
      "-----------------------\n",
      "\n",
      "\n",
      "Similarity between Edelstein and Gleiberman is 0.94\n",
      "Similarity between Edelstein and Lane is 0.87\n",
      "Similarity between Gleiberman and Lane is 0.94\n",
      "\n",
      "\n",
      "-----------------------\n",
      "\n",
      "\n",
      "Similarity between Edelstein and Gleiberman is 0.94\n",
      "Similarity between Edelstein and Schwarzbaum is 0.91\n",
      "Similarity between Gleiberman and Schwarzbaum is 0.97\n",
      "\n",
      "\n",
      "-----------------------\n",
      "\n",
      "\n",
      "Similarity between Edelstein and Gleiberman is 0.94\n",
      "Similarity between Edelstein and Reed is 0.89\n",
      "Similarity between Gleiberman and Reed is 0.92\n",
      "\n",
      "\n",
      "-----------------------\n",
      "\n",
      "\n",
      "Similarity between Kehr and Rosenbaum is 0.97\n",
      "Similarity between Kehr and Edelstein is 0.92\n",
      "Similarity between Rosenbaum and Edelstein is 0.94\n",
      "\n",
      "\n",
      "-----------------------\n",
      "\n",
      "\n",
      "Similarity between Lane and Reed is 0.89\n",
      "Similarity between Lane and Wilmington is 0.93\n",
      "Similarity between Reed and Wilmington is 0.91\n",
      "\n",
      "\n",
      "-----------------------\n",
      "\n",
      "\n"
     ]
    }
   ],
   "source": [
    "numbers = range(0,12)\n",
    "for num in numbers:\n",
    "    rev1 = (sets[num])[0]\n",
    "    rev2 = (sets[num])[1]\n",
    "    rev3 = (sets[num])[2]\n",
    "    dict1 = process(rev1)\n",
    "    dict2 = process(rev2)\n",
    "    dict3 = process(rev3)\n",
    "    sim1 = (getSimilarity(dict1,dict2)).round(2)\n",
    "    sim2 = (getSimilarity(dict1,dict3)).round(2)\n",
    "    sim3 = (getSimilarity(dict2,dict3)).round(2)\n",
    "    print(f\"Similarity between {rev1} and {rev2} is {sim1}\")\n",
    "    print(f\"Similarity between {rev1} and {rev3} is {sim2}\")\n",
    "    print(f\"Similarity between {rev2} and {rev3} is {sim3}\")\n",
    "    print('\\n')\n",
    "    print('-----------------------')\n",
    "    print('\\n')\n",
    "    "
   ]
  },
  {
   "cell_type": "markdown",
   "metadata": {},
   "source": [
    "Back to [top](#top) "
   ]
  },
  {
   "cell_type": "markdown",
   "metadata": {},
   "source": [
    "<a id='Step_5'></a>"
   ]
  },
  {
   "cell_type": "markdown",
   "metadata": {},
   "source": [
    "#### Step 5: References\n",
    "\n",
    "The primary references for this project are:\n",
    "\n",
    " - Schütze, Hinrich; Raghavan, Prabhakar; Manning, Christopher D. Introduction to Information Retrieval.\n",
    " - https://blogs.oracle.com/meena/finding-similarity-between-text-documents"
   ]
  }
 ],
 "metadata": {
  "kernelspec": {
   "display_name": "Python 3",
   "language": "python",
   "name": "python3"
  },
  "language_info": {
   "codemirror_mode": {
    "name": "ipython",
    "version": 3
   },
   "file_extension": ".py",
   "mimetype": "text/x-python",
   "name": "python",
   "nbconvert_exporter": "python",
   "pygments_lexer": "ipython3",
   "version": "3.7.3"
  }
 },
 "nbformat": 4,
 "nbformat_minor": 2
}
