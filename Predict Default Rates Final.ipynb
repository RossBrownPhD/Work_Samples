{
 "cells": [
  {
   "cell_type": "code",
   "execution_count": 1,
   "metadata": {},
   "outputs": [],
   "source": [
    "import pandas as pd\n",
    "pd.set_option('mode.chained_assignment', None)\n",
    "pd.set_option('max_columns', 120)\n",
    "pd.set_option('max_colwidth', 5000)\n",
    "pd.options.display.max_rows = 999"
   ]
  },
  {
   "cell_type": "code",
   "execution_count": 2,
   "metadata": {},
   "outputs": [],
   "source": [
    "import numpy as np\n",
    "import matplotlib.pyplot as plt\n",
    "from IPython.display import display\n",
    "%matplotlib inline\n",
    "import seaborn as sns"
   ]
  },
  {
   "cell_type": "markdown",
   "metadata": {},
   "source": [
    "#### Step 1: Make a data dictionary in Excel for review and notations "
   ]
  },
  {
   "cell_type": "code",
   "execution_count": 3,
   "metadata": {},
   "outputs": [],
   "source": [
    "df = pd.read_csv('C:/Users/rmbrm/Downloads/LoanStats_2015_v2/LoanStats_2015.csv', skiprows=1, low_memory=False) \n"
   ]
  },
  {
   "cell_type": "code",
   "execution_count": 4,
   "metadata": {},
   "outputs": [
    {
     "name": "stdout",
     "output_type": "stream",
     "text": [
      "153\n",
      "['LoanStatNew', 'Description']\n"
     ]
    }
   ],
   "source": [
    "data_dictionary = pd.read_excel('C:/Users/rmbrm/Documents/DS_WP/Predict Default Final/LCDataDictionary.xlsx') \n",
    "print(data_dictionary.shape[0])\n",
    "print(data_dictionary.columns.tolist())\n",
    "data_dictionary = data_dictionary.rename(columns={'LoanStatNew': 'name',\n",
    "                                                 'Description': 'description'})\n",
    "df_dtypes = pd.DataFrame(df.dtypes,columns=['dtypes'])\n",
    "df_dtypes = df_dtypes.reset_index()\n",
    "df_dtypes['name'] = df_dtypes['index']\n",
    "df_dtypes = df_dtypes[['name','dtypes']]\n",
    "\n",
    "df_dtypes['first value'] = df.loc[0].values\n",
    "preview = df_dtypes.merge(data_dictionary, on='name',how='left')\n",
    "\n",
    "preview.to_excel('C:/Users/rmbrm/Documents/DS_WP/Predict Default Final/variables2.xlsx')"
   ]
  },
  {
   "cell_type": "code",
   "execution_count": 5,
   "metadata": {
    "scrolled": false
   },
   "outputs": [
    {
     "data": {
      "text/html": [
       "<div>\n",
       "<style scoped>\n",
       "    .dataframe tbody tr th:only-of-type {\n",
       "        vertical-align: middle;\n",
       "    }\n",
       "\n",
       "    .dataframe tbody tr th {\n",
       "        vertical-align: top;\n",
       "    }\n",
       "\n",
       "    .dataframe thead th {\n",
       "        text-align: right;\n",
       "    }\n",
       "</style>\n",
       "<table border=\"1\" class=\"dataframe\">\n",
       "  <thead>\n",
       "    <tr style=\"text-align: right;\">\n",
       "      <th></th>\n",
       "      <th>name</th>\n",
       "      <th>dtypes</th>\n",
       "      <th>first value</th>\n",
       "      <th>description</th>\n",
       "    </tr>\n",
       "  </thead>\n",
       "  <tbody>\n",
       "    <tr>\n",
       "      <th>0</th>\n",
       "      <td>id</td>\n",
       "      <td>object</td>\n",
       "      <td>NaN</td>\n",
       "      <td>A unique LC assigned ID for the loan listing.</td>\n",
       "    </tr>\n",
       "    <tr>\n",
       "      <th>1</th>\n",
       "      <td>member_id</td>\n",
       "      <td>float64</td>\n",
       "      <td>NaN</td>\n",
       "      <td>A unique LC assigned Id for the borrower member.</td>\n",
       "    </tr>\n",
       "    <tr>\n",
       "      <th>2</th>\n",
       "      <td>loan_amnt</td>\n",
       "      <td>float64</td>\n",
       "      <td>12000</td>\n",
       "      <td>The listed amount of the loan applied for by the borrower. If at some point in time, the credit department reduces the loan amount, then it will be reflected in this value.</td>\n",
       "    </tr>\n",
       "    <tr>\n",
       "      <th>3</th>\n",
       "      <td>funded_amnt</td>\n",
       "      <td>float64</td>\n",
       "      <td>12000</td>\n",
       "      <td>The total amount committed to that loan at that point in time.</td>\n",
       "    </tr>\n",
       "    <tr>\n",
       "      <th>4</th>\n",
       "      <td>funded_amnt_inv</td>\n",
       "      <td>float64</td>\n",
       "      <td>12000</td>\n",
       "      <td>The total amount committed by investors for that loan at that point in time.</td>\n",
       "    </tr>\n",
       "  </tbody>\n",
       "</table>\n",
       "</div>"
      ],
      "text/plain": [
       "              name   dtypes first value  \\\n",
       "0               id   object         NaN   \n",
       "1        member_id  float64         NaN   \n",
       "2        loan_amnt  float64       12000   \n",
       "3      funded_amnt  float64       12000   \n",
       "4  funded_amnt_inv  float64       12000   \n",
       "\n",
       "                                                                                                                                                                    description  \n",
       "0                                                                                                                                 A unique LC assigned ID for the loan listing.  \n",
       "1                                                                                                                              A unique LC assigned Id for the borrower member.  \n",
       "2  The listed amount of the loan applied for by the borrower. If at some point in time, the credit department reduces the loan amount, then it will be reflected in this value.  \n",
       "3                                                                                                                The total amount committed to that loan at that point in time.  \n",
       "4                                                                                                  The total amount committed by investors for that loan at that point in time.  "
      ]
     },
     "execution_count": 5,
     "metadata": {},
     "output_type": "execute_result"
    }
   ],
   "source": [
    "preview.head()"
   ]
  },
  {
   "cell_type": "markdown",
   "metadata": {},
   "source": [
    "#### Step 2: Initial data review and missing data visualizations\n",
    "- Missing data visualization tool showed many features were almost entirely missing\n",
    "- Missing data visualization tool showed several features had matching missing data\n",
    "- I removed all features for which more than 50% of the data was missing.\n",
    "- I removed two empty rows at the end of the dataframe\n",
    "- I removed features that contained the same information as other features\n",
    "\n"
   ]
  },
  {
   "cell_type": "code",
   "execution_count": 6,
   "metadata": {},
   "outputs": [],
   "source": [
    "loans_orig = df"
   ]
  },
  {
   "cell_type": "code",
   "execution_count": 7,
   "metadata": {},
   "outputs": [
    {
     "data": {
      "text/plain": [
       "(421097, 145)"
      ]
     },
     "execution_count": 7,
     "metadata": {},
     "output_type": "execute_result"
    }
   ],
   "source": [
    "loans_orig.shape"
   ]
  },
  {
   "cell_type": "code",
   "execution_count": 8,
   "metadata": {
    "scrolled": true
   },
   "outputs": [
    {
     "data": {
      "text/plain": [
       "<matplotlib.axes._subplots.AxesSubplot at 0x1c480866710>"
      ]
     },
     "execution_count": 8,
     "metadata": {},
     "output_type": "execute_result"
    },
    {
     "data": {
      "image/png": "[encoded data removed]",
      "text/plain": [
       "<Figure size 1800x720 with 2 Axes>"
      ]
     },
     "metadata": {
      "needs_background": "light"
     },
     "output_type": "display_data"
    }
   ],
   "source": [
    "# 100,000\n",
    "import missingno as msno\n",
    "%matplotlib inline\n",
    "msno.matrix(loans_orig.sample(100000))"
   ]
  },
  {
   "cell_type": "markdown",
   "metadata": {},
   "source": [
    "###### Missing data visualization tool shows individual variables as columns, white is where data is missing. Shown are a low and high sampling rate. Variable names are not shown when there are more than 100."
   ]
  },
  {
   "cell_type": "code",
   "execution_count": 9,
   "metadata": {},
   "outputs": [
    {
     "data": {
      "text/plain": [
       "<matplotlib.axes._subplots.AxesSubplot at 0x1c481d7b208>"
      ]
     },
     "execution_count": 9,
     "metadata": {},
     "output_type": "execute_result"
    },
    {
     "data": {
      "image/png": "[encoded data removed]",
      "text/plain": [
       "<Figure size 1800x720 with 2 Axes>"
      ]
     },
     "metadata": {
      "needs_background": "light"
     },
     "output_type": "display_data"
    }
   ],
   "source": [
    "# 100\n",
    "import missingno as msno\n",
    "%matplotlib inline\n",
    "msno.matrix(loans_orig.sample(100))"
   ]
  },
  {
   "cell_type": "code",
   "execution_count": 10,
   "metadata": {},
   "outputs": [],
   "source": [
    "half_count = len(loans_orig) / 2\n",
    "loans_abrdg = loans_orig.dropna(thresh=half_count,axis=1)"
   ]
  },
  {
   "cell_type": "code",
   "execution_count": 11,
   "metadata": {
    "scrolled": true
   },
   "outputs": [
    {
     "data": {
      "text/plain": [
       "(421097, 88)"
      ]
     },
     "execution_count": 11,
     "metadata": {},
     "output_type": "execute_result"
    }
   ],
   "source": [
    "loans_abrdg.shape"
   ]
  },
  {
   "cell_type": "code",
   "execution_count": 12,
   "metadata": {
    "collapsed": true
   },
   "outputs": [
    {
     "data": {
      "text/plain": [
       "sec_app_earliest_cr_line                      421097\n",
       "revol_bal_joint                               421097\n",
       "member_id                                     421097\n",
       "url                                           421097\n",
       "sec_app_inq_last_6mths                        421097\n",
       "sec_app_mort_acc                              421097\n",
       "sec_app_open_acc                              421097\n",
       "sec_app_revol_util                            421097\n",
       "sec_app_open_act_il                           421097\n",
       "sec_app_num_rev_accts                         421097\n",
       "sec_app_chargeoff_within_12_mths              421097\n",
       "sec_app_collections_12_mths_ex_med            421097\n",
       "sec_app_mths_since_last_major_derog           421097\n",
       "id                                            421095\n",
       "desc                                          421052\n",
       "dti_joint                                     420588\n",
       "annual_inc_joint                              420586\n",
       "verification_status_joint                     420586\n",
       "orig_projected_additional_accrued_interest    419361\n",
       "payment_plan_start_date                       418983\n",
       "hardship_loan_status                          418983\n",
       "hardship_last_payment_amount                  418983\n",
       "hardship_payoff_balance_amount                418983\n",
       "hardship_dpd                                  418983\n",
       "hardship_end_date                             418983\n",
       "hardship_type                                 418983\n",
       "hardship_reason                               418983\n",
       "hardship_status                               418983\n",
       "deferral_term                                 418983\n",
       "hardship_amount                               418983\n",
       "hardship_length                               418983\n",
       "hardship_start_date                           418983\n",
       "settlement_percentage                         413699\n",
       "settlement_term                               413699\n",
       "settlement_date                               413699\n",
       "settlement_amount                             413699\n",
       "debt_settlement_flag_date                     413699\n",
       "settlement_status                             413699\n",
       "il_util                                       402480\n",
       "mths_since_rcnt_il                            400287\n",
       "total_cu_tl                                   399725\n",
       "max_bal_bc                                    399725\n",
       "open_rv_24m                                   399725\n",
       "open_rv_12m                                   399725\n",
       "total_bal_il                                  399725\n",
       "open_il_24m                                   399725\n",
       "all_util                                      399725\n",
       "open_il_12m                                   399725\n",
       "inq_fi                                        399725\n",
       "open_act_il                                   399725\n",
       "open_acc_6m                                   399725\n",
       "inq_last_12m                                  399725\n",
       "mths_since_last_record                        346682\n",
       "mths_since_recent_bc_dlq                      312497\n",
       "mths_since_last_major_derog                   298368\n",
       "mths_since_recent_revol_delinq                269360\n",
       "next_pymnt_d                                  260661\n",
       "mths_since_last_delinq                        203964\n",
       "mths_since_recent_inq                          44601\n",
       "emp_title                                      23876\n",
       "emp_length                                     23819\n",
       "num_tl_120dpd_2m                               19232\n",
       "mo_sin_old_il_acct                             12256\n",
       "percent_bc_gt_75                                4241\n",
       "bc_util                                         4229\n",
       "bc_open_to_buy                                  3965\n",
       "mths_since_recent_bc                            3800\n",
       "last_pymnt_d                                     296\n",
       "revol_util                                       164\n",
       "title                                            134\n",
       "last_credit_pull_d                                11\n",
       "dti                                                4\n",
       "num_rev_accts                                      3\n",
       "funded_amnt                                        2\n",
       "pub_rec                                            2\n",
       "revol_bal                                          2\n",
       "funded_amnt_inv                                    2\n",
       "total_acc                                          2\n",
       "addr_state                                         2\n",
       "initial_list_status                                2\n",
       "term                                               2\n",
       "loan_amnt                                          2\n",
       "out_prncp                                          2\n",
       "out_prncp_inv                                      2\n",
       "total_pymnt                                        2\n",
       "open_acc                                           2\n",
       "grade                                              2\n",
       "int_rate                                           2\n",
       "installment                                        2\n",
       "zip_code                                           2\n",
       "sub_grade                                          2\n",
       "home_ownership                                     2\n",
       "annual_inc                                         2\n",
       "verification_status                                2\n",
       "issue_d                                            2\n",
       "loan_status                                        2\n",
       "pymnt_plan                                         2\n",
       "inq_last_6mths                                     2\n",
       "purpose                                            2\n",
       "earliest_cr_line                                   2\n",
       "delinq_2yrs                                        2\n",
       "total_rec_prncp                                    2\n",
       "total_pymnt_inv                                    2\n",
       "total_il_high_credit_limit                         2\n",
       "total_rec_int                                      2\n",
       "mo_sin_rcnt_tl                                     2\n",
       "num_accts_ever_120_pd                              2\n",
       "num_actv_bc_tl                                     2\n",
       "num_actv_rev_tl                                    2\n",
       "num_bc_sats                                        2\n",
       "num_bc_tl                                          2\n",
       "num_il_tl                                          2\n",
       "num_op_rev_tl                                      2\n",
       "num_rev_tl_bal_gt_0                                2\n",
       "num_sats                                           2\n",
       "num_tl_30dpd                                       2\n",
       "num_tl_90g_dpd_24m                                 2\n",
       "num_tl_op_past_12m                                 2\n",
       "pct_tl_nvr_dlq                                     2\n",
       "pub_rec_bankruptcies                               2\n",
       "tax_liens                                          2\n",
       "tot_hi_cred_lim                                    2\n",
       "total_bal_ex_mort                                  2\n",
       "mort_acc                                           2\n",
       "mo_sin_rcnt_rev_tl_op                              2\n",
       "total_rec_late_fee                                 2\n",
       "mo_sin_old_rev_tl_op                               2\n",
       "recoveries                                         2\n",
       "collection_recovery_fee                            2\n",
       "last_pymnt_amnt                                    2\n",
       "collections_12_mths_ex_med                         2\n",
       "policy_code                                        2\n",
       "application_type                                   2\n",
       "debt_settlement_flag                               2\n",
       "total_bc_limit                                     2\n",
       "acc_now_delinq                                     2\n",
       "tot_coll_amt                                       2\n",
       "tot_cur_bal                                        2\n",
       "total_rev_hi_lim                                   2\n",
       "hardship_flag                                      2\n",
       "acc_open_past_24mths                               2\n",
       "avg_cur_bal                                        2\n",
       "chargeoff_within_12_mths                           2\n",
       "delinq_amnt                                        2\n",
       "disbursement_method                                2\n",
       "dtype: int64"
      ]
     },
     "execution_count": 12,
     "metadata": {},
     "output_type": "execute_result"
    }
   ],
   "source": [
    "missing = loans_orig.isnull().sum()\n",
    "missing.sort_values(ascending=False)"
   ]
  },
  {
   "cell_type": "code",
   "execution_count": 13,
   "metadata": {
    "scrolled": true
   },
   "outputs": [],
   "source": [
    "# Remove empty rows at the end \n",
    "df = loans_abrdg\n",
    "dfa = df.drop(df.index[421095])\n",
    "dfb = dfa.drop(dfa.index[421095])\n",
    "df = dfb\n"
   ]
  },
  {
   "cell_type": "code",
   "execution_count": 14,
   "metadata": {},
   "outputs": [],
   "source": [
    "# ID features that have the same information\n",
    "df['loan'] = np.where((df['loan_amnt'] == df['funded_amnt']) & (df['loan_amnt'] == df['funded_amnt_inv']), df['loan_amnt'], np.nan)"
   ]
  },
  {
   "cell_type": "markdown",
   "metadata": {},
   "source": [
    "#### Step 3: Outliers\n",
    "#### I first used the visualization library Plotly because it creates interactive boxplots, showing data values on hover, and allowing for zooming, panning, etc. Unfortunately, the data set was so big that only a few boxplots could be created in a single notebook. Therefore I recreated the boxplot using Seaborn. \n",
    "\n",
    "##### Takeaway: None of the outliers are problematic; the boxplots show many features with high-skewing distributions, which is not surprising, considering the variables."
   ]
  },
  {
   "cell_type": "code",
   "execution_count": 15,
   "metadata": {},
   "outputs": [],
   "source": [
    "time_vars = loans_orig[['mo_sin_old_rev_tl_op', 'mo_sin_rcnt_rev_tl_op', 'mo_sin_rcnt_tl']].copy()"
   ]
  },
  {
   "cell_type": "code",
   "execution_count": 16,
   "metadata": {
    "scrolled": true
   },
   "outputs": [],
   "source": [
    "time_fin = time_vars.rename(index=str, columns={'mo_sin_old_rev_tl_op': 'Oldest Revolving Account Opened', 'mo_sin_rcnt_rev_tl_op': 'Most Recent Revolving Account Opened', 'mo_sin_rcnt_tl': 'Most Recent Account Opened'})\n"
   ]
  },
  {
   "cell_type": "code",
   "execution_count": 17,
   "metadata": {},
   "outputs": [],
   "source": [
    "acct_vars = loans_orig[['num_accts_ever_120_pd', 'num_actv_bc_tl', 'num_actv_rev_tl', 'num_bc_sats', 'num_tl_90g_dpd_24m', 'num_sats']].copy()"
   ]
  },
  {
   "cell_type": "code",
   "execution_count": 18,
   "metadata": {
    "scrolled": true
   },
   "outputs": [],
   "source": [
    "acct_fin = acct_vars.rename(index=str, columns={'num_accts_ever_120_pd': 'Accounts Ever 120 or More Days Past Due', 'num_actv_bc_tl': 'Currently Active Bankcard Accounts', 'num_actv_rev_tl': 'Currently Active Revolving Trades', 'num_bc_sats': 'Satisfactory Bankcard Accounts', 'num_tl_90g_dpd_24m': 'Accounts 90+ Days Past Due in Past 24 Months', 'num_sats': 'Satisfactory Accounts'})\n"
   ]
  },
  {
   "cell_type": "code",
   "execution_count": 19,
   "metadata": {
    "scrolled": false
   },
   "outputs": [
    {
     "data": {
      "image/png": "[encoded data removed]",
      "text/plain": [
       "<Figure size 864x864 with 1 Axes>"
      ]
     },
     "metadata": {},
     "output_type": "display_data"
    }
   ],
   "source": [
    "                                                                                                                                     \n",
    "sns.set(style='whitegrid', rc={\"grid.linewidth\": 0.1})\n",
    "sns.set_context(\"paper\", font_scale=1.65) \n",
    "sns.catplot(kind='box',data=time_fin, height=12, color=\"skyblue\")\n",
    "plt.ylabel(\"Months Since ...\")\n",
    "#plt.xticks(rotation='80')\n",
    "plt.show()"
   ]
  },
  {
   "cell_type": "code",
   "execution_count": 20,
   "metadata": {},
   "outputs": [
    {
     "data": {
      "image/png": "[encoded data removed]",
      "text/plain": [
       "<Figure size 864x864 with 1 Axes>"
      ]
     },
     "metadata": {},
     "output_type": "display_data"
    }
   ],
   "source": [
    "                                                                                                                                     \n",
    "sns.set(style='whitegrid', rc={\"grid.linewidth\": 0.1})\n",
    "sns.set_context(\"paper\", font_scale=1.65) \n",
    "sns.catplot(kind='box',data=acct_fin, height=12, color=\"skyblue\")\n",
    "plt.ylabel(\"Number of ...\")\n",
    "plt.xticks(rotation='80')\n",
    "plt.show()"
   ]
  },
  {
   "cell_type": "markdown",
   "metadata": {},
   "source": [
    "#### What is the monthly average loan size?"
   ]
  },
  {
   "cell_type": "code",
   "execution_count": 21,
   "metadata": {},
   "outputs": [
    {
     "data": {
      "text/plain": [
       "15260.90473809072"
      ]
     },
     "execution_count": 21,
     "metadata": {},
     "output_type": "execute_result"
    }
   ],
   "source": [
    "mean = ((df.groupby('issue_d')['loan_amnt'].mean()))\n",
    "mean.mean()"
   ]
  },
  {
   "cell_type": "markdown",
   "metadata": {},
   "source": [
    "#### Step 4: Preprocessing\n",
    "- strip out text to create numeric features\n",
    "- recode text variables to create numeric features and target\n",
    "- remove irrelevant features\n",
    "- where some features have very few cases of a particular value, drop those cases\n",
    "- remove \"future leakage\" features that were identified during review of data dictionary, features such as \"debt_settlement_flag\""
   ]
  },
  {
   "cell_type": "code",
   "execution_count": 22,
   "metadata": {},
   "outputs": [
    {
     "data": {
      "text/html": [
       "<div>\n",
       "<style scoped>\n",
       "    .dataframe tbody tr th:only-of-type {\n",
       "        vertical-align: middle;\n",
       "    }\n",
       "\n",
       "    .dataframe tbody tr th {\n",
       "        vertical-align: top;\n",
       "    }\n",
       "\n",
       "    .dataframe thead th {\n",
       "        text-align: right;\n",
       "    }\n",
       "</style>\n",
       "<table border=\"1\" class=\"dataframe\">\n",
       "  <thead>\n",
       "    <tr style=\"text-align: right;\">\n",
       "      <th></th>\n",
       "      <th>loan_amnt</th>\n",
       "      <th>funded_amnt</th>\n",
       "      <th>funded_amnt_inv</th>\n",
       "      <th>term</th>\n",
       "      <th>int_rate</th>\n",
       "      <th>installment</th>\n",
       "      <th>grade</th>\n",
       "      <th>sub_grade</th>\n",
       "      <th>emp_title</th>\n",
       "      <th>emp_length</th>\n",
       "      <th>home_ownership</th>\n",
       "      <th>annual_inc</th>\n",
       "      <th>verification_status</th>\n",
       "      <th>issue_d</th>\n",
       "      <th>loan_status</th>\n",
       "      <th>pymnt_plan</th>\n",
       "      <th>purpose</th>\n",
       "      <th>title</th>\n",
       "      <th>zip_code</th>\n",
       "      <th>addr_state</th>\n",
       "      <th>dti</th>\n",
       "      <th>delinq_2yrs</th>\n",
       "      <th>earliest_cr_line</th>\n",
       "      <th>inq_last_6mths</th>\n",
       "      <th>mths_since_last_delinq</th>\n",
       "      <th>open_acc</th>\n",
       "      <th>pub_rec</th>\n",
       "      <th>revol_bal</th>\n",
       "      <th>revol_util</th>\n",
       "      <th>total_acc</th>\n",
       "      <th>initial_list_status</th>\n",
       "      <th>out_prncp</th>\n",
       "      <th>out_prncp_inv</th>\n",
       "      <th>total_pymnt</th>\n",
       "      <th>total_pymnt_inv</th>\n",
       "      <th>total_rec_prncp</th>\n",
       "      <th>total_rec_int</th>\n",
       "      <th>total_rec_late_fee</th>\n",
       "      <th>recoveries</th>\n",
       "      <th>collection_recovery_fee</th>\n",
       "      <th>last_pymnt_d</th>\n",
       "      <th>last_pymnt_amnt</th>\n",
       "      <th>last_credit_pull_d</th>\n",
       "      <th>collections_12_mths_ex_med</th>\n",
       "      <th>policy_code</th>\n",
       "      <th>application_type</th>\n",
       "      <th>acc_now_delinq</th>\n",
       "      <th>tot_coll_amt</th>\n",
       "      <th>tot_cur_bal</th>\n",
       "      <th>total_rev_hi_lim</th>\n",
       "      <th>acc_open_past_24mths</th>\n",
       "      <th>avg_cur_bal</th>\n",
       "      <th>bc_open_to_buy</th>\n",
       "      <th>bc_util</th>\n",
       "      <th>chargeoff_within_12_mths</th>\n",
       "      <th>delinq_amnt</th>\n",
       "      <th>mo_sin_old_il_acct</th>\n",
       "      <th>mo_sin_old_rev_tl_op</th>\n",
       "      <th>mo_sin_rcnt_rev_tl_op</th>\n",
       "      <th>mo_sin_rcnt_tl</th>\n",
       "      <th>mort_acc</th>\n",
       "      <th>mths_since_recent_bc</th>\n",
       "      <th>mths_since_recent_inq</th>\n",
       "      <th>num_accts_ever_120_pd</th>\n",
       "      <th>num_actv_bc_tl</th>\n",
       "      <th>num_actv_rev_tl</th>\n",
       "      <th>num_bc_sats</th>\n",
       "      <th>num_bc_tl</th>\n",
       "      <th>num_il_tl</th>\n",
       "      <th>num_op_rev_tl</th>\n",
       "      <th>num_rev_accts</th>\n",
       "      <th>num_rev_tl_bal_gt_0</th>\n",
       "      <th>num_sats</th>\n",
       "      <th>num_tl_120dpd_2m</th>\n",
       "      <th>num_tl_30dpd</th>\n",
       "      <th>num_tl_90g_dpd_24m</th>\n",
       "      <th>num_tl_op_past_12m</th>\n",
       "      <th>pct_tl_nvr_dlq</th>\n",
       "      <th>percent_bc_gt_75</th>\n",
       "      <th>pub_rec_bankruptcies</th>\n",
       "      <th>tax_liens</th>\n",
       "      <th>tot_hi_cred_lim</th>\n",
       "      <th>total_bal_ex_mort</th>\n",
       "      <th>total_bc_limit</th>\n",
       "      <th>total_il_high_credit_limit</th>\n",
       "      <th>hardship_flag</th>\n",
       "      <th>disbursement_method</th>\n",
       "      <th>debt_settlement_flag</th>\n",
       "      <th>loan</th>\n",
       "    </tr>\n",
       "  </thead>\n",
       "  <tbody>\n",
       "    <tr>\n",
       "      <th>0</th>\n",
       "      <td>12000.0</td>\n",
       "      <td>12000.0</td>\n",
       "      <td>12000.0</td>\n",
       "      <td>60 months</td>\n",
       "      <td>9.80%</td>\n",
       "      <td>253.79</td>\n",
       "      <td>B</td>\n",
       "      <td>B3</td>\n",
       "      <td>Teacher</td>\n",
       "      <td>10+ years</td>\n",
       "      <td>MORTGAGE</td>\n",
       "      <td>65000.0</td>\n",
       "      <td>Not Verified</td>\n",
       "      <td>Dec-2015</td>\n",
       "      <td>Fully Paid</td>\n",
       "      <td>n</td>\n",
       "      <td>debt_consolidation</td>\n",
       "      <td>Debt consolidation</td>\n",
       "      <td>660xx</td>\n",
       "      <td>KS</td>\n",
       "      <td>23.84</td>\n",
       "      <td>0.0</td>\n",
       "      <td>Nov-2003</td>\n",
       "      <td>0.0</td>\n",
       "      <td>NaN</td>\n",
       "      <td>18.0</td>\n",
       "      <td>0.0</td>\n",
       "      <td>9786.0</td>\n",
       "      <td>13.4%</td>\n",
       "      <td>37.0</td>\n",
       "      <td>w</td>\n",
       "      <td>0.00</td>\n",
       "      <td>0.00</td>\n",
       "      <td>13842.626405</td>\n",
       "      <td>13842.63</td>\n",
       "      <td>12000.00</td>\n",
       "      <td>1842.63</td>\n",
       "      <td>0.0</td>\n",
       "      <td>0.0</td>\n",
       "      <td>0.0</td>\n",
       "      <td>Nov-2017</td>\n",
       "      <td>8529.37</td>\n",
       "      <td>Nov-2017</td>\n",
       "      <td>0.0</td>\n",
       "      <td>1.0</td>\n",
       "      <td>Individual</td>\n",
       "      <td>0.0</td>\n",
       "      <td>0.0</td>\n",
       "      <td>181540.0</td>\n",
       "      <td>73200.0</td>\n",
       "      <td>8.0</td>\n",
       "      <td>10086.0</td>\n",
       "      <td>41055.0</td>\n",
       "      <td>17.1</td>\n",
       "      <td>0.0</td>\n",
       "      <td>0.0</td>\n",
       "      <td>127.0</td>\n",
       "      <td>145.0</td>\n",
       "      <td>4.0</td>\n",
       "      <td>1.0</td>\n",
       "      <td>2.0</td>\n",
       "      <td>4.0</td>\n",
       "      <td>14.0</td>\n",
       "      <td>0.0</td>\n",
       "      <td>2.0</td>\n",
       "      <td>4.0</td>\n",
       "      <td>5.0</td>\n",
       "      <td>10.0</td>\n",
       "      <td>13.0</td>\n",
       "      <td>11.0</td>\n",
       "      <td>22.0</td>\n",
       "      <td>4.0</td>\n",
       "      <td>18.0</td>\n",
       "      <td>0.0</td>\n",
       "      <td>0.0</td>\n",
       "      <td>0.0</td>\n",
       "      <td>3.0</td>\n",
       "      <td>100.0</td>\n",
       "      <td>0.0</td>\n",
       "      <td>0.0</td>\n",
       "      <td>0.0</td>\n",
       "      <td>291626.0</td>\n",
       "      <td>74787.0</td>\n",
       "      <td>49500.0</td>\n",
       "      <td>105910.0</td>\n",
       "      <td>N</td>\n",
       "      <td>Cash</td>\n",
       "      <td>N</td>\n",
       "      <td>12000.0</td>\n",
       "    </tr>\n",
       "    <tr>\n",
       "      <th>1</th>\n",
       "      <td>25000.0</td>\n",
       "      <td>25000.0</td>\n",
       "      <td>25000.0</td>\n",
       "      <td>36 months</td>\n",
       "      <td>5.32%</td>\n",
       "      <td>752.87</td>\n",
       "      <td>A</td>\n",
       "      <td>A1</td>\n",
       "      <td>Director</td>\n",
       "      <td>1 year</td>\n",
       "      <td>MORTGAGE</td>\n",
       "      <td>150000.0</td>\n",
       "      <td>Not Verified</td>\n",
       "      <td>Dec-2015</td>\n",
       "      <td>Current</td>\n",
       "      <td>n</td>\n",
       "      <td>credit_card</td>\n",
       "      <td>Credit card refinancing</td>\n",
       "      <td>054xx</td>\n",
       "      <td>VT</td>\n",
       "      <td>9.54</td>\n",
       "      <td>0.0</td>\n",
       "      <td>Feb-1996</td>\n",
       "      <td>0.0</td>\n",
       "      <td>NaN</td>\n",
       "      <td>7.0</td>\n",
       "      <td>0.0</td>\n",
       "      <td>19339.0</td>\n",
       "      <td>42.5%</td>\n",
       "      <td>18.0</td>\n",
       "      <td>w</td>\n",
       "      <td>6628.03</td>\n",
       "      <td>6628.03</td>\n",
       "      <td>20257.290000</td>\n",
       "      <td>20257.29</td>\n",
       "      <td>18371.97</td>\n",
       "      <td>1885.32</td>\n",
       "      <td>0.0</td>\n",
       "      <td>0.0</td>\n",
       "      <td>0.0</td>\n",
       "      <td>Mar-2018</td>\n",
       "      <td>752.87</td>\n",
       "      <td>Aug-2017</td>\n",
       "      <td>0.0</td>\n",
       "      <td>1.0</td>\n",
       "      <td>Individual</td>\n",
       "      <td>0.0</td>\n",
       "      <td>0.0</td>\n",
       "      <td>430856.0</td>\n",
       "      <td>45500.0</td>\n",
       "      <td>1.0</td>\n",
       "      <td>61551.0</td>\n",
       "      <td>24661.0</td>\n",
       "      <td>44.0</td>\n",
       "      <td>0.0</td>\n",
       "      <td>0.0</td>\n",
       "      <td>166.0</td>\n",
       "      <td>238.0</td>\n",
       "      <td>4.0</td>\n",
       "      <td>4.0</td>\n",
       "      <td>7.0</td>\n",
       "      <td>73.0</td>\n",
       "      <td>NaN</td>\n",
       "      <td>0.0</td>\n",
       "      <td>1.0</td>\n",
       "      <td>1.0</td>\n",
       "      <td>3.0</td>\n",
       "      <td>3.0</td>\n",
       "      <td>4.0</td>\n",
       "      <td>4.0</td>\n",
       "      <td>7.0</td>\n",
       "      <td>1.0</td>\n",
       "      <td>7.0</td>\n",
       "      <td>0.0</td>\n",
       "      <td>0.0</td>\n",
       "      <td>0.0</td>\n",
       "      <td>1.0</td>\n",
       "      <td>100.0</td>\n",
       "      <td>0.0</td>\n",
       "      <td>0.0</td>\n",
       "      <td>0.0</td>\n",
       "      <td>512381.0</td>\n",
       "      <td>44786.0</td>\n",
       "      <td>44000.0</td>\n",
       "      <td>51081.0</td>\n",
       "      <td>N</td>\n",
       "      <td>Cash</td>\n",
       "      <td>N</td>\n",
       "      <td>25000.0</td>\n",
       "    </tr>\n",
       "    <tr>\n",
       "      <th>2</th>\n",
       "      <td>28000.0</td>\n",
       "      <td>28000.0</td>\n",
       "      <td>28000.0</td>\n",
       "      <td>60 months</td>\n",
       "      <td>18.49%</td>\n",
       "      <td>718.51</td>\n",
       "      <td>D</td>\n",
       "      <td>D5</td>\n",
       "      <td>Engineer</td>\n",
       "      <td>10+ years</td>\n",
       "      <td>MORTGAGE</td>\n",
       "      <td>75000.0</td>\n",
       "      <td>Verified</td>\n",
       "      <td>Dec-2015</td>\n",
       "      <td>Current</td>\n",
       "      <td>n</td>\n",
       "      <td>debt_consolidation</td>\n",
       "      <td>Debt consolidation</td>\n",
       "      <td>471xx</td>\n",
       "      <td>IN</td>\n",
       "      <td>31.88</td>\n",
       "      <td>0.0</td>\n",
       "      <td>Oct-2002</td>\n",
       "      <td>0.0</td>\n",
       "      <td>NaN</td>\n",
       "      <td>27.0</td>\n",
       "      <td>0.0</td>\n",
       "      <td>43413.0</td>\n",
       "      <td>51.9%</td>\n",
       "      <td>46.0</td>\n",
       "      <td>w</td>\n",
       "      <td>18904.38</td>\n",
       "      <td>18904.38</td>\n",
       "      <td>18609.350000</td>\n",
       "      <td>18609.35</td>\n",
       "      <td>9095.62</td>\n",
       "      <td>9513.73</td>\n",
       "      <td>0.0</td>\n",
       "      <td>0.0</td>\n",
       "      <td>0.0</td>\n",
       "      <td>Mar-2018</td>\n",
       "      <td>718.51</td>\n",
       "      <td>Mar-2018</td>\n",
       "      <td>0.0</td>\n",
       "      <td>1.0</td>\n",
       "      <td>Individual</td>\n",
       "      <td>0.0</td>\n",
       "      <td>0.0</td>\n",
       "      <td>193745.0</td>\n",
       "      <td>83600.0</td>\n",
       "      <td>8.0</td>\n",
       "      <td>7176.0</td>\n",
       "      <td>23476.0</td>\n",
       "      <td>59.9</td>\n",
       "      <td>0.0</td>\n",
       "      <td>0.0</td>\n",
       "      <td>143.0</td>\n",
       "      <td>158.0</td>\n",
       "      <td>4.0</td>\n",
       "      <td>4.0</td>\n",
       "      <td>2.0</td>\n",
       "      <td>10.0</td>\n",
       "      <td>16.0</td>\n",
       "      <td>0.0</td>\n",
       "      <td>14.0</td>\n",
       "      <td>20.0</td>\n",
       "      <td>14.0</td>\n",
       "      <td>18.0</td>\n",
       "      <td>9.0</td>\n",
       "      <td>24.0</td>\n",
       "      <td>34.0</td>\n",
       "      <td>20.0</td>\n",
       "      <td>27.0</td>\n",
       "      <td>0.0</td>\n",
       "      <td>0.0</td>\n",
       "      <td>0.0</td>\n",
       "      <td>2.0</td>\n",
       "      <td>100.0</td>\n",
       "      <td>50.0</td>\n",
       "      <td>0.0</td>\n",
       "      <td>0.0</td>\n",
       "      <td>267312.0</td>\n",
       "      <td>57302.0</td>\n",
       "      <td>58500.0</td>\n",
       "      <td>31758.0</td>\n",
       "      <td>N</td>\n",
       "      <td>Cash</td>\n",
       "      <td>N</td>\n",
       "      <td>28000.0</td>\n",
       "    </tr>\n",
       "    <tr>\n",
       "      <th>3</th>\n",
       "      <td>30000.0</td>\n",
       "      <td>30000.0</td>\n",
       "      <td>30000.0</td>\n",
       "      <td>36 months</td>\n",
       "      <td>15.77%</td>\n",
       "      <td>1051.31</td>\n",
       "      <td>D</td>\n",
       "      <td>D1</td>\n",
       "      <td>Vice-President</td>\n",
       "      <td>2 years</td>\n",
       "      <td>MORTGAGE</td>\n",
       "      <td>175000.0</td>\n",
       "      <td>Not Verified</td>\n",
       "      <td>Dec-2015</td>\n",
       "      <td>Fully Paid</td>\n",
       "      <td>n</td>\n",
       "      <td>home_improvement</td>\n",
       "      <td>Home improvement</td>\n",
       "      <td>430xx</td>\n",
       "      <td>OH</td>\n",
       "      <td>18.50</td>\n",
       "      <td>0.0</td>\n",
       "      <td>Aug-1997</td>\n",
       "      <td>1.0</td>\n",
       "      <td>61.0</td>\n",
       "      <td>9.0</td>\n",
       "      <td>0.0</td>\n",
       "      <td>21831.0</td>\n",
       "      <td>50.3%</td>\n",
       "      <td>23.0</td>\n",
       "      <td>w</td>\n",
       "      <td>0.00</td>\n",
       "      <td>0.00</td>\n",
       "      <td>33903.765739</td>\n",
       "      <td>33903.77</td>\n",
       "      <td>30000.00</td>\n",
       "      <td>3903.77</td>\n",
       "      <td>0.0</td>\n",
       "      <td>0.0</td>\n",
       "      <td>0.0</td>\n",
       "      <td>Dec-2016</td>\n",
       "      <td>23456.38</td>\n",
       "      <td>Sep-2017</td>\n",
       "      <td>0.0</td>\n",
       "      <td>1.0</td>\n",
       "      <td>Individual</td>\n",
       "      <td>0.0</td>\n",
       "      <td>0.0</td>\n",
       "      <td>408118.0</td>\n",
       "      <td>43400.0</td>\n",
       "      <td>7.0</td>\n",
       "      <td>51015.0</td>\n",
       "      <td>21569.0</td>\n",
       "      <td>50.3</td>\n",
       "      <td>0.0</td>\n",
       "      <td>0.0</td>\n",
       "      <td>118.0</td>\n",
       "      <td>220.0</td>\n",
       "      <td>16.0</td>\n",
       "      <td>6.0</td>\n",
       "      <td>3.0</td>\n",
       "      <td>16.0</td>\n",
       "      <td>0.0</td>\n",
       "      <td>0.0</td>\n",
       "      <td>2.0</td>\n",
       "      <td>2.0</td>\n",
       "      <td>3.0</td>\n",
       "      <td>7.0</td>\n",
       "      <td>9.0</td>\n",
       "      <td>4.0</td>\n",
       "      <td>11.0</td>\n",
       "      <td>2.0</td>\n",
       "      <td>9.0</td>\n",
       "      <td>0.0</td>\n",
       "      <td>0.0</td>\n",
       "      <td>0.0</td>\n",
       "      <td>3.0</td>\n",
       "      <td>95.7</td>\n",
       "      <td>33.3</td>\n",
       "      <td>0.0</td>\n",
       "      <td>0.0</td>\n",
       "      <td>447599.0</td>\n",
       "      <td>152571.0</td>\n",
       "      <td>43400.0</td>\n",
       "      <td>146568.0</td>\n",
       "      <td>N</td>\n",
       "      <td>Cash</td>\n",
       "      <td>N</td>\n",
       "      <td>30000.0</td>\n",
       "    </tr>\n",
       "    <tr>\n",
       "      <th>4</th>\n",
       "      <td>17600.0</td>\n",
       "      <td>17600.0</td>\n",
       "      <td>17600.0</td>\n",
       "      <td>60 months</td>\n",
       "      <td>19.89%</td>\n",
       "      <td>465.22</td>\n",
       "      <td>E</td>\n",
       "      <td>E3</td>\n",
       "      <td>RN</td>\n",
       "      <td>&lt; 1 year</td>\n",
       "      <td>RENT</td>\n",
       "      <td>44000.0</td>\n",
       "      <td>Verified</td>\n",
       "      <td>Dec-2015</td>\n",
       "      <td>Current</td>\n",
       "      <td>n</td>\n",
       "      <td>credit_card</td>\n",
       "      <td>NaN</td>\n",
       "      <td>322xx</td>\n",
       "      <td>FL</td>\n",
       "      <td>17.56</td>\n",
       "      <td>0.0</td>\n",
       "      <td>Jun-2006</td>\n",
       "      <td>0.0</td>\n",
       "      <td>NaN</td>\n",
       "      <td>7.0</td>\n",
       "      <td>0.0</td>\n",
       "      <td>12900.0</td>\n",
       "      <td>102.4%</td>\n",
       "      <td>25.0</td>\n",
       "      <td>w</td>\n",
       "      <td>12017.72</td>\n",
       "      <td>12017.72</td>\n",
       "      <td>12047.100000</td>\n",
       "      <td>12047.10</td>\n",
       "      <td>5582.28</td>\n",
       "      <td>6464.82</td>\n",
       "      <td>0.0</td>\n",
       "      <td>0.0</td>\n",
       "      <td>0.0</td>\n",
       "      <td>Mar-2018</td>\n",
       "      <td>465.22</td>\n",
       "      <td>Mar-2018</td>\n",
       "      <td>0.0</td>\n",
       "      <td>1.0</td>\n",
       "      <td>Individual</td>\n",
       "      <td>0.0</td>\n",
       "      <td>0.0</td>\n",
       "      <td>133285.0</td>\n",
       "      <td>12600.0</td>\n",
       "      <td>1.0</td>\n",
       "      <td>19041.0</td>\n",
       "      <td>0.0</td>\n",
       "      <td>102.4</td>\n",
       "      <td>0.0</td>\n",
       "      <td>0.0</td>\n",
       "      <td>112.0</td>\n",
       "      <td>114.0</td>\n",
       "      <td>25.0</td>\n",
       "      <td>13.0</td>\n",
       "      <td>0.0</td>\n",
       "      <td>25.0</td>\n",
       "      <td>NaN</td>\n",
       "      <td>0.0</td>\n",
       "      <td>3.0</td>\n",
       "      <td>3.0</td>\n",
       "      <td>3.0</td>\n",
       "      <td>3.0</td>\n",
       "      <td>21.0</td>\n",
       "      <td>3.0</td>\n",
       "      <td>4.0</td>\n",
       "      <td>3.0</td>\n",
       "      <td>7.0</td>\n",
       "      <td>0.0</td>\n",
       "      <td>0.0</td>\n",
       "      <td>0.0</td>\n",
       "      <td>0.0</td>\n",
       "      <td>100.0</td>\n",
       "      <td>100.0</td>\n",
       "      <td>0.0</td>\n",
       "      <td>0.0</td>\n",
       "      <td>139633.0</td>\n",
       "      <td>133285.0</td>\n",
       "      <td>12600.0</td>\n",
       "      <td>127033.0</td>\n",
       "      <td>N</td>\n",
       "      <td>Cash</td>\n",
       "      <td>N</td>\n",
       "      <td>17600.0</td>\n",
       "    </tr>\n",
       "  </tbody>\n",
       "</table>\n",
       "</div>"
      ],
      "text/plain": [
       "   loan_amnt  funded_amnt  funded_amnt_inv        term int_rate  installment  \\\n",
       "0    12000.0      12000.0          12000.0   60 months    9.80%       253.79   \n",
       "1    25000.0      25000.0          25000.0   36 months    5.32%       752.87   \n",
       "2    28000.0      28000.0          28000.0   60 months   18.49%       718.51   \n",
       "3    30000.0      30000.0          30000.0   36 months   15.77%      1051.31   \n",
       "4    17600.0      17600.0          17600.0   60 months   19.89%       465.22   \n",
       "\n",
       "  grade sub_grade       emp_title emp_length home_ownership  annual_inc  \\\n",
       "0     B        B3         Teacher  10+ years       MORTGAGE     65000.0   \n",
       "1     A        A1        Director     1 year       MORTGAGE    150000.0   \n",
       "2     D        D5        Engineer  10+ years       MORTGAGE     75000.0   \n",
       "3     D        D1  Vice-President    2 years       MORTGAGE    175000.0   \n",
       "4     E        E3              RN   < 1 year           RENT     44000.0   \n",
       "\n",
       "  verification_status   issue_d loan_status pymnt_plan             purpose  \\\n",
       "0        Not Verified  Dec-2015  Fully Paid          n  debt_consolidation   \n",
       "1        Not Verified  Dec-2015     Current          n         credit_card   \n",
       "2            Verified  Dec-2015     Current          n  debt_consolidation   \n",
       "3        Not Verified  Dec-2015  Fully Paid          n    home_improvement   \n",
       "4            Verified  Dec-2015     Current          n         credit_card   \n",
       "\n",
       "                     title zip_code addr_state    dti  delinq_2yrs  \\\n",
       "0       Debt consolidation    660xx         KS  23.84          0.0   \n",
       "1  Credit card refinancing    054xx         VT   9.54          0.0   \n",
       "2       Debt consolidation    471xx         IN  31.88          0.0   \n",
       "3         Home improvement    430xx         OH  18.50          0.0   \n",
       "4                      NaN    322xx         FL  17.56          0.0   \n",
       "\n",
       "  earliest_cr_line  inq_last_6mths  mths_since_last_delinq  open_acc  pub_rec  \\\n",
       "0         Nov-2003             0.0                     NaN      18.0      0.0   \n",
       "1         Feb-1996             0.0                     NaN       7.0      0.0   \n",
       "2         Oct-2002             0.0                     NaN      27.0      0.0   \n",
       "3         Aug-1997             1.0                    61.0       9.0      0.0   \n",
       "4         Jun-2006             0.0                     NaN       7.0      0.0   \n",
       "\n",
       "   revol_bal revol_util  total_acc initial_list_status  out_prncp  \\\n",
       "0     9786.0      13.4%       37.0                   w       0.00   \n",
       "1    19339.0      42.5%       18.0                   w    6628.03   \n",
       "2    43413.0      51.9%       46.0                   w   18904.38   \n",
       "3    21831.0      50.3%       23.0                   w       0.00   \n",
       "4    12900.0     102.4%       25.0                   w   12017.72   \n",
       "\n",
       "   out_prncp_inv   total_pymnt  total_pymnt_inv  total_rec_prncp  \\\n",
       "0           0.00  13842.626405         13842.63         12000.00   \n",
       "1        6628.03  20257.290000         20257.29         18371.97   \n",
       "2       18904.38  18609.350000         18609.35          9095.62   \n",
       "3           0.00  33903.765739         33903.77         30000.00   \n",
       "4       12017.72  12047.100000         12047.10          5582.28   \n",
       "\n",
       "   total_rec_int  total_rec_late_fee  recoveries  collection_recovery_fee  \\\n",
       "0        1842.63                 0.0         0.0                      0.0   \n",
       "1        1885.32                 0.0         0.0                      0.0   \n",
       "2        9513.73                 0.0         0.0                      0.0   \n",
       "3        3903.77                 0.0         0.0                      0.0   \n",
       "4        6464.82                 0.0         0.0                      0.0   \n",
       "\n",
       "  last_pymnt_d  last_pymnt_amnt last_credit_pull_d  \\\n",
       "0     Nov-2017          8529.37           Nov-2017   \n",
       "1     Mar-2018           752.87           Aug-2017   \n",
       "2     Mar-2018           718.51           Mar-2018   \n",
       "3     Dec-2016         23456.38           Sep-2017   \n",
       "4     Mar-2018           465.22           Mar-2018   \n",
       "\n",
       "   collections_12_mths_ex_med  policy_code application_type  acc_now_delinq  \\\n",
       "0                         0.0          1.0       Individual             0.0   \n",
       "1                         0.0          1.0       Individual             0.0   \n",
       "2                         0.0          1.0       Individual             0.0   \n",
       "3                         0.0          1.0       Individual             0.0   \n",
       "4                         0.0          1.0       Individual             0.0   \n",
       "\n",
       "   tot_coll_amt  tot_cur_bal  total_rev_hi_lim  acc_open_past_24mths  \\\n",
       "0           0.0     181540.0           73200.0                   8.0   \n",
       "1           0.0     430856.0           45500.0                   1.0   \n",
       "2           0.0     193745.0           83600.0                   8.0   \n",
       "3           0.0     408118.0           43400.0                   7.0   \n",
       "4           0.0     133285.0           12600.0                   1.0   \n",
       "\n",
       "   avg_cur_bal  bc_open_to_buy  bc_util  chargeoff_within_12_mths  \\\n",
       "0      10086.0         41055.0     17.1                       0.0   \n",
       "1      61551.0         24661.0     44.0                       0.0   \n",
       "2       7176.0         23476.0     59.9                       0.0   \n",
       "3      51015.0         21569.0     50.3                       0.0   \n",
       "4      19041.0             0.0    102.4                       0.0   \n",
       "\n",
       "   delinq_amnt  mo_sin_old_il_acct  mo_sin_old_rev_tl_op  \\\n",
       "0          0.0               127.0                 145.0   \n",
       "1          0.0               166.0                 238.0   \n",
       "2          0.0               143.0                 158.0   \n",
       "3          0.0               118.0                 220.0   \n",
       "4          0.0               112.0                 114.0   \n",
       "\n",
       "   mo_sin_rcnt_rev_tl_op  mo_sin_rcnt_tl  mort_acc  mths_since_recent_bc  \\\n",
       "0                    4.0             1.0       2.0                   4.0   \n",
       "1                    4.0             4.0       7.0                  73.0   \n",
       "2                    4.0             4.0       2.0                  10.0   \n",
       "3                   16.0             6.0       3.0                  16.0   \n",
       "4                   25.0            13.0       0.0                  25.0   \n",
       "\n",
       "   mths_since_recent_inq  num_accts_ever_120_pd  num_actv_bc_tl  \\\n",
       "0                   14.0                    0.0             2.0   \n",
       "1                    NaN                    0.0             1.0   \n",
       "2                   16.0                    0.0            14.0   \n",
       "3                    0.0                    0.0             2.0   \n",
       "4                    NaN                    0.0             3.0   \n",
       "\n",
       "   num_actv_rev_tl  num_bc_sats  num_bc_tl  num_il_tl  num_op_rev_tl  \\\n",
       "0              4.0          5.0       10.0       13.0           11.0   \n",
       "1              1.0          3.0        3.0        4.0            4.0   \n",
       "2             20.0         14.0       18.0        9.0           24.0   \n",
       "3              2.0          3.0        7.0        9.0            4.0   \n",
       "4              3.0          3.0        3.0       21.0            3.0   \n",
       "\n",
       "   num_rev_accts  num_rev_tl_bal_gt_0  num_sats  num_tl_120dpd_2m  \\\n",
       "0           22.0                  4.0      18.0               0.0   \n",
       "1            7.0                  1.0       7.0               0.0   \n",
       "2           34.0                 20.0      27.0               0.0   \n",
       "3           11.0                  2.0       9.0               0.0   \n",
       "4            4.0                  3.0       7.0               0.0   \n",
       "\n",
       "   num_tl_30dpd  num_tl_90g_dpd_24m  num_tl_op_past_12m  pct_tl_nvr_dlq  \\\n",
       "0           0.0                 0.0                 3.0           100.0   \n",
       "1           0.0                 0.0                 1.0           100.0   \n",
       "2           0.0                 0.0                 2.0           100.0   \n",
       "3           0.0                 0.0                 3.0            95.7   \n",
       "4           0.0                 0.0                 0.0           100.0   \n",
       "\n",
       "   percent_bc_gt_75  pub_rec_bankruptcies  tax_liens  tot_hi_cred_lim  \\\n",
       "0               0.0                   0.0        0.0         291626.0   \n",
       "1               0.0                   0.0        0.0         512381.0   \n",
       "2              50.0                   0.0        0.0         267312.0   \n",
       "3              33.3                   0.0        0.0         447599.0   \n",
       "4             100.0                   0.0        0.0         139633.0   \n",
       "\n",
       "   total_bal_ex_mort  total_bc_limit  total_il_high_credit_limit  \\\n",
       "0            74787.0         49500.0                    105910.0   \n",
       "1            44786.0         44000.0                     51081.0   \n",
       "2            57302.0         58500.0                     31758.0   \n",
       "3           152571.0         43400.0                    146568.0   \n",
       "4           133285.0         12600.0                    127033.0   \n",
       "\n",
       "  hardship_flag disbursement_method debt_settlement_flag     loan  \n",
       "0             N                Cash                    N  12000.0  \n",
       "1             N                Cash                    N  25000.0  \n",
       "2             N                Cash                    N  28000.0  \n",
       "3             N                Cash                    N  30000.0  \n",
       "4             N                Cash                    N  17600.0  "
      ]
     },
     "execution_count": 22,
     "metadata": {},
     "output_type": "execute_result"
    }
   ],
   "source": [
    "df.head()"
   ]
  },
  {
   "cell_type": "code",
   "execution_count": 23,
   "metadata": {},
   "outputs": [],
   "source": [
    "cols = ['term']\n",
    "\n",
    "# pass them to df.replace(), specifying each char and its replacement:\n",
    "df[cols] = df[cols].replace({' months': ''}, regex=True)"
   ]
  },
  {
   "cell_type": "code",
   "execution_count": 24,
   "metadata": {},
   "outputs": [],
   "source": [
    "cols = ['int_rate', 'revol_util']\n",
    "df[cols] = df[cols].replace({'%': ''}, regex=True)"
   ]
  },
  {
   "cell_type": "code",
   "execution_count": 25,
   "metadata": {},
   "outputs": [],
   "source": [
    "cols = ['int_rate']\n",
    "df[cols] = df[cols].replace({'%': ''}, regex=True)"
   ]
  },
  {
   "cell_type": "code",
   "execution_count": 26,
   "metadata": {},
   "outputs": [],
   "source": [
    "cols = ['int_rate', 'revol_util']\n",
    "\n",
    "df[cols] = df[cols].replace({' ': ''}, regex=True)"
   ]
  },
  {
   "cell_type": "code",
   "execution_count": 27,
   "metadata": {},
   "outputs": [],
   "source": [
    "df[\"revol_util\"] = df.revol_util.astype(float)"
   ]
  },
  {
   "cell_type": "code",
   "execution_count": 28,
   "metadata": {},
   "outputs": [],
   "source": [
    "df[\"int_rate\"] = df.int_rate.astype(float)"
   ]
  },
  {
   "cell_type": "code",
   "execution_count": 29,
   "metadata": {},
   "outputs": [],
   "source": [
    "df[\"term\"] = df.term.astype(float)"
   ]
  },
  {
   "cell_type": "code",
   "execution_count": 30,
   "metadata": {},
   "outputs": [],
   "source": [
    "df.hardship_flag = df.hardship_flag.replace({\"N\": 0, \"Y\": 1})"
   ]
  },
  {
   "cell_type": "code",
   "execution_count": 31,
   "metadata": {},
   "outputs": [],
   "source": [
    "df.grade = df.grade.replace({\"A\": 7, \"B\": 6, \"C\": 5, \"D\": 4, \"E\": 3, \"F\": 2, \"G\": 1})"
   ]
  },
  {
   "cell_type": "code",
   "execution_count": 32,
   "metadata": {},
   "outputs": [],
   "source": [
    "df.emp_length = df.emp_length.replace({\"10+ years\": 10, \"1 year\": 1, \"< 1 year\": .5, \"2 years\": 2, \"3 years\": 3, \"4 years\": 4, \"5 years\": 5, \"6 years\": 6, \"7 years\": 7, \"8 years\": 8, \"9 years\": 9})"
   ]
  },
  {
   "cell_type": "code",
   "execution_count": 33,
   "metadata": {},
   "outputs": [],
   "source": [
    "df['default'] = df['loan_status']\n",
    "recode = {'Fully Paid': 0, 'Current': 0, 'Charged Off': 1, 'Late (31-120 days)': 0, 'In Grace Period': 0, 'Late (16-30 days)': 0, 'Default': 1}\n",
    "df['default'] = df['default'].apply(lambda x: recode[x])"
   ]
  },
  {
   "cell_type": "code",
   "execution_count": 34,
   "metadata": {},
   "outputs": [],
   "source": [
    "drop_cols = ['funded_amnt', 'addr_state', 'debt_settlement_flag', 'loan_amnt', 'funded_amnt_inv', 'sub_grade', 'emp_title', 'issue_d', 'loan_status', 'pymnt_plan', 'last_pymnt_d', 'title', 'zip_code', 'earliest_cr_line', 'revol_bal', 'total_acc', 'initial_list_status', 'out_prncp', 'out_prncp_inv', 'total_pymnt', 'total_pymnt_inv', 'total_rec_prncp', 'total_rec_int', 'total_rec_late_fee', 'recoveries', 'collection_recovery_fee', 'last_pymnt_amnt', 'last_credit_pull_d', 'policy_code', 'application_type', 'tot_coll_amt', 'tot_cur_bal', 'total_rev_hi_lim', 'acc_open_past_24mths', 'avg_cur_bal', 'delinq_amnt', 'mort_acc', 'num_actv_rev_tl', 'num_bc_tl', 'num_il_tl', 'num_op_rev_tl', 'num_rev_accts', 'num_rev_tl_bal_gt_0', 'tot_hi_cred_lim', 'total_bal_ex_mort', 'disbursement_method', 'mths_since_last_delinq', 'mths_since_recent_inq', 'num_tl_120dpd_2m']"
   ]
  },
  {
   "cell_type": "code",
   "execution_count": 36,
   "metadata": {},
   "outputs": [],
   "source": [
    "data_filtered = df.drop(drop_cols, axis=1)"
   ]
  },
  {
   "cell_type": "code",
   "execution_count": 37,
   "metadata": {},
   "outputs": [
    {
     "data": {
      "text/plain": [
       "(421095, 41)"
      ]
     },
     "execution_count": 37,
     "metadata": {},
     "output_type": "execute_result"
    }
   ],
   "source": [
    "data_filtered.shape \n"
   ]
  },
  {
   "cell_type": "code",
   "execution_count": 38,
   "metadata": {},
   "outputs": [],
   "source": [
    "data_filtered.to_pickle (\"C:/Users/rmbrm/Documents/DS_WP/Predict Default Final/data_41_features\", compression='infer', protocol=4)"
   ]
  },
  {
   "cell_type": "code",
   "execution_count": 39,
   "metadata": {},
   "outputs": [],
   "source": [
    "df = data_filtered"
   ]
  },
  {
   "cell_type": "code",
   "execution_count": 40,
   "metadata": {
    "scrolled": true
   },
   "outputs": [
    {
     "data": {
      "text/plain": [
       "Source Verified    179565\n",
       "Verified           123016\n",
       "Not Verified       118514\n",
       "Name: verification_status, dtype: int64"
      ]
     },
     "execution_count": 40,
     "metadata": {},
     "output_type": "execute_result"
    }
   ],
   "source": [
    "df['verification_status'].value_counts()"
   ]
  },
  {
   "cell_type": "code",
   "execution_count": 41,
   "metadata": {
    "scrolled": false
   },
   "outputs": [
    {
     "data": {
      "text/plain": [
       "debt_consolidation    250020\n",
       "credit_card           102025\n",
       "home_improvement       25293\n",
       "other                  19204\n",
       "major_purchase          7449\n",
       "medical                 3938\n",
       "car                     3466\n",
       "small_business          3364\n",
       "moving                  2420\n",
       "vacation                2249\n",
       "house                   1438\n",
       "renewable_energy         224\n",
       "wedding                    4\n",
       "educational                1\n",
       "Name: purpose, dtype: int64"
      ]
     },
     "execution_count": 41,
     "metadata": {},
     "output_type": "execute_result"
    }
   ],
   "source": [
    "df['purpose'].value_counts()"
   ]
  },
  {
   "cell_type": "code",
   "execution_count": 42,
   "metadata": {},
   "outputs": [
    {
     "data": {
      "text/plain": [
       "MORTGAGE    207683\n",
       "RENT        167644\n",
       "OWN          45766\n",
       "ANY              2\n",
       "Name: home_ownership, dtype: int64"
      ]
     },
     "execution_count": 42,
     "metadata": {},
     "output_type": "execute_result"
    }
   ],
   "source": [
    "df['home_ownership'].value_counts()"
   ]
  },
  {
   "cell_type": "code",
   "execution_count": 43,
   "metadata": {},
   "outputs": [],
   "source": [
    "df = df[df.purpose != 'wedding']"
   ]
  },
  {
   "cell_type": "code",
   "execution_count": 44,
   "metadata": {},
   "outputs": [],
   "source": [
    "df = df[df.purpose != 'educational']"
   ]
  },
  {
   "cell_type": "code",
   "execution_count": 45,
   "metadata": {},
   "outputs": [],
   "source": [
    "df = df[df.purpose != 'renewable_energy']"
   ]
  },
  {
   "cell_type": "code",
   "execution_count": 46,
   "metadata": {},
   "outputs": [],
   "source": [
    "df = df[df.home_ownership != 'ANY']"
   ]
  },
  {
   "cell_type": "code",
   "execution_count": 47,
   "metadata": {},
   "outputs": [],
   "source": [
    "df.purpose = df.purpose.replace({\"debt_consolidation\": 1, \"credit_card\": 2, \"home_improvement\": 3, \"other\": 4, \"major_purchase\": 5, \"medical\": 6, \"car\": 7, \"small_business\": 8, \"moving\": 9, \"vacation\": 10, \"house\": 11})"
   ]
  },
  {
   "cell_type": "code",
   "execution_count": 48,
   "metadata": {},
   "outputs": [],
   "source": [
    "df.verification_status = df.verification_status.replace({\"Source Verified\": 1, \"Verified\": 2, \"Not Verified\": 3})"
   ]
  },
  {
   "cell_type": "code",
   "execution_count": 49,
   "metadata": {},
   "outputs": [],
   "source": [
    "df.home_ownership = df.home_ownership.replace({\"MORTGAGE\": 1, \"RENT\": 2, \"OWN\": 3})"
   ]
  },
  {
   "cell_type": "code",
   "execution_count": 50,
   "metadata": {},
   "outputs": [],
   "source": [
    "df.to_pickle (\"C:/Users/rmbrm/Documents/DS_WP/Predict Default Final/data_processed\", compression='infer', protocol=4)"
   ]
  },
  {
   "cell_type": "markdown",
   "metadata": {},
   "source": [
    "#### Step 5: Consider characteristics of the data and the goal of the project to formulate and implement a machine learning plan\n",
    "- There is an abundance of features\n",
    "- Start with an often effective algorithm that does not require feature scaling\n",
    "- Start with an often effective algorithm that does not require one-hot encoding of categorical variables\n",
    "- Run a random forests\n",
    "- Investigate feature importance to see if features can be removed without having a great effect on prediction accuracy\n",
    "- After removing features, try other algorithms to see if any are better than random forests"
   ]
  },
  {
   "cell_type": "code",
   "execution_count": 51,
   "metadata": {},
   "outputs": [],
   "source": [
    "# random forests doesn't work with Nans so drop them\n",
    "df = df.dropna()"
   ]
  },
  {
   "cell_type": "code",
   "execution_count": 52,
   "metadata": {
    "scrolled": true
   },
   "outputs": [
    {
     "data": {
      "text/plain": [
       "(353257, 41)"
      ]
     },
     "execution_count": 52,
     "metadata": {},
     "output_type": "execute_result"
    }
   ],
   "source": [
    "df.shape"
   ]
  },
  {
   "cell_type": "code",
   "execution_count": 53,
   "metadata": {},
   "outputs": [],
   "source": [
    "features = df.drop(df.columns[40], axis=1).values \n",
    "target = df['default'].values"
   ]
  },
  {
   "cell_type": "code",
   "execution_count": 54,
   "metadata": {
    "scrolled": true
   },
   "outputs": [
    {
     "data": {
      "text/plain": [
       "(numpy.ndarray, numpy.ndarray)"
      ]
     },
     "execution_count": 54,
     "metadata": {},
     "output_type": "execute_result"
    }
   ],
   "source": [
    "type (features), type(target)"
   ]
  },
  {
   "cell_type": "code",
   "execution_count": 55,
   "metadata": {},
   "outputs": [
    {
     "name": "stdout",
     "output_type": "stream",
     "text": [
      "[0 0 0 ... 1 1 0]\n"
     ]
    }
   ],
   "source": [
    "print(target)"
   ]
  },
  {
   "cell_type": "code",
   "execution_count": 56,
   "metadata": {
    "collapsed": true
   },
   "outputs": [
    {
     "name": "stderr",
     "output_type": "stream",
     "text": [
      "C:\\Users\\rmbrm\\Anaconda3\\lib\\site-packages\\sklearn\\ensemble\\weight_boosting.py:29: DeprecationWarning: numpy.core.umath_tests is an internal NumPy module and should not be imported. It will be removed in a future NumPy release.\n",
      "  from numpy.core.umath_tests import inner1d\n"
     ]
    }
   ],
   "source": [
    "from sklearn.ensemble import RandomForestClassifier\n",
    "from sklearn.model_selection import train_test_split"
   ]
  },
  {
   "cell_type": "code",
   "execution_count": 57,
   "metadata": {
    "scrolled": false
   },
   "outputs": [
    {
     "name": "stdout",
     "output_type": "stream",
     "text": [
      "Accuracy on training set: 1.000\n",
      "Accuracy on test set: 0.855\n"
     ]
    }
   ],
   "source": [
    "X_train, X_test, y_train, y_test = train_test_split(features, target, random_state = 0)\n",
    "forest = RandomForestClassifier(n_estimators = 100, random_state = 0)\n",
    "forest.fit(X_train, y_train)\n",
    "\n",
    "print(\"Accuracy on training set: {:.3f}\".format(forest.score(X_train, y_train)))\n",
    "print(\"Accuracy on test set: {:.3f}\".format(forest.score( X_test, y_test)))\n"
   ]
  },
  {
   "cell_type": "code",
   "execution_count": 58,
   "metadata": {
    "scrolled": true
   },
   "outputs": [
    {
     "name": "stdout",
     "output_type": "stream",
     "text": [
      "Feature ranking:\n",
      "1. feature 1 (0.055704)\n",
      "2. feature 9 (0.053665)\n",
      "3. feature 21 (0.050536)\n",
      "4. feature 20 (0.048768)\n",
      "5. feature 14 (0.048501)\n",
      "6. feature 36 (0.048256)\n",
      "7. feature 17 (0.047604)\n",
      "8. feature 37 (0.046606)\n",
      "9. feature 18 (0.046562)\n",
      "10. feature 2 (0.046482)\n",
      "11. feature 6 (0.044978)\n",
      "12. feature 24 (0.037501)\n",
      "13. feature 39 (0.037408)\n",
      "14. feature 22 (0.031886)\n",
      "15. feature 12 (0.028952)\n",
      "16. feature 23 (0.028895)\n",
      "17. feature 28 (0.028862)\n",
      "18. feature 32 (0.028551)\n",
      "19. feature 4 (0.024233)\n",
      "20. feature 27 (0.023739)\n",
      "21. feature 3 (0.023469)\n",
      "22. feature 33 (0.023331)\n",
      "23. feature 26 (0.022585)\n",
      "24. feature 31 (0.021235)\n",
      "25. feature 8 (0.014769)\n",
      "26. feature 11 (0.013367)\n",
      "27. feature 25 (0.011782)\n",
      "28. feature 7 (0.010973)\n",
      "29. feature 10 (0.009862)\n",
      "30. feature 5 (0.009736)\n",
      "31. feature 13 (0.007246)\n",
      "32. feature 0 (0.005698)\n",
      "33. feature 34 (0.005409)\n",
      "34. feature 30 (0.004193)\n",
      "35. feature 35 (0.003527)\n",
      "36. feature 15 (0.002571)\n",
      "37. feature 19 (0.001272)\n",
      "38. feature 16 (0.000715)\n",
      "39. feature 29 (0.000563)\n",
      "40. feature 38 (0.000007)\n"
     ]
    },
    {
     "data": {
      "image/png": "[encoded data removed]",
      "text/plain": [
       "<Figure size 1440x720 with 1 Axes>"
      ]
     },
     "metadata": {},
     "output_type": "display_data"
    }
   ],
   "source": [
    "importances = forest.feature_importances_\n",
    "std = np.std([tree.feature_importances_ for tree in forest.estimators_],\n",
    "             axis=0)\n",
    "indices = np.argsort(importances)[::-1]\n",
    "\n",
    "# Print the feature ranking\n",
    "print(\"Feature ranking:\")\n",
    "\n",
    "for f in range(X_train.shape[1]):\n",
    "    print(\"%d. feature %d (%f)\" % (f + 1, indices[f], importances[indices[f]]))\n",
    "\n",
    "# Plot the feature importances of the forest\n",
    "plt.figure(figsize=(20,10))\n",
    "plt.title(\"Feature importances\")\n",
    "plt.bar(range(X_train.shape[1]), importances[indices],\n",
    "       color=\"r\", yerr=std[indices], align=\"center\")\n",
    "plt.xticks(range(X_train.shape[1]), indices)\n",
    "plt.xlim([-1, X_train.shape[1]])\n",
    "plt.show()"
   ]
  },
  {
   "cell_type": "code",
   "execution_count": 71,
   "metadata": {},
   "outputs": [],
   "source": [
    "feature_list = df.dtypes"
   ]
  },
  {
   "cell_type": "code",
   "execution_count": 61,
   "metadata": {},
   "outputs": [],
   "source": [
    "feature_list.to_excel('C:/Users/rmbrm/Documents/DS_WP/Predict Default Final/feature_list.xlsx')"
   ]
  },
  {
   "cell_type": "code",
   "execution_count": 62,
   "metadata": {},
   "outputs": [],
   "source": [
    "bottom_20 = ['term', 'grade', 'home_ownership', 'verification_status', 'purpose', 'delinq_2yrs', 'inq_last_6mths', 'pub_rec', 'collections_12_mths_ex_med', 'acc_now_delinq', 'chargeoff_within_12_mths', 'num_accts_ever_120_pd', 'num_actv_bc_tl', 'num_tl_30dpd', 'num_tl_90g_dpd_24m', 'num_tl_op_past_12m', 'percent_bc_gt_75', 'pub_rec_bankruptcies', 'tax_liens', 'hardship_flag']"
   ]
  },
  {
   "cell_type": "code",
   "execution_count": 63,
   "metadata": {},
   "outputs": [],
   "source": [
    "data_filtered = df.drop(bottom_20, axis=1)"
   ]
  },
  {
   "cell_type": "code",
   "execution_count": 64,
   "metadata": {},
   "outputs": [],
   "source": [
    "df = data_filtered"
   ]
  },
  {
   "cell_type": "code",
   "execution_count": 65,
   "metadata": {
    "scrolled": true
   },
   "outputs": [
    {
     "data": {
      "text/plain": [
       "(353257, 21)"
      ]
     },
     "execution_count": 65,
     "metadata": {},
     "output_type": "execute_result"
    }
   ],
   "source": [
    "df.shape"
   ]
  },
  {
   "cell_type": "code",
   "execution_count": 66,
   "metadata": {},
   "outputs": [],
   "source": [
    "features = df.drop(df.columns[20], axis=1).values \n",
    "target = df['default'].values"
   ]
  },
  {
   "cell_type": "code",
   "execution_count": 67,
   "metadata": {
    "scrolled": true
   },
   "outputs": [
    {
     "data": {
      "text/plain": [
       "(numpy.ndarray, numpy.ndarray)"
      ]
     },
     "execution_count": 67,
     "metadata": {},
     "output_type": "execute_result"
    }
   ],
   "source": [
    "type (features), type(target)"
   ]
  },
  {
   "cell_type": "code",
   "execution_count": 68,
   "metadata": {},
   "outputs": [
    {
     "name": "stdout",
     "output_type": "stream",
     "text": [
      "[0 0 0 ... 1 1 0]\n"
     ]
    }
   ],
   "source": [
    "print(target)"
   ]
  },
  {
   "cell_type": "code",
   "execution_count": 69,
   "metadata": {
    "scrolled": false
   },
   "outputs": [
    {
     "name": "stdout",
     "output_type": "stream",
     "text": [
      "Accuracy on training set: 1.000\n",
      "Accuracy on test set: 0.853\n"
     ]
    }
   ],
   "source": [
    "X_train, X_test, y_train, y_test = train_test_split(features, target)\n",
    "forest = RandomForestClassifier(n_estimators = 100)\n",
    "forest.fit(X_train, y_train)\n",
    "\n",
    "print(\"Accuracy on training set: {:.3f}\".format(forest.score(X_train, y_train)))\n",
    "print(\"Accuracy on test set: {:.3f}\".format(forest.score( X_test, y_test)))\n"
   ]
  },
  {
   "cell_type": "code",
   "execution_count": 70,
   "metadata": {
    "scrolled": false
   },
   "outputs": [
    {
     "name": "stdout",
     "output_type": "stream",
     "text": [
      "Feature ranking:\n",
      "1. feature 0 (0.082713)\n",
      "2. feature 4 (0.066546)\n",
      "3. feature 10 (0.062119)\n",
      "4. feature 7 (0.060701)\n",
      "5. feature 9 (0.059731)\n",
      "6. feature 6 (0.059643)\n",
      "7. feature 17 (0.059545)\n",
      "8. feature 1 (0.058230)\n",
      "9. feature 18 (0.057771)\n",
      "10. feature 8 (0.057385)\n",
      "11. feature 3 (0.054904)\n",
      "12. feature 19 (0.044938)\n",
      "13. feature 13 (0.044085)\n",
      "14. feature 11 (0.036470)\n",
      "15. feature 16 (0.036362)\n",
      "16. feature 12 (0.033594)\n",
      "17. feature 15 (0.033204)\n",
      "18. feature 5 (0.033082)\n",
      "19. feature 14 (0.030032)\n",
      "20. feature 2 (0.028944)\n"
     ]
    },
    {
     "data": {
      "image/png": "[encoded data removed]",
      "text/plain": [
       "<Figure size 1440x720 with 1 Axes>"
      ]
     },
     "metadata": {},
     "output_type": "display_data"
    }
   ],
   "source": [
    "importances = forest.feature_importances_\n",
    "std = np.std([tree.feature_importances_ for tree in forest.estimators_],\n",
    "             axis=0)\n",
    "indices = np.argsort(importances)[::-1]\n",
    "\n",
    "# Print the feature ranking\n",
    "print(\"Feature ranking:\")\n",
    "\n",
    "for f in range(X_train.shape[1]):\n",
    "    print(\"%d. feature %d (%f)\" % (f + 1, indices[f], importances[indices[f]]))\n",
    "\n",
    "# Plot the feature importances of the forest\n",
    "plt.figure(figsize=(20,10))\n",
    "plt.title(\"Feature importances\")\n",
    "plt.bar(range(X_train.shape[1]), importances[indices],\n",
    "       color=\"r\", yerr=std[indices], align=\"center\")\n",
    "plt.xticks(range(X_train.shape[1]), indices)\n",
    "plt.xlim([-1, X_train.shape[1]])\n",
    "plt.show()"
   ]
  },
  {
   "cell_type": "code",
   "execution_count": 72,
   "metadata": {},
   "outputs": [],
   "source": [
    "feature_list2 = df.dtypes"
   ]
  },
  {
   "cell_type": "code",
   "execution_count": 73,
   "metadata": {},
   "outputs": [],
   "source": [
    "feature_list2.to_excel('C:/Users/rmbrm/Documents/DS_WP/Predict Default Final/feature_list2.xlsx')"
   ]
  },
  {
   "cell_type": "code",
   "execution_count": 74,
   "metadata": {},
   "outputs": [],
   "source": [
    "bottom_9 = ['emp_length', 'open_acc', 'mo_sin_rcnt_rev_tl_op', 'mo_sin_rcnt_tl', 'mths_since_recent_bc', 'num_bc_sats', 'num_sats', 'pct_tl_nvr_dlq', 'loan']"
   ]
  },
  {
   "cell_type": "code",
   "execution_count": 75,
   "metadata": {},
   "outputs": [],
   "source": [
    "data_filtered = df.drop(bottom_9, axis=1)"
   ]
  },
  {
   "cell_type": "code",
   "execution_count": 76,
   "metadata": {},
   "outputs": [],
   "source": [
    "df = data_filtered"
   ]
  },
  {
   "cell_type": "code",
   "execution_count": 77,
   "metadata": {
    "scrolled": true
   },
   "outputs": [
    {
     "data": {
      "text/plain": [
       "(353257, 12)"
      ]
     },
     "execution_count": 77,
     "metadata": {},
     "output_type": "execute_result"
    }
   ],
   "source": [
    "df.shape"
   ]
  },
  {
   "cell_type": "code",
   "execution_count": 78,
   "metadata": {},
   "outputs": [],
   "source": [
    "features = df.drop(df.columns[11], axis=1).values \n",
    "target = df['default'].values"
   ]
  },
  {
   "cell_type": "code",
   "execution_count": 79,
   "metadata": {
    "scrolled": true
   },
   "outputs": [
    {
     "data": {
      "text/plain": [
       "(numpy.ndarray, numpy.ndarray)"
      ]
     },
     "execution_count": 79,
     "metadata": {},
     "output_type": "execute_result"
    }
   ],
   "source": [
    "type (features), type(target)"
   ]
  },
  {
   "cell_type": "code",
   "execution_count": 80,
   "metadata": {},
   "outputs": [
    {
     "name": "stdout",
     "output_type": "stream",
     "text": [
      "[0 0 0 ... 1 1 0]\n"
     ]
    }
   ],
   "source": [
    "print(target)"
   ]
  },
  {
   "cell_type": "code",
   "execution_count": 81,
   "metadata": {
    "scrolled": false
   },
   "outputs": [
    {
     "name": "stdout",
     "output_type": "stream",
     "text": [
      "Accuracy on training set: 1.000\n",
      "Accuracy on test set: 0.853\n"
     ]
    }
   ],
   "source": [
    "X_train, X_test, y_train, y_test = train_test_split(features, target)\n",
    "forest = RandomForestClassifier(n_estimators = 100)\n",
    "forest.fit(X_train, y_train)\n",
    "\n",
    "print(\"Accuracy on training set: {:.3f}\".format(forest.score(X_train, y_train)))\n",
    "print(\"Accuracy on test set: {:.3f}\".format(forest.score( X_test, y_test)))\n"
   ]
  },
  {
   "cell_type": "code",
   "execution_count": 82,
   "metadata": {
    "scrolled": false
   },
   "outputs": [
    {
     "name": "stdout",
     "output_type": "stream",
     "text": [
      "Feature ranking:\n",
      "1. feature 0 (0.100077)\n",
      "2. feature 3 (0.099752)\n",
      "3. feature 1 (0.091962)\n",
      "4. feature 4 (0.091185)\n",
      "5. feature 8 (0.091171)\n",
      "6. feature 5 (0.090731)\n",
      "7. feature 10 (0.090406)\n",
      "8. feature 7 (0.088878)\n",
      "9. feature 9 (0.088305)\n",
      "10. feature 6 (0.086748)\n",
      "11. feature 2 (0.080785)\n"
     ]
    },
    {
     "data": {
      "image/png": "[encoded data removed]",
      "text/plain": [
       "<Figure size 1440x720 with 1 Axes>"
      ]
     },
     "metadata": {},
     "output_type": "display_data"
    }
   ],
   "source": [
    "importances = forest.feature_importances_\n",
    "std = np.std([tree.feature_importances_ for tree in forest.estimators_],\n",
    "             axis=0)\n",
    "indices = np.argsort(importances)[::-1]\n",
    "\n",
    "# Print the feature ranking\n",
    "print(\"Feature ranking:\")\n",
    "\n",
    "for f in range(X_train.shape[1]):\n",
    "    print(\"%d. feature %d (%f)\" % (f + 1, indices[f], importances[indices[f]]))\n",
    "\n",
    "# Plot the feature importances of the forest\n",
    "plt.figure(figsize=(20,10))\n",
    "plt.title(\"Feature importances\")\n",
    "plt.bar(range(X_train.shape[1]), importances[indices],\n",
    "       color=\"r\", yerr=std[indices], align=\"center\")\n",
    "plt.xticks(range(X_train.shape[1]), indices)\n",
    "plt.xlim([-1, X_train.shape[1]])\n",
    "plt.show()"
   ]
  },
  {
   "cell_type": "code",
   "execution_count": 83,
   "metadata": {},
   "outputs": [],
   "source": [
    "feature_list3 = df.dtypes"
   ]
  },
  {
   "cell_type": "code",
   "execution_count": 84,
   "metadata": {},
   "outputs": [],
   "source": [
    "feature_list3.to_excel('C:/Users/rmbrm/Documents/DS_WP/Predict Default Final/feature_list3.xlsx')"
   ]
  },
  {
   "cell_type": "code",
   "execution_count": 85,
   "metadata": {},
   "outputs": [],
   "source": [
    "bottom_6 = ['annual_inc', 'bc_open_to_buy', 'bc_util', 'mo_sin_old_il_acct', 'total_bc_limit', 'total_il_high_credit_limit']"
   ]
  },
  {
   "cell_type": "code",
   "execution_count": 86,
   "metadata": {},
   "outputs": [],
   "source": [
    "data_filtered = df.drop(bottom_6, axis=1)"
   ]
  },
  {
   "cell_type": "code",
   "execution_count": 87,
   "metadata": {},
   "outputs": [],
   "source": [
    "df = data_filtered"
   ]
  },
  {
   "cell_type": "code",
   "execution_count": 88,
   "metadata": {
    "scrolled": true
   },
   "outputs": [
    {
     "data": {
      "text/plain": [
       "(353257, 6)"
      ]
     },
     "execution_count": 88,
     "metadata": {},
     "output_type": "execute_result"
    }
   ],
   "source": [
    "df.shape"
   ]
  },
  {
   "cell_type": "code",
   "execution_count": 89,
   "metadata": {},
   "outputs": [],
   "source": [
    "features = df.drop(df.columns[5], axis=1).values \n",
    "target = df['default'].values"
   ]
  },
  {
   "cell_type": "code",
   "execution_count": 90,
   "metadata": {
    "scrolled": true
   },
   "outputs": [
    {
     "data": {
      "text/plain": [
       "(numpy.ndarray, numpy.ndarray)"
      ]
     },
     "execution_count": 90,
     "metadata": {},
     "output_type": "execute_result"
    }
   ],
   "source": [
    "type (features), type(target)"
   ]
  },
  {
   "cell_type": "code",
   "execution_count": 91,
   "metadata": {},
   "outputs": [
    {
     "name": "stdout",
     "output_type": "stream",
     "text": [
      "[0 0 0 ... 1 1 0]\n"
     ]
    }
   ],
   "source": [
    "print(target)"
   ]
  },
  {
   "cell_type": "code",
   "execution_count": 92,
   "metadata": {
    "scrolled": false
   },
   "outputs": [
    {
     "name": "stdout",
     "output_type": "stream",
     "text": [
      "Accuracy on training set: 1.000\n",
      "Accuracy on test set: 0.853\n"
     ]
    }
   ],
   "source": [
    "X_train, X_test, y_train, y_test = train_test_split(features, target)\n",
    "forest = RandomForestClassifier(n_estimators = 100)\n",
    "forest.fit(X_train, y_train)\n",
    "\n",
    "print(\"Accuracy on training set: {:.3f}\".format(forest.score(X_train, y_train)))\n",
    "print(\"Accuracy on test set: {:.3f}\".format(forest.score( X_test, y_test)))\n"
   ]
  },
  {
   "cell_type": "code",
   "execution_count": 93,
   "metadata": {
    "scrolled": true
   },
   "outputs": [
    {
     "name": "stdout",
     "output_type": "stream",
     "text": [
      "Feature ranking:\n",
      "1. feature 2 (0.236876)\n",
      "2. feature 3 (0.226662)\n",
      "3. feature 1 (0.199466)\n",
      "4. feature 4 (0.199106)\n",
      "5. feature 0 (0.137890)\n"
     ]
    },
    {
     "data": {
      "image/png": "[encoded data removed]",
      "text/plain": [
       "<Figure size 1440x720 with 1 Axes>"
      ]
     },
     "metadata": {},
     "output_type": "display_data"
    }
   ],
   "source": [
    "importances = forest.feature_importances_\n",
    "std = np.std([tree.feature_importances_ for tree in forest.estimators_],\n",
    "             axis=0)\n",
    "indices = np.argsort(importances)[::-1]\n",
    "\n",
    "# Print the feature ranking\n",
    "print(\"Feature ranking:\")\n",
    "\n",
    "for f in range(X_train.shape[1]):\n",
    "    print(\"%d. feature %d (%f)\" % (f + 1, indices[f], importances[indices[f]]))\n",
    "\n",
    "# Plot the feature importances of the forest\n",
    "plt.figure(figsize=(20,10))\n",
    "plt.title(\"Feature importances\")\n",
    "plt.bar(range(X_train.shape[1]), importances[indices],\n",
    "       color=\"r\", yerr=std[indices], align=\"center\")\n",
    "plt.xticks(range(X_train.shape[1]), indices)\n",
    "plt.xlim([-1, X_train.shape[1]])\n",
    "plt.show()"
   ]
  },
  {
   "cell_type": "code",
   "execution_count": null,
   "metadata": {},
   "outputs": [],
   "source": [
    "# Run the initial analysis with cross validation rather than just train/test split to ensure generalizability of model"
   ]
  },
  {
   "cell_type": "code",
   "execution_count": 3,
   "metadata": {},
   "outputs": [],
   "source": [
    "df = pd.read_pickle(\"C:/Users/rmbrm/Documents/DS_WP/Predict Default Final/data_processed\") "
   ]
  },
  {
   "cell_type": "code",
   "execution_count": 4,
   "metadata": {},
   "outputs": [],
   "source": [
    "# random forests doesn't work with Nans so drop them\n",
    "df = df.dropna()"
   ]
  },
  {
   "cell_type": "code",
   "execution_count": 5,
   "metadata": {},
   "outputs": [],
   "source": [
    "features = df.drop(df.columns[40], axis=1).values \n",
    "target = df['default'].values"
   ]
  },
  {
   "cell_type": "code",
   "execution_count": 6,
   "metadata": {},
   "outputs": [
    {
     "name": "stderr",
     "output_type": "stream",
     "text": [
      "C:\\Users\\rmbrm\\Anaconda3\\lib\\site-packages\\sklearn\\ensemble\\weight_boosting.py:29: DeprecationWarning: numpy.core.umath_tests is an internal NumPy module and should not be imported. It will be removed in a future NumPy release.\n",
      "  from numpy.core.umath_tests import inner1d\n"
     ]
    },
    {
     "name": "stdout",
     "output_type": "stream",
     "text": [
      "Cross-validation scores: [0.85483172 0.85472858 0.8538114 ]\n",
      "Average cross-validation score: 0.85\n"
     ]
    }
   ],
   "source": [
    "from sklearn.model_selection import cross_val_score\n",
    "from sklearn.ensemble import RandomForestClassifier\n",
    "forest = RandomForestClassifier(n_estimators = 100, random_state = 0)\n",
    "scores = cross_val_score(forest, features, target)\n",
    "print(\"Cross-validation scores: {}\".format(scores))\n",
    "print(\"Average cross-validation score: {:.2f}\".format(scores.mean()))\n"
   ]
  },
  {
   "cell_type": "markdown",
   "metadata": {},
   "source": [
    "#### Next steps: Hyperparameter tuning, try additional algorithms"
   ]
  }
 ],
 "metadata": {
  "kernelspec": {
   "display_name": "Python 3",
   "language": "python",
   "name": "python3"
  },
  "language_info": {
   "codemirror_mode": {
    "name": "ipython",
    "version": 3
   },
   "file_extension": ".py",
   "mimetype": "text/x-python",
   "name": "python",
   "nbconvert_exporter": "python",
   "pygments_lexer": "ipython3",
   "version": "3.7.0"
  }
 },
 "nbformat": 4,
 "nbformat_minor": 2
}
