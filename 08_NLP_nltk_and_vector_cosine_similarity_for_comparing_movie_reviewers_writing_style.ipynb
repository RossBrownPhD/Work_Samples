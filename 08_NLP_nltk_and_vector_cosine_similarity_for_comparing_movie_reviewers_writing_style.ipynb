{
 "cells": [
  {
   "cell_type": "code",
   "execution_count": 24,
   "metadata": {
    "collapsed": true
   },
   "outputs": [],
   "source": [
    "from nltk.corpus import stopwords\n",
    "from nltk.stem import PorterStemmer"
   ]
  },
  {
   "cell_type": "code",
   "execution_count": 23,
   "metadata": {},
   "outputs": [
    {
     "name": "stdout",
     "output_type": "stream",
     "text": [
      "[nltk_data] Downloading package stopwords to C:\\nltk_data...\n",
      "[nltk_data]   Unzipping corpora\\stopwords.zip.\n"
     ]
    },
    {
     "data": {
      "text/plain": [
       "True"
      ]
     },
     "execution_count": 23,
     "metadata": {},
     "output_type": "execute_result"
    }
   ],
   "source": [
    "import nltk\n",
    "nltk.download('stopwords')"
   ]
  },
  {
   "cell_type": "code",
   "execution_count": 25,
   "metadata": {
    "collapsed": true
   },
   "outputs": [],
   "source": [
    "from nltk.tokenize import word_tokenize"
   ]
  },
  {
   "cell_type": "code",
   "execution_count": 26,
   "metadata": {
    "collapsed": true
   },
   "outputs": [],
   "source": [
    "import numpy as np\n",
    "import nltk"
   ]
  },
  {
   "cell_type": "code",
   "execution_count": 32,
   "metadata": {},
   "outputs": [
    {
     "name": "stdout",
     "output_type": "stream",
     "text": [
      "Similarity between Lane and Kehr is  0.919950527637\n",
      "Similarity between Lane and Reed is  0.893172867483\n",
      "Similarity between Kehr and Reed is  0.905508067993\n"
     ]
    }
   ],
   "source": [
    "def process(file):\n",
    "    raw = open(file).read()\n",
    "    tokens = word_tokenize(raw)\n",
    "    words = [w.lower() for w in tokens]\n",
    "    \n",
    "    porter = nltk.PorterStemmer()\n",
    "    stemmed_tokens = [porter.stem(t) for t in words]\n",
    "    \n",
    "    stop_words = set(stopwords.words('english'))\n",
    "    filtered_tokens = [w for w in stemmed_tokens if not w in stop_words]\n",
    "    \n",
    "    count = nltk.defaultdict(int)\n",
    "    for word in filtered_tokens:\n",
    "        count[word] += 1\n",
    "    return count;\n",
    "\n",
    "\n",
    "def cos_sim(a, b):\n",
    "    dot_product = np.dot(a, b)\n",
    "    norm_a = np.linalg.norm(a)\n",
    "    norm_b = np.linalg.norm(b)\n",
    "    return dot_product / (norm_a * norm_b)\n",
    "\n",
    "def getSimilarity(dict1, dict2):\n",
    "    all_words_list = []\n",
    "    for key in dict1:\n",
    "        all_words_list.append(key)\n",
    "    for key in dict2:\n",
    "        all_words_list.append(key)\n",
    "    all_words_list_size = len(all_words_list)\n",
    "    \n",
    "    v1 = np.zeros(all_words_list_size, dtype=np.int)\n",
    "    v2 = np.zeros(all_words_list_size, dtype=np.int)\n",
    "    i = 0\n",
    "    for (key) in all_words_list:\n",
    "        v1[i] = dict1.get(key, 0)\n",
    "        v2[i] = dict2.get(key, 0)\n",
    "        i = i + 1\n",
    "    return cos_sim(v1, v2);\n",
    "\n",
    "if __name__ == '__main__':\n",
    "    dict1 = process(\"C:/Users/rmbrm/Desktop/lane.txt\")\n",
    "    dict2 = process(\"C:/Users/rmbrm/Desktop/kehr.txt\")\n",
    "    dict3 = process(\"C:/Users/rmbrm/Desktop/reed.txt\")\n",
    "    print(\"Similarity between Lane and Kehr is \", getSimilarity(dict1,dict2))\n",
    "    print(\"Similarity between Lane and Reed is \", getSimilarity(dict1,dict3))\n",
    "    print(\"Similarity between Kehr and Reed is \", getSimilarity(dict2,dict3))\n",
    "        "
   ]
  },
  {
   "cell_type": "code",
   "execution_count": null,
   "metadata": {
    "collapsed": true
   },
   "outputs": [],
   "source": []
  },
  {
   "cell_type": "code",
   "execution_count": 33,
   "metadata": {},
   "outputs": [
    {
     "name": "stdout",
     "output_type": "stream",
     "text": [
      "Similarity between Lane and Roeper is  0.790164091867\n",
      "Similarity between Lane and Reed is  0.893172867483\n",
      "Similarity between Roeper and Reed is  0.850631604776\n"
     ]
    }
   ],
   "source": [
    "def process(file):\n",
    "    raw = open(file).read()\n",
    "    tokens = word_tokenize(raw)\n",
    "    words = [w.lower() for w in tokens]\n",
    "    \n",
    "    porter = nltk.PorterStemmer()\n",
    "    stemmed_tokens = [porter.stem(t) for t in words]\n",
    "    \n",
    "    stop_words = set(stopwords.words('english'))\n",
    "    filtered_tokens = [w for w in stemmed_tokens if not w in stop_words]\n",
    "    \n",
    "    count = nltk.defaultdict(int)\n",
    "    for word in filtered_tokens:\n",
    "        count[word] += 1\n",
    "    return count;\n",
    "\n",
    "\n",
    "def cos_sim(a, b):\n",
    "    dot_product = np.dot(a, b)\n",
    "    norm_a = np.linalg.norm(a)\n",
    "    norm_b = np.linalg.norm(b)\n",
    "    return dot_product / (norm_a * norm_b)\n",
    "\n",
    "def getSimilarity(dict1, dict2):\n",
    "    all_words_list = []\n",
    "    for key in dict1:\n",
    "        all_words_list.append(key)\n",
    "    for key in dict2:\n",
    "        all_words_list.append(key)\n",
    "    all_words_list_size = len(all_words_list)\n",
    "    \n",
    "    v1 = np.zeros(all_words_list_size, dtype=np.int)\n",
    "    v2 = np.zeros(all_words_list_size, dtype=np.int)\n",
    "    i = 0\n",
    "    for (key) in all_words_list:\n",
    "        v1[i] = dict1.get(key, 0)\n",
    "        v2[i] = dict2.get(key, 0)\n",
    "        i = i + 1\n",
    "    return cos_sim(v1, v2);\n",
    "\n",
    "if __name__ == '__main__':\n",
    "    dict1 = process(\"C:/Users/rmbrm/Desktop/lane.txt\")\n",
    "    dict2 = process(\"C:/Users/rmbrm/Desktop/roeper.txt\")\n",
    "    dict3 = process(\"C:/Users/rmbrm/Desktop/reed.txt\")\n",
    "    print(\"Similarity between Lane and Roeper is \", getSimilarity(dict1,dict2))\n",
    "    print(\"Similarity between Lane and Reed is \", getSimilarity(dict1,dict3))\n",
    "    print(\"Similarity between Roeper and Reed is \", getSimilarity(dict2,dict3))\n",
    "        "
   ]
  },
  {
   "cell_type": "code",
   "execution_count": null,
   "metadata": {
    "collapsed": true
   },
   "outputs": [],
   "source": []
  },
  {
   "cell_type": "code",
   "execution_count": 39,
   "metadata": {},
   "outputs": [
    {
     "name": "stdout",
     "output_type": "stream",
     "text": [
      "Similarity between Kehr and Rosenbaum is  0.971305772091\n",
      "Similarity between Kehr and Roeper is  0.876982615075\n",
      "Similarity between Roeper and Rosenbaum is  0.896959079789\n"
     ]
    }
   ],
   "source": [
    "def process(file):\n",
    "    raw = open(file).read()\n",
    "    tokens = word_tokenize(raw)\n",
    "    words = [w.lower() for w in tokens]\n",
    "    \n",
    "    porter = nltk.PorterStemmer()\n",
    "    stemmed_tokens = [porter.stem(t) for t in words]\n",
    "    \n",
    "    stop_words = set(stopwords.words('english'))\n",
    "    filtered_tokens = [w for w in stemmed_tokens if not w in stop_words]\n",
    "    \n",
    "    count = nltk.defaultdict(int)\n",
    "    for word in filtered_tokens:\n",
    "        count[word] += 1\n",
    "    return count;\n",
    "\n",
    "\n",
    "def cos_sim(a, b):\n",
    "    dot_product = np.dot(a, b)\n",
    "    norm_a = np.linalg.norm(a)\n",
    "    norm_b = np.linalg.norm(b)\n",
    "    return dot_product / (norm_a * norm_b)\n",
    "\n",
    "def getSimilarity(dict1, dict2):\n",
    "    all_words_list = []\n",
    "    for key in dict1:\n",
    "        all_words_list.append(key)\n",
    "    for key in dict2:\n",
    "        all_words_list.append(key)\n",
    "    all_words_list_size = len(all_words_list)\n",
    "    \n",
    "    v1 = np.zeros(all_words_list_size, dtype=np.int)\n",
    "    v2 = np.zeros(all_words_list_size, dtype=np.int)\n",
    "    i = 0\n",
    "    for (key) in all_words_list:\n",
    "        v1[i] = dict1.get(key, 0)\n",
    "        v2[i] = dict2.get(key, 0)\n",
    "        i = i + 1\n",
    "    return cos_sim(v1, v2);\n",
    "\n",
    "if __name__ == '__main__':\n",
    "    dict1 = process(\"C:/Users/rmbrm/Desktop/kehr.txt\")\n",
    "    dict2 = process(\"C:/Users/rmbrm/Desktop/roeper.txt\")\n",
    "    dict3 = process(\"C:/Users/rmbrm/Desktop/rosenbaum.txt\")\n",
    "    print(\"Similarity between Kehr and Rosenbaum is \", getSimilarity(dict1,dict3))\n",
    "    print(\"Similarity between Kehr and Roeper is \", getSimilarity(dict1,dict2))\n",
    "    print(\"Similarity between Roeper and Rosenbaum is \", getSimilarity(dict2,dict3))\n",
    "        "
   ]
  },
  {
   "cell_type": "code",
   "execution_count": 42,
   "metadata": {},
   "outputs": [
    {
     "name": "stdout",
     "output_type": "stream",
     "text": [
      "Similarity between Kehr and Rosenbaum is 0.97\n",
      "Similarity between Kehr and Roeper is 0.88\n",
      "Similarity between Rosenbaum and Roeper is 0.90\n"
     ]
    }
   ],
   "source": [
    "def process(file):\n",
    "    raw = open(file).read()\n",
    "    tokens = word_tokenize(raw)\n",
    "    words = [w.lower() for w in tokens]\n",
    "    \n",
    "    porter = nltk.PorterStemmer()\n",
    "    stemmed_tokens = [porter.stem(t) for t in words]\n",
    "    \n",
    "    stop_words = set(stopwords.words('english'))\n",
    "    filtered_tokens = [w for w in stemmed_tokens if not w in stop_words]\n",
    "    \n",
    "    count = nltk.defaultdict(int)\n",
    "    for word in filtered_tokens:\n",
    "        count[word] += 1\n",
    "    return count;\n",
    "\n",
    "\n",
    "def cos_sim(a, b):\n",
    "    dot_product = np.dot(a, b)\n",
    "    norm_a = np.linalg.norm(a)\n",
    "    norm_b = np.linalg.norm(b)\n",
    "    return dot_product / (norm_a * norm_b)\n",
    "\n",
    "def getSimilarity(dict1, dict2):\n",
    "    all_words_list = []\n",
    "    for key in dict1:\n",
    "        all_words_list.append(key)\n",
    "    for key in dict2:\n",
    "        all_words_list.append(key)\n",
    "    all_words_list_size = len(all_words_list)\n",
    "    \n",
    "    v1 = np.zeros(all_words_list_size, dtype=np.int)\n",
    "    v2 = np.zeros(all_words_list_size, dtype=np.int)\n",
    "    i = 0\n",
    "    for (key) in all_words_list:\n",
    "        v1[i] = dict1.get(key, 0)\n",
    "        v2[i] = dict2.get(key, 0)\n",
    "        i = i + 1\n",
    "    return cos_sim(v1, v2);\n",
    "\n",
    "if __name__ == '__main__':\n",
    "    dict1 = process(\"C:/Users/rmbrm/Desktop/kehr.txt\")\n",
    "    dict2 = process(\"C:/Users/rmbrm/Desktop/roeper.txt\")\n",
    "    dict3 = process(\"C:/Users/rmbrm/Desktop/rosenbaum.txt\")\n",
    "    print(\"Similarity between Kehr and Rosenbaum is {:.2f}\".format(getSimilarity(dict1,dict3)))\n",
    "    print(\"Similarity between Kehr and Roeper is {:.2f}\".format(getSimilarity(dict1,dict2)))\n",
    "    print(\"Similarity between Rosenbaum and Roeper is {:.2f}\".format(getSimilarity(dict2,dict3)))\n",
    "        "
   ]
  },
  {
   "cell_type": "code",
   "execution_count": 40,
   "metadata": {},
   "outputs": [
    {
     "name": "stdout",
     "output_type": "stream",
     "text": [
      "Similarity between Kehr and Rosenbaum is 0.97\n",
      "Similarity between Kehr and Turan is 0.97\n",
      "Similarity between Turan and Rosenbaum is 0.96\n"
     ]
    }
   ],
   "source": [
    "def process(file):\n",
    "    raw = open(file).read()\n",
    "    tokens = word_tokenize(raw)\n",
    "    words = [w.lower() for w in tokens]\n",
    "    \n",
    "    porter = nltk.PorterStemmer()\n",
    "    stemmed_tokens = [porter.stem(t) for t in words]\n",
    "    \n",
    "    stop_words = set(stopwords.words('english'))\n",
    "    filtered_tokens = [w for w in stemmed_tokens if not w in stop_words]\n",
    "    \n",
    "    count = nltk.defaultdict(int)\n",
    "    for word in filtered_tokens:\n",
    "        count[word] += 1\n",
    "    return count;\n",
    "\n",
    "\n",
    "def cos_sim(a, b):\n",
    "    dot_product = np.dot(a, b)\n",
    "    norm_a = np.linalg.norm(a)\n",
    "    norm_b = np.linalg.norm(b)\n",
    "    return dot_product / (norm_a * norm_b)\n",
    "\n",
    "def getSimilarity(dict1, dict2):\n",
    "    all_words_list = []\n",
    "    for key in dict1:\n",
    "        all_words_list.append(key)\n",
    "    for key in dict2:\n",
    "        all_words_list.append(key)\n",
    "    all_words_list_size = len(all_words_list)\n",
    "    \n",
    "    v1 = np.zeros(all_words_list_size, dtype=np.int)\n",
    "    v2 = np.zeros(all_words_list_size, dtype=np.int)\n",
    "    i = 0\n",
    "    for (key) in all_words_list:\n",
    "        v1[i] = dict1.get(key, 0)\n",
    "        v2[i] = dict2.get(key, 0)\n",
    "        i = i + 1\n",
    "    return cos_sim(v1, v2);\n",
    "\n",
    "if __name__ == '__main__':\n",
    "    dict1 = process(\"C:/Users/rmbrm/Desktop/kehr.txt\")\n",
    "    dict2 = process(\"C:/Users/rmbrm/Desktop/turan.txt\")\n",
    "    dict3 = process(\"C:/Users/rmbrm/Desktop/rosenbaum.txt\")\n",
    "    print(\"Similarity between Kehr and Rosenbaum is {:.2f}\".format(getSimilarity(dict1,dict3)))\n",
    "    print(\"Similarity between Kehr and Turan is {:.2f}\".format(getSimilarity(dict1,dict2)))\n",
    "    print(\"Similarity between Turan and Rosenbaum is {:.2f}\".format(getSimilarity(dict2,dict3)))\n",
    "        "
   ]
  },
  {
   "cell_type": "code",
   "execution_count": 41,
   "metadata": {},
   "outputs": [
    {
     "name": "stdout",
     "output_type": "stream",
     "text": [
      "Similarity between Kehr and Rosenbaum is 0.97\n",
      "Similarity between Kehr and Wilmington is 0.95\n",
      "Similarity between Rosenbaum and Wilmington is 0.95\n"
     ]
    }
   ],
   "source": [
    "def process(file):\n",
    "    raw = open(file).read()\n",
    "    tokens = word_tokenize(raw)\n",
    "    words = [w.lower() for w in tokens]\n",
    "    \n",
    "    porter = nltk.PorterStemmer()\n",
    "    stemmed_tokens = [porter.stem(t) for t in words]\n",
    "    \n",
    "    stop_words = set(stopwords.words('english'))\n",
    "    filtered_tokens = [w for w in stemmed_tokens if not w in stop_words]\n",
    "    \n",
    "    count = nltk.defaultdict(int)\n",
    "    for word in filtered_tokens:\n",
    "        count[word] += 1\n",
    "    return count;\n",
    "\n",
    "\n",
    "def cos_sim(a, b):\n",
    "    dot_product = np.dot(a, b)\n",
    "    norm_a = np.linalg.norm(a)\n",
    "    norm_b = np.linalg.norm(b)\n",
    "    return dot_product / (norm_a * norm_b)\n",
    "\n",
    "def getSimilarity(dict1, dict2):\n",
    "    all_words_list = []\n",
    "    for key in dict1:\n",
    "        all_words_list.append(key)\n",
    "    for key in dict2:\n",
    "        all_words_list.append(key)\n",
    "    all_words_list_size = len(all_words_list)\n",
    "    \n",
    "    v1 = np.zeros(all_words_list_size, dtype=np.int)\n",
    "    v2 = np.zeros(all_words_list_size, dtype=np.int)\n",
    "    i = 0\n",
    "    for (key) in all_words_list:\n",
    "        v1[i] = dict1.get(key, 0)\n",
    "        v2[i] = dict2.get(key, 0)\n",
    "        i = i + 1\n",
    "    return cos_sim(v1, v2);\n",
    "\n",
    "if __name__ == '__main__':\n",
    "    dict1 = process(\"C:/Users/rmbrm/Desktop/kehr.txt\")\n",
    "    dict2 = process(\"C:/Users/rmbrm/Desktop/wilmington.txt\")\n",
    "    dict3 = process(\"C:/Users/rmbrm/Desktop/rosenbaum.txt\")\n",
    "    print(\"Similarity between Kehr and Rosenbaum is {:.2f}\".format(getSimilarity(dict1,dict3)))\n",
    "    print(\"Similarity between Kehr and Wilmington is {:.2f}\".format(getSimilarity(dict1,dict2)))\n",
    "    print(\"Similarity between Rosenbaum and Wilmington is {:.2f}\".format(getSimilarity(dict2,dict3)))\n",
    "        "
   ]
  },
  {
   "cell_type": "code",
   "execution_count": 43,
   "metadata": {},
   "outputs": [
    {
     "name": "stdout",
     "output_type": "stream",
     "text": [
      "Similarity between Edelstein and Gleiberman is 0.94\n",
      "Similarity between Edelstein and Wilmington is 0.93\n",
      "Similarity between Gleiberman and Wilmington is 0.98\n"
     ]
    }
   ],
   "source": [
    "def process(file):\n",
    "    raw = open(file).read()\n",
    "    tokens = word_tokenize(raw)\n",
    "    words = [w.lower() for w in tokens]\n",
    "    \n",
    "    porter = nltk.PorterStemmer()\n",
    "    stemmed_tokens = [porter.stem(t) for t in words]\n",
    "    \n",
    "    stop_words = set(stopwords.words('english'))\n",
    "    filtered_tokens = [w for w in stemmed_tokens if not w in stop_words]\n",
    "    \n",
    "    count = nltk.defaultdict(int)\n",
    "    for word in filtered_tokens:\n",
    "        count[word] += 1\n",
    "    return count;\n",
    "\n",
    "\n",
    "def cos_sim(a, b):\n",
    "    dot_product = np.dot(a, b)\n",
    "    norm_a = np.linalg.norm(a)\n",
    "    norm_b = np.linalg.norm(b)\n",
    "    return dot_product / (norm_a * norm_b)\n",
    "\n",
    "def getSimilarity(dict1, dict2):\n",
    "    all_words_list = []\n",
    "    for key in dict1:\n",
    "        all_words_list.append(key)\n",
    "    for key in dict2:\n",
    "        all_words_list.append(key)\n",
    "    all_words_list_size = len(all_words_list)\n",
    "    \n",
    "    v1 = np.zeros(all_words_list_size, dtype=np.int)\n",
    "    v2 = np.zeros(all_words_list_size, dtype=np.int)\n",
    "    i = 0\n",
    "    for (key) in all_words_list:\n",
    "        v1[i] = dict1.get(key, 0)\n",
    "        v2[i] = dict2.get(key, 0)\n",
    "        i = i + 1\n",
    "    return cos_sim(v1, v2);\n",
    "\n",
    "if __name__ == '__main__':\n",
    "    dict1 = process(\"C:/Users/rmbrm/Desktop/edelstein.txt\")\n",
    "    dict2 = process(\"C:/Users/rmbrm/Desktop/wilmington.txt\")\n",
    "    dict3 = process(\"C:/Users/rmbrm/Desktop/gleiberman.txt\")\n",
    "    print(\"Similarity between Edelstein and Gleiberman is {:.2f}\".format(getSimilarity(dict1,dict3)))\n",
    "    print(\"Similarity between Edelstein and Wilmington is {:.2f}\".format(getSimilarity(dict1,dict2)))\n",
    "    print(\"Similarity between Gleiberman and Wilmington is {:.2f}\".format(getSimilarity(dict2,dict3)))\n",
    "        "
   ]
  },
  {
   "cell_type": "code",
   "execution_count": 44,
   "metadata": {},
   "outputs": [
    {
     "name": "stdout",
     "output_type": "stream",
     "text": [
      "Similarity between Edelstein and Gleiberman is 0.94\n",
      "Similarity between Edelstein and Roeper is 0.91\n",
      "Similarity between Gleiberman and Roeper is 0.88\n"
     ]
    }
   ],
   "source": [
    "def process(file):\n",
    "    raw = open(file).read()\n",
    "    tokens = word_tokenize(raw)\n",
    "    words = [w.lower() for w in tokens]\n",
    "    \n",
    "    porter = nltk.PorterStemmer()\n",
    "    stemmed_tokens = [porter.stem(t) for t in words]\n",
    "    \n",
    "    stop_words = set(stopwords.words('english'))\n",
    "    filtered_tokens = [w for w in stemmed_tokens if not w in stop_words]\n",
    "    \n",
    "    count = nltk.defaultdict(int)\n",
    "    for word in filtered_tokens:\n",
    "        count[word] += 1\n",
    "    return count;\n",
    "\n",
    "\n",
    "def cos_sim(a, b):\n",
    "    dot_product = np.dot(a, b)\n",
    "    norm_a = np.linalg.norm(a)\n",
    "    norm_b = np.linalg.norm(b)\n",
    "    return dot_product / (norm_a * norm_b)\n",
    "\n",
    "def getSimilarity(dict1, dict2):\n",
    "    all_words_list = []\n",
    "    for key in dict1:\n",
    "        all_words_list.append(key)\n",
    "    for key in dict2:\n",
    "        all_words_list.append(key)\n",
    "    all_words_list_size = len(all_words_list)\n",
    "    \n",
    "    v1 = np.zeros(all_words_list_size, dtype=np.int)\n",
    "    v2 = np.zeros(all_words_list_size, dtype=np.int)\n",
    "    i = 0\n",
    "    for (key) in all_words_list:\n",
    "        v1[i] = dict1.get(key, 0)\n",
    "        v2[i] = dict2.get(key, 0)\n",
    "        i = i + 1\n",
    "    return cos_sim(v1, v2);\n",
    "\n",
    "if __name__ == '__main__':\n",
    "    dict1 = process(\"C:/Users/rmbrm/Desktop/edelstein.txt\")\n",
    "    dict2 = process(\"C:/Users/rmbrm/Desktop/roeper.txt\")\n",
    "    dict3 = process(\"C:/Users/rmbrm/Desktop/gleiberman.txt\")\n",
    "    print(\"Similarity between Edelstein and Gleiberman is {:.2f}\".format(getSimilarity(dict1,dict3)))\n",
    "    print(\"Similarity between Edelstein and Roeper is {:.2f}\".format(getSimilarity(dict1,dict2)))\n",
    "    print(\"Similarity between Gleiberman and Roeper is {:.2f}\".format(getSimilarity(dict2,dict3)))\n",
    "        "
   ]
  },
  {
   "cell_type": "code",
   "execution_count": null,
   "metadata": {
    "collapsed": true
   },
   "outputs": [],
   "source": []
  },
  {
   "cell_type": "code",
   "execution_count": 45,
   "metadata": {},
   "outputs": [
    {
     "name": "stdout",
     "output_type": "stream",
     "text": [
      "Similarity between Edelstein and Gleiberman is 0.94\n",
      "Similarity between Edelstein and Lane is 0.87\n",
      "Similarity between Gleiberman and Lane is 0.94\n"
     ]
    }
   ],
   "source": [
    "def process(file):\n",
    "    raw = open(file).read()\n",
    "    tokens = word_tokenize(raw)\n",
    "    words = [w.lower() for w in tokens]\n",
    "    \n",
    "    porter = nltk.PorterStemmer()\n",
    "    stemmed_tokens = [porter.stem(t) for t in words]\n",
    "    \n",
    "    stop_words = set(stopwords.words('english'))\n",
    "    filtered_tokens = [w for w in stemmed_tokens if not w in stop_words]\n",
    "    \n",
    "    count = nltk.defaultdict(int)\n",
    "    for word in filtered_tokens:\n",
    "        count[word] += 1\n",
    "    return count;\n",
    "\n",
    "\n",
    "def cos_sim(a, b):\n",
    "    dot_product = np.dot(a, b)\n",
    "    norm_a = np.linalg.norm(a)\n",
    "    norm_b = np.linalg.norm(b)\n",
    "    return dot_product / (norm_a * norm_b)\n",
    "\n",
    "def getSimilarity(dict1, dict2):\n",
    "    all_words_list = []\n",
    "    for key in dict1:\n",
    "        all_words_list.append(key)\n",
    "    for key in dict2:\n",
    "        all_words_list.append(key)\n",
    "    all_words_list_size = len(all_words_list)\n",
    "    \n",
    "    v1 = np.zeros(all_words_list_size, dtype=np.int)\n",
    "    v2 = np.zeros(all_words_list_size, dtype=np.int)\n",
    "    i = 0\n",
    "    for (key) in all_words_list:\n",
    "        v1[i] = dict1.get(key, 0)\n",
    "        v2[i] = dict2.get(key, 0)\n",
    "        i = i + 1\n",
    "    return cos_sim(v1, v2);\n",
    "\n",
    "if __name__ == '__main__':\n",
    "    dict1 = process(\"C:/Users/rmbrm/Desktop/edelstein.txt\")\n",
    "    dict2 = process(\"C:/Users/rmbrm/Desktop/lane.txt\")\n",
    "    dict3 = process(\"C:/Users/rmbrm/Desktop/gleiberman.txt\")\n",
    "    print(\"Similarity between Edelstein and Gleiberman is {:.2f}\".format(getSimilarity(dict1,dict3)))\n",
    "    print(\"Similarity between Edelstein and Lane is {:.2f}\".format(getSimilarity(dict1,dict2)))\n",
    "    print(\"Similarity between Gleiberman and Lane is {:.2f}\".format(getSimilarity(dict2,dict3)))\n",
    "        "
   ]
  },
  {
   "cell_type": "code",
   "execution_count": 46,
   "metadata": {},
   "outputs": [
    {
     "name": "stdout",
     "output_type": "stream",
     "text": [
      "Similarity between Edelstein and Gleiberman is 0.94\n",
      "Similarity between Edelstein and Schwarzbaum is 0.91\n",
      "Similarity between Gleiberman and Schwarzbaum is 0.97\n"
     ]
    }
   ],
   "source": [
    "def process(file):\n",
    "    raw = open(file).read()\n",
    "    tokens = word_tokenize(raw)\n",
    "    words = [w.lower() for w in tokens]\n",
    "    \n",
    "    porter = nltk.PorterStemmer()\n",
    "    stemmed_tokens = [porter.stem(t) for t in words]\n",
    "    \n",
    "    stop_words = set(stopwords.words('english'))\n",
    "    filtered_tokens = [w for w in stemmed_tokens if not w in stop_words]\n",
    "    \n",
    "    count = nltk.defaultdict(int)\n",
    "    for word in filtered_tokens:\n",
    "        count[word] += 1\n",
    "    return count;\n",
    "\n",
    "\n",
    "def cos_sim(a, b):\n",
    "    dot_product = np.dot(a, b)\n",
    "    norm_a = np.linalg.norm(a)\n",
    "    norm_b = np.linalg.norm(b)\n",
    "    return dot_product / (norm_a * norm_b)\n",
    "\n",
    "def getSimilarity(dict1, dict2):\n",
    "    all_words_list = []\n",
    "    for key in dict1:\n",
    "        all_words_list.append(key)\n",
    "    for key in dict2:\n",
    "        all_words_list.append(key)\n",
    "    all_words_list_size = len(all_words_list)\n",
    "    \n",
    "    v1 = np.zeros(all_words_list_size, dtype=np.int)\n",
    "    v2 = np.zeros(all_words_list_size, dtype=np.int)\n",
    "    i = 0\n",
    "    for (key) in all_words_list:\n",
    "        v1[i] = dict1.get(key, 0)\n",
    "        v2[i] = dict2.get(key, 0)\n",
    "        i = i + 1\n",
    "    return cos_sim(v1, v2);\n",
    "\n",
    "if __name__ == '__main__':\n",
    "    dict1 = process(\"C:/Users/rmbrm/Desktop/edelstein.txt\")\n",
    "    dict2 = process(\"C:/Users/rmbrm/Desktop/schwarzbaum.txt\")\n",
    "    dict3 = process(\"C:/Users/rmbrm/Desktop/gleiberman.txt\")\n",
    "    print(\"Similarity between Edelstein and Gleiberman is {:.2f}\".format(getSimilarity(dict1,dict3)))\n",
    "    print(\"Similarity between Edelstein and Schwarzbaum is {:.2f}\".format(getSimilarity(dict1,dict2)))\n",
    "    print(\"Similarity between Gleiberman and Schwarzbaum is {:.2f}\".format(getSimilarity(dict2,dict3)))\n",
    "        "
   ]
  },
  {
   "cell_type": "code",
   "execution_count": 47,
   "metadata": {},
   "outputs": [
    {
     "name": "stdout",
     "output_type": "stream",
     "text": [
      "Similarity between Edelstein and Gleiberman is 0.94\n",
      "Similarity between Edelstein and Reed is 0.89\n",
      "Similarity between Gleiberman and Reed is 0.92\n"
     ]
    }
   ],
   "source": [
    "def process(file):\n",
    "    raw = open(file).read()\n",
    "    tokens = word_tokenize(raw)\n",
    "    words = [w.lower() for w in tokens]\n",
    "    \n",
    "    porter = nltk.PorterStemmer()\n",
    "    stemmed_tokens = [porter.stem(t) for t in words]\n",
    "    \n",
    "    stop_words = set(stopwords.words('english'))\n",
    "    filtered_tokens = [w for w in stemmed_tokens if not w in stop_words]\n",
    "    \n",
    "    count = nltk.defaultdict(int)\n",
    "    for word in filtered_tokens:\n",
    "        count[word] += 1\n",
    "    return count;\n",
    "\n",
    "\n",
    "def cos_sim(a, b):\n",
    "    dot_product = np.dot(a, b)\n",
    "    norm_a = np.linalg.norm(a)\n",
    "    norm_b = np.linalg.norm(b)\n",
    "    return dot_product / (norm_a * norm_b)\n",
    "\n",
    "def getSimilarity(dict1, dict2):\n",
    "    all_words_list = []\n",
    "    for key in dict1:\n",
    "        all_words_list.append(key)\n",
    "    for key in dict2:\n",
    "        all_words_list.append(key)\n",
    "    all_words_list_size = len(all_words_list)\n",
    "    \n",
    "    v1 = np.zeros(all_words_list_size, dtype=np.int)\n",
    "    v2 = np.zeros(all_words_list_size, dtype=np.int)\n",
    "    i = 0\n",
    "    for (key) in all_words_list:\n",
    "        v1[i] = dict1.get(key, 0)\n",
    "        v2[i] = dict2.get(key, 0)\n",
    "        i = i + 1\n",
    "    return cos_sim(v1, v2);\n",
    "\n",
    "if __name__ == '__main__':\n",
    "    dict1 = process(\"C:/Users/rmbrm/Desktop/edelstein.txt\")\n",
    "    dict2 = process(\"C:/Users/rmbrm/Desktop/reed.txt\")\n",
    "    dict3 = process(\"C:/Users/rmbrm/Desktop/gleiberman.txt\")\n",
    "    print(\"Similarity between Edelstein and Gleiberman is {:.2f}\".format(getSimilarity(dict1,dict3)))\n",
    "    print(\"Similarity between Edelstein and Reed is {:.2f}\".format(getSimilarity(dict1,dict2)))\n",
    "    print(\"Similarity between Gleiberman and Reed is {:.2f}\".format(getSimilarity(dict2,dict3)))\n",
    "        "
   ]
  },
  {
   "cell_type": "code",
   "execution_count": 50,
   "metadata": {},
   "outputs": [
    {
     "name": "stdout",
     "output_type": "stream",
     "text": [
      "Similarity between Edelstein and Gleiberman is 0.94\n",
      "Similarity between Edelstein and Lane is 0.87\n",
      "Similarity between Gleiberman and Lane is 0.94\n"
     ]
    }
   ],
   "source": [
    "def process(file):\n",
    "    raw = open(file).read()\n",
    "    tokens = word_tokenize(raw)\n",
    "    words = [w.lower() for w in tokens]\n",
    "    \n",
    "    porter = nltk.PorterStemmer()\n",
    "    stemmed_tokens = [porter.stem(t) for t in words]\n",
    "    \n",
    "    stop_words = set(stopwords.words('english'))\n",
    "    filtered_tokens = [w for w in stemmed_tokens if not w in stop_words]\n",
    "    \n",
    "    count = nltk.defaultdict(int)\n",
    "    for word in filtered_tokens:\n",
    "        count[word] += 1\n",
    "    return count;\n",
    "\n",
    "\n",
    "def cos_sim(a, b):\n",
    "    dot_product = np.dot(a, b)\n",
    "    norm_a = np.linalg.norm(a)\n",
    "    norm_b = np.linalg.norm(b)\n",
    "    return dot_product / (norm_a * norm_b)\n",
    "\n",
    "def getSimilarity(dict1, dict2):\n",
    "    all_words_list = []\n",
    "    for key in dict1:\n",
    "        all_words_list.append(key)\n",
    "    for key in dict2:\n",
    "        all_words_list.append(key)\n",
    "    all_words_list_size = len(all_words_list)\n",
    "    \n",
    "    v1 = np.zeros(all_words_list_size, dtype=np.int)\n",
    "    v2 = np.zeros(all_words_list_size, dtype=np.int)\n",
    "    i = 0\n",
    "    for (key) in all_words_list:\n",
    "        v1[i] = dict1.get(key, 0)\n",
    "        v2[i] = dict2.get(key, 0)\n",
    "        i = i + 1\n",
    "    return cos_sim(v1, v2);\n",
    "\n",
    "if __name__ == '__main__':\n",
    "    dict1 = process(\"C:/Users/rmbrm/Desktop/edelstein.txt\")\n",
    "    dict2 = process(\"C:/Users/rmbrm/Desktop/lane.txt\")\n",
    "    dict3 = process(\"C:/Users/rmbrm/Desktop/gleiberman.txt\")\n",
    "    print(\"Similarity between Edelstein and Gleiberman is {:.2f}\".format(getSimilarity(dict1,dict3)))\n",
    "    print(\"Similarity between Edelstein and Lane is {:.2f}\".format(getSimilarity(dict1,dict2)))\n",
    "    print(\"Similarity between Gleiberman and Lane is {:.2f}\".format(getSimilarity(dict2,dict3)))\n",
    "        "
   ]
  },
  {
   "cell_type": "code",
   "execution_count": 48,
   "metadata": {},
   "outputs": [
    {
     "name": "stdout",
     "output_type": "stream",
     "text": [
      "Similarity between Kehr and Rosenbaum is 0.97\n",
      "Similarity between Kehr and Edelstein is 0.92\n",
      "Similarity between Rosenbaum and Edelstein is 0.94\n"
     ]
    }
   ],
   "source": [
    "def process(file):\n",
    "    raw = open(file).read()\n",
    "    tokens = word_tokenize(raw)\n",
    "    words = [w.lower() for w in tokens]\n",
    "    \n",
    "    porter = nltk.PorterStemmer()\n",
    "    stemmed_tokens = [porter.stem(t) for t in words]\n",
    "    \n",
    "    stop_words = set(stopwords.words('english'))\n",
    "    filtered_tokens = [w for w in stemmed_tokens if not w in stop_words]\n",
    "    \n",
    "    count = nltk.defaultdict(int)\n",
    "    for word in filtered_tokens:\n",
    "        count[word] += 1\n",
    "    return count;\n",
    "\n",
    "\n",
    "def cos_sim(a, b):\n",
    "    dot_product = np.dot(a, b)\n",
    "    norm_a = np.linalg.norm(a)\n",
    "    norm_b = np.linalg.norm(b)\n",
    "    return dot_product / (norm_a * norm_b)\n",
    "\n",
    "def getSimilarity(dict1, dict2):\n",
    "    all_words_list = []\n",
    "    for key in dict1:\n",
    "        all_words_list.append(key)\n",
    "    for key in dict2:\n",
    "        all_words_list.append(key)\n",
    "    all_words_list_size = len(all_words_list)\n",
    "    \n",
    "    v1 = np.zeros(all_words_list_size, dtype=np.int)\n",
    "    v2 = np.zeros(all_words_list_size, dtype=np.int)\n",
    "    i = 0\n",
    "    for (key) in all_words_list:\n",
    "        v1[i] = dict1.get(key, 0)\n",
    "        v2[i] = dict2.get(key, 0)\n",
    "        i = i + 1\n",
    "    return cos_sim(v1, v2);\n",
    "\n",
    "if __name__ == '__main__':\n",
    "    dict1 = process(\"C:/Users/rmbrm/Desktop/kehr.txt\")\n",
    "    dict2 = process(\"C:/Users/rmbrm/Desktop/edelstein.txt\")\n",
    "    dict3 = process(\"C:/Users/rmbrm/Desktop/rosenbaum.txt\")\n",
    "    print(\"Similarity between Kehr and Rosenbaum is {:.2f}\".format(getSimilarity(dict1,dict3)))\n",
    "    print(\"Similarity between Kehr and Edelstein is {:.2f}\".format(getSimilarity(dict1,dict2)))\n",
    "    print(\"Similarity between Rosenbaum and Edelstein is {:.2f}\".format(getSimilarity(dict2,dict3)))\n",
    "        "
   ]
  },
  {
   "cell_type": "code",
   "execution_count": null,
   "metadata": {
    "collapsed": true
   },
   "outputs": [],
   "source": []
  },
  {
   "cell_type": "code",
   "execution_count": 49,
   "metadata": {},
   "outputs": [
    {
     "name": "stdout",
     "output_type": "stream",
     "text": [
      "Similarity between Lane and Reed is 0.89\n",
      "Similarity between Lane and Wilmington is 0.93\n",
      "Similarity between Reed and Wilmington is 0.91\n"
     ]
    }
   ],
   "source": [
    "def process(file):\n",
    "    raw = open(file).read()\n",
    "    tokens = word_tokenize(raw)\n",
    "    words = [w.lower() for w in tokens]\n",
    "    \n",
    "    porter = nltk.PorterStemmer()\n",
    "    stemmed_tokens = [porter.stem(t) for t in words]\n",
    "    \n",
    "    stop_words = set(stopwords.words('english'))\n",
    "    filtered_tokens = [w for w in stemmed_tokens if not w in stop_words]\n",
    "    \n",
    "    count = nltk.defaultdict(int)\n",
    "    for word in filtered_tokens:\n",
    "        count[word] += 1\n",
    "    return count;\n",
    "\n",
    "\n",
    "def cos_sim(a, b):\n",
    "    dot_product = np.dot(a, b)\n",
    "    norm_a = np.linalg.norm(a)\n",
    "    norm_b = np.linalg.norm(b)\n",
    "    return dot_product / (norm_a * norm_b)\n",
    "\n",
    "def getSimilarity(dict1, dict2):\n",
    "    all_words_list = []\n",
    "    for key in dict1:\n",
    "        all_words_list.append(key)\n",
    "    for key in dict2:\n",
    "        all_words_list.append(key)\n",
    "    all_words_list_size = len(all_words_list)\n",
    "    \n",
    "    v1 = np.zeros(all_words_list_size, dtype=np.int)\n",
    "    v2 = np.zeros(all_words_list_size, dtype=np.int)\n",
    "    i = 0\n",
    "    for (key) in all_words_list:\n",
    "        v1[i] = dict1.get(key, 0)\n",
    "        v2[i] = dict2.get(key, 0)\n",
    "        i = i + 1\n",
    "    return cos_sim(v1, v2);\n",
    "\n",
    "if __name__ == '__main__':\n",
    "    dict1 = process(\"C:/Users/rmbrm/Desktop/lane.txt\")\n",
    "    dict2 = process(\"C:/Users/rmbrm/Desktop/wilmington.txt\")\n",
    "    dict3 = process(\"C:/Users/rmbrm/Desktop/reed.txt\")\n",
    "    print(\"Similarity between Lane and Reed is {:.2f}\".format(getSimilarity(dict1,dict3)))\n",
    "    print(\"Similarity between Lane and Wilmington is {:.2f}\".format(getSimilarity(dict1,dict2)))\n",
    "    print(\"Similarity between Reed and Wilmington is {:.2f}\".format(getSimilarity(dict2,dict3)))\n",
    "        "
   ]
  },
  {
   "cell_type": "code",
   "execution_count": null,
   "metadata": {
    "collapsed": true
   },
   "outputs": [],
   "source": []
  },
  {
   "cell_type": "code",
   "execution_count": null,
   "metadata": {
    "collapsed": true
   },
   "outputs": [],
   "source": []
  },
  {
   "cell_type": "code",
   "execution_count": null,
   "metadata": {
    "collapsed": true
   },
   "outputs": [],
   "source": []
  },
  {
   "cell_type": "code",
   "execution_count": null,
   "metadata": {
    "collapsed": true
   },
   "outputs": [],
   "source": []
  }
 ],
 "metadata": {
  "kernelspec": {
   "display_name": "Python 3",
   "language": "python",
   "name": "python3"
  },
  "language_info": {
   "codemirror_mode": {
    "name": "ipython",
    "version": 3
   },
   "file_extension": ".py",
   "mimetype": "text/x-python",
   "name": "python",
   "nbconvert_exporter": "python",
   "pygments_lexer": "ipython3",
   "version": "3.6.3"
  }
 },
 "nbformat": 4,
 "nbformat_minor": 2
}
