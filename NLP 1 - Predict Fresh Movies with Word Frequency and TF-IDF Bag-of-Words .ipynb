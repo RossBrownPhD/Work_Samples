{
 "cells": [
  {
   "cell_type": "markdown",
   "metadata": {},
   "source": [
    "<a id='top'></a>"
   ]
  },
  {
   "cell_type": "markdown",
   "metadata": {},
   "source": [
    "# NLP 1: Predict Fresh Movies w/Word Frequency & TF-IDF Bag-of-Words "
   ]
  },
  {
   "cell_type": "markdown",
   "metadata": {},
   "source": [
    "#### --> Natural Language Processing Methods in this Project:\n",
    "\n",
    " - Word frequency approach to vector encoding for bag-of-words modeling\n",
    " - Term Frequency - Inverse Document Frequency approach to vector encoding for bag-of-words modeling\n",
    "\n",
    "#### --> Natural Language Processing Tools in this Project:\n",
    "\n",
    " - Scikit-Learn"
   ]
  },
  {
   "cell_type": "markdown",
   "metadata": {},
   "source": [
    "Natural Language Processing is a major tributary of data science. For this project I used NLP methods to create features derived from text to predict a categorical target. Specically, this NLP project entailed:\n",
    "\n",
    " - preprocessing text so that it can be used for machine learning algorithms;\n",
    " - comparing two vector encoding approaches (word frequency and Term Frequency-Inverse Document Frequency) to extract features from movie reviews for bag-of-words modeling for predicting fresh reviews.  \n",
    " \n",
    "Rottentomatoes.com is a movie review aggregator that classifies positive movie reviews as \"Fresh,\" and negative movie reviews as \"Rotten.\" Along with this categorical designation, for many of the reviews the data includes snippets of the text movie reviews. These snippets are the natural language text (the features) that will be used to predict whether the review is classified as Fresh or Rotten (the target).\n",
    "\n",
    "\n",
    "- [Step 1](#Step_1) Preprocessing. Keep only fresh/rotten data for which there are also text reviews. Create a dataframe tallying number of reviews for each reviewer, and what percentage of their reviews were \"fresh.\" \n",
    "- [Step 2](#Step_2) Exploratory data analysis. Here I looked at the distribution of reviewers by the percentage of fresh ratings that they awarded. Histograms revealed that many reviewers awarded 0% or 100% fresh ratings. With these reviewers removed from the data, the percentage of fresh reviews per reviewer was close to normally distributed. After the EDA, I modified the dataframe to only include reviewers with 15 or more reviews.\n",
    "- [Step 3](#Step_3) Creating features (vectors) based on word frequency. A frequency vector is the frequency of each word as it appears in the document. I used Scikit-Learn's CountVectorizer to create features that are sparse arrays representing the document ID and the the counts of the different words in the documents. Using CountVectorizer, the text is also tokenized (broken into components) and normalized (different permutations of words are consolidated). \n",
    "- [Step 4](#Step_4) Use word frequency vectors to predict Fresh reviews. With vectors created from this bag-of-words approach, I used several machine learning algorithms to predict Fresh reviews based on the text of the reviews.\n",
    "- [Step 5](#Step_5) Creating features (vectors) based on Term Frequency–Inverse Document Frequency. Word frequency vectors do not account for frequency of words in the overall corpus (the collection of documents that are being compared). The Term Frequency–Inverse Document Frequency approach does; it normalizes words in a document relative to the total corpus. Here I used Scikit-Learn's TfidfVectorizer to create features that are word counts normalized by the inverse document frequency.\n",
    "- [Step 6](#Step_6) Use TF-IDF vectors to predict Fresh reviews. I used the Term Frequency–Inverse Document Frequency vectors and several machine learning algorithms for a bag-of-words approach to predicting Fresh reviews.\n",
    "- [Step 7](#Step_7) Conclusion and references. "
   ]
  },
  {
   "cell_type": "code",
   "execution_count": 1,
   "metadata": {},
   "outputs": [],
   "source": [
    "import pandas as pd\n",
    "pd.set_option('mode.chained_assignment', None)\n",
    "pd.set_option('max_columns', 120)\n",
    "pd.set_option('max_colwidth', 5000)\n",
    "pd.options.display.max_rows = 999\n",
    "import numpy as np\n",
    "import matplotlib.pyplot as plt\n",
    "%matplotlib inline\n",
    "import seaborn as sns\n",
    "import warnings\n",
    "warnings.filterwarnings(\"ignore\")"
   ]
  },
  {
   "cell_type": "markdown",
   "metadata": {},
   "source": [
    "Back to [top](#top) "
   ]
  },
  {
   "cell_type": "markdown",
   "metadata": {},
   "source": [
    "<a id='Step_1'></a>"
   ]
  },
  {
   "cell_type": "markdown",
   "metadata": {},
   "source": [
    "#### Step 1: Preprocessing\n",
    "Keep only fresh/rotten data for which there are also text reviews. Create a dataframe tallying number of reviews for each reviewer, and what percentage of their reviews were \"fresh.\" "
   ]
  },
  {
   "cell_type": "code",
   "execution_count": 2,
   "metadata": {},
   "outputs": [
    {
     "data": {
      "text/html": [
       "<div>\n",
       "<style scoped>\n",
       "    .dataframe tbody tr th:only-of-type {\n",
       "        vertical-align: middle;\n",
       "    }\n",
       "\n",
       "    .dataframe tbody tr th {\n",
       "        vertical-align: top;\n",
       "    }\n",
       "\n",
       "    .dataframe thead th {\n",
       "        text-align: right;\n",
       "    }\n",
       "</style>\n",
       "<table border=\"1\" class=\"dataframe\">\n",
       "  <thead>\n",
       "    <tr style=\"text-align: right;\">\n",
       "      <th></th>\n",
       "      <th>critic</th>\n",
       "      <th>fresh</th>\n",
       "      <th>quote</th>\n",
       "      <th>rtid</th>\n",
       "    </tr>\n",
       "  </thead>\n",
       "  <tbody>\n",
       "    <tr>\n",
       "      <th>1</th>\n",
       "      <td>Derek Adams</td>\n",
       "      <td>fresh</td>\n",
       "      <td>So ingenious in concept, design and execution that you could watch it on a postage stamp-sized screen and still be engulfed by its charm.</td>\n",
       "      <td>9559</td>\n",
       "    </tr>\n",
       "    <tr>\n",
       "      <th>2</th>\n",
       "      <td>Richard Corliss</td>\n",
       "      <td>fresh</td>\n",
       "      <td>The year's most inventive comedy.</td>\n",
       "      <td>9559</td>\n",
       "    </tr>\n",
       "    <tr>\n",
       "      <th>3</th>\n",
       "      <td>David Ansen</td>\n",
       "      <td>fresh</td>\n",
       "      <td>A winning animated feature that has something for everyone on the age spectrum.</td>\n",
       "      <td>9559</td>\n",
       "    </tr>\n",
       "    <tr>\n",
       "      <th>4</th>\n",
       "      <td>Leonard Klady</td>\n",
       "      <td>fresh</td>\n",
       "      <td>The film sports a provocative and appealing story that's every bit the equal of this technical achievement.</td>\n",
       "      <td>9559</td>\n",
       "    </tr>\n",
       "    <tr>\n",
       "      <th>5</th>\n",
       "      <td>Jonathan Rosenbaum</td>\n",
       "      <td>fresh</td>\n",
       "      <td>An entertaining computer-generated, hyperrealist animation feature (1995) that's also in effect a toy catalog.</td>\n",
       "      <td>9559</td>\n",
       "    </tr>\n",
       "  </tbody>\n",
       "</table>\n",
       "</div>"
      ],
      "text/plain": [
       "               critic  fresh  \\\n",
       "1         Derek Adams  fresh   \n",
       "2     Richard Corliss  fresh   \n",
       "3         David Ansen  fresh   \n",
       "4       Leonard Klady  fresh   \n",
       "5  Jonathan Rosenbaum  fresh   \n",
       "\n",
       "                                                                                                                                       quote  \\\n",
       "1  So ingenious in concept, design and execution that you could watch it on a postage stamp-sized screen and still be engulfed by its charm.   \n",
       "2                                                                                                          The year's most inventive comedy.   \n",
       "3                                                            A winning animated feature that has something for everyone on the age spectrum.   \n",
       "4                                The film sports a provocative and appealing story that's every bit the equal of this technical achievement.   \n",
       "5                             An entertaining computer-generated, hyperrealist animation feature (1995) that's also in effect a toy catalog.   \n",
       "\n",
       "   rtid  \n",
       "1  9559  \n",
       "2  9559  \n",
       "3  9559  \n",
       "4  9559  \n",
       "5  9559  "
      ]
     },
     "execution_count": 2,
     "metadata": {},
     "output_type": "execute_result"
    }
   ],
   "source": [
    "file_loc = \"C:/Users/rmbrm/Documents/DS_WP/data/critics.csv\"\n",
    "df = pd.read_csv(file_loc, index_col=None, na_values=['NA'], usecols = ['critic', 'fresh', 'quote', 'rtid'] )\n",
    "df = df[~df.quote.isnull()]\n",
    "df.head()"
   ]
  },
  {
   "cell_type": "code",
   "execution_count": 3,
   "metadata": {
    "scrolled": true
   },
   "outputs": [
    {
     "data": {
      "text/html": [
       "<div>\n",
       "<style scoped>\n",
       "    .dataframe tbody tr th:only-of-type {\n",
       "        vertical-align: middle;\n",
       "    }\n",
       "\n",
       "    .dataframe tbody tr th {\n",
       "        vertical-align: top;\n",
       "    }\n",
       "\n",
       "    .dataframe thead th {\n",
       "        text-align: right;\n",
       "    }\n",
       "</style>\n",
       "<table border=\"1\" class=\"dataframe\">\n",
       "  <thead>\n",
       "    <tr style=\"text-align: right;\">\n",
       "      <th></th>\n",
       "      <th>Number of Reviews</th>\n",
       "      <th>Percent of Reviews Fresh</th>\n",
       "    </tr>\n",
       "    <tr>\n",
       "      <th>critic</th>\n",
       "      <th></th>\n",
       "      <th></th>\n",
       "    </tr>\n",
       "  </thead>\n",
       "  <tbody>\n",
       "    <tr>\n",
       "      <th>A.D. Murphy</th>\n",
       "      <td>13</td>\n",
       "      <td>100</td>\n",
       "    </tr>\n",
       "    <tr>\n",
       "      <th>A.H. Weiler</th>\n",
       "      <td>17</td>\n",
       "      <td>71</td>\n",
       "    </tr>\n",
       "    <tr>\n",
       "      <th>A.O. Scott</th>\n",
       "      <td>19</td>\n",
       "      <td>37</td>\n",
       "    </tr>\n",
       "    <tr>\n",
       "      <th>Aaron Hillis</th>\n",
       "      <td>2</td>\n",
       "      <td>100</td>\n",
       "    </tr>\n",
       "    <tr>\n",
       "      <th>Abel Green</th>\n",
       "      <td>5</td>\n",
       "      <td>100</td>\n",
       "    </tr>\n",
       "  </tbody>\n",
       "</table>\n",
       "</div>"
      ],
      "text/plain": [
       "              Number of Reviews  Percent of Reviews Fresh\n",
       "critic                                                   \n",
       "A.D. Murphy                  13                       100\n",
       "A.H. Weiler                  17                        71\n",
       "A.O. Scott                   19                        37\n",
       "Aaron Hillis                  2                       100\n",
       "Abel Green                    5                       100"
      ]
     },
     "execution_count": 3,
     "metadata": {},
     "output_type": "execute_result"
    }
   ],
   "source": [
    "n_reviews = len(df)\n",
    "n_movies = df.rtid.unique().size\n",
    "n_critics = df.critic.unique().size\n",
    "df['fresh'] = df.fresh == 'fresh'\n",
    "grp = df.groupby('critic')\n",
    "counts = grp.critic.count()\n",
    "means = grp.fresh.mean()\n",
    "reviewers = pd.concat([counts, means], axis=1)\n",
    "reviewers.rename(columns={'critic': 'Number of Reviews'}, inplace=True)\n",
    "reviewers['fresh']= (reviewers['fresh']*100)\n",
    "reviewers = reviewers.round()\n",
    "reviewers['fresh']=reviewers['fresh'].astype('Int64')\n",
    "reviewers.rename(columns={'fresh': 'Percent of Reviews Fresh'}, inplace=True)\n",
    "reviewers.head()"
   ]
  },
  {
   "cell_type": "markdown",
   "metadata": {},
   "source": [
    "Back to [top](#top) "
   ]
  },
  {
   "cell_type": "markdown",
   "metadata": {},
   "source": [
    "<a id='Step_2'></a>"
   ]
  },
  {
   "cell_type": "markdown",
   "metadata": {},
   "source": [
    "#### Step 2: Exploratory data analysis\n",
    "\n",
    "Here I looked at the distribution of reviewers by the percentage of fresh ratings that they awarded. The first histogram, with all the data, shows many reviewers awarded 0% or 100% fresh ratings. I interpreted this as indicating a large number of reviewers rated very few movies (so all or none of their reviews are fresh), OR, a large number of reviewers are not discriminating.\n",
    "\n",
    "For the second histogram, I only plotted reviewers with more than 15 reviews(\"Prolific Reviewers\"). This distribution was much closer to a normal distribution. I assume this data is cleaner, so I'll use it for the analysis. After the EDA, I modified the dataframe to only include reviewers with 15 or more reviews."
   ]
  },
  {
   "cell_type": "code",
   "execution_count": 4,
   "metadata": {},
   "outputs": [],
   "source": [
    "prolific = reviewers[reviewers['Number of Reviews'] > 15]  \n",
    "prolific=prolific.drop(['Number of Reviews'], axis=1)\n",
    "reviewers=reviewers.drop(['Number of Reviews'], axis=1)"
   ]
  },
  {
   "cell_type": "code",
   "execution_count": 5,
   "metadata": {
    "scrolled": false
   },
   "outputs": [
    {
     "data": {
      "text/plain": [
       "Text(0, 0.5, 'Number of Reviewers')"
      ]
     },
     "execution_count": 5,
     "metadata": {},
     "output_type": "execute_result"
    },
    {
     "data": {
      "image/png": "[encoded data removed]",
      "text/plain": [
       "<Figure size 432x288 with 1 Axes>"
      ]
     },
     "metadata": {
      "needs_background": "light"
     },
     "output_type": "display_data"
    }
   ],
   "source": [
    "reviewers['Percent of Reviews Fresh'].hist(bins=10, grid=False, xlabelsize=12, ylabelsize=12)\n",
    "plt.xlabel(\"Histogram 1: Percent Fresh (All Reviewers)\", fontsize=12)\n",
    "plt.ylabel(\"Number of Reviewers\",fontsize=12)"
   ]
  },
  {
   "cell_type": "code",
   "execution_count": 6,
   "metadata": {
    "scrolled": true
   },
   "outputs": [
    {
     "data": {
      "text/plain": [
       "Text(0, 0.5, 'Number of Reviewers')"
      ]
     },
     "execution_count": 6,
     "metadata": {},
     "output_type": "execute_result"
    },
    {
     "data": {
      "image/png": "[encoded data removed]",
      "text/plain": [
       "<Figure size 432x288 with 1 Axes>"
      ]
     },
     "metadata": {
      "needs_background": "light"
     },
     "output_type": "display_data"
    }
   ],
   "source": [
    "prolific['Percent of Reviews Fresh'].hist(bins=10, grid=False, xlabelsize=12, ylabelsize=12)\n",
    "plt.xlabel(\"Histogram 2: Percent Fresh (Prolific Reviewers)\", fontsize=12)\n",
    "plt.ylabel(\"Number of Reviewers\",fontsize=12)"
   ]
  },
  {
   "cell_type": "code",
   "execution_count": 7,
   "metadata": {},
   "outputs": [],
   "source": [
    "# Edit dataframe so it only includes reviewers who have many reviews\n",
    "many_reviews = prolific.index.tolist() \n",
    "df = df.loc[df['critic'].isin(many_reviews)]"
   ]
  },
  {
   "cell_type": "markdown",
   "metadata": {},
   "source": [
    "Back to [top](#top) "
   ]
  },
  {
   "cell_type": "markdown",
   "metadata": {},
   "source": [
    "<a id='Step_3'></a>"
   ]
  },
  {
   "cell_type": "markdown",
   "metadata": {},
   "source": [
    "#### Step 3: Creating features (vectors) based on word frequency\n",
    "\n",
    "A frequency vector is the frequency of each word as it appears in the document. Here I used Scikit-Learn's CountVectorizer to create features that are sparse arrays representing the document ID and the the counts of the different words in the documents. Using CountVectorizer, the text is also tokenized (broken into components) and normalized (different \n",
    "permutations of words are consolidated)."
   ]
  },
  {
   "cell_type": "code",
   "execution_count": 8,
   "metadata": {},
   "outputs": [],
   "source": [
    "# Text preprocessing for NLP - remove upper case letters and punctuation\n",
    "df['quote'] = df['quote'].str.lower()\n",
    "df['quote'] = df['quote'].str.replace(\"\\d+\", \"\")"
   ]
  },
  {
   "cell_type": "code",
   "execution_count": 9,
   "metadata": {},
   "outputs": [],
   "source": [
    "from sklearn.feature_extraction.text import CountVectorizer\n",
    "from sklearn.model_selection import train_test_split\n",
    "\n",
    "corpus = df['quote']\n",
    "vectorizer = CountVectorizer()\n",
    "\n",
    "X = vectorizer.fit_transform(corpus)\n",
    "\n",
    "y = df.fresh.values.astype(np.int)\n",
    "X_train, X_test, y_train, y_test = train_test_split(X, y, test_size=0.33, random_state=53)"
   ]
  },
  {
   "cell_type": "markdown",
   "metadata": {},
   "source": [
    "Back to [top](#top) "
   ]
  },
  {
   "cell_type": "markdown",
   "metadata": {},
   "source": [
    "<a id='Step_4'></a>"
   ]
  },
  {
   "cell_type": "markdown",
   "metadata": {},
   "source": [
    "#### Step 4: Use word frequency vectors to predict Fresh reviews\n",
    "I used the word frequency vectors and several machine learning algorithms for a bag-of-words approach to predicting Fresh reviews."
   ]
  },
  {
   "cell_type": "code",
   "execution_count": 10,
   "metadata": {
    "scrolled": true
   },
   "outputs": [
    {
     "name": "stdout",
     "output_type": "stream",
     "text": [
      "Linear Regression: 0.77\n",
      "Stochastic Gradient Descent: 0.75\n",
      "Naive Bayes: 0.77\n",
      "Random Forest: 0.68\n",
      "Gradient Boosting Classifier: 0.67\n",
      "K-Nearest Neighbors: 0.63\n",
      "\n",
      "\n",
      "Average accuracy for word frequency approach: 0.71\n"
     ]
    }
   ],
   "source": [
    "from sklearn import model_selection\n",
    "from sklearn import metrics\n",
    "from statistics import mean\n",
    "\n",
    "from sklearn.linear_model import LogisticRegression\n",
    "from sklearn.linear_model import SGDClassifier\n",
    "from sklearn.naive_bayes import MultinomialNB\n",
    "from sklearn.ensemble import RandomForestClassifier\n",
    "from sklearn.ensemble import GradientBoostingClassifier\n",
    "from sklearn.neighbors import KNeighborsClassifier\n",
    "\n",
    "models = []\n",
    "models.append(('Linear Regression', LogisticRegression()))\n",
    "models.append(('Stochastic Gradient Descent', SGDClassifier()))\n",
    "models.append(('Naive Bayes', MultinomialNB()))\n",
    "models.append(('Random Forest', RandomForestClassifier()))\n",
    "models.append(('Gradient Boosting Classifier', GradientBoostingClassifier()))\n",
    "models.append(('K-Nearest Neighbors', KNeighborsClassifier()))\n",
    "\n",
    "results = []\n",
    "names = []\n",
    "for name, model in models:\n",
    "    clf = model\n",
    "    clf.fit(X_train, y_train)\n",
    "    pred = clf.predict(X_test)\n",
    "    clf_results = metrics.accuracy_score(y_test, pred)\n",
    "    results.append(clf_results)\n",
    "    names.append(name)\n",
    "    msg = \"%s: %.2f\" % (name, clf_results)\n",
    "    print(msg)\n",
    "\n",
    "print('\\n')\n",
    "overall = mean(results)\n",
    "print(\"Average accuracy for word frequency approach: {:.2f}\".format(overall))"
   ]
  },
  {
   "cell_type": "markdown",
   "metadata": {},
   "source": [
    "Back to [top](#top) "
   ]
  },
  {
   "cell_type": "markdown",
   "metadata": {},
   "source": [
    "<a id='Step_5'></a>"
   ]
  },
  {
   "cell_type": "markdown",
   "metadata": {},
   "source": [
    "#### Step 5: Creating features (vectors) based on Term Frequency–Inverse Document Frequency \n",
    "\n",
    "Word frequency vectors do not account for frequency of words in the overall corpus (the collection of documents that are being compared). The Term Frequency–Inverse Document Frequency approach does; it normalizes words in a document relative to the total corpus. Here I used Scikit-Learn's TfidfVectorizer to create features that are word counts normalized by the inverse document frequency. "
   ]
  },
  {
   "cell_type": "code",
   "execution_count": 12,
   "metadata": {},
   "outputs": [],
   "source": [
    "# TF-IDF Vectorizing\n",
    "from sklearn.feature_extraction.text import TfidfVectorizer\n",
    "from sklearn.model_selection import train_test_split\n",
    "\n",
    "corpus = df['quote']\n",
    "vectorizer = TfidfVectorizer()\n",
    "\n",
    "X = vectorizer.fit_transform(corpus)\n",
    "\n",
    "y = df.fresh.values.astype(np.int)\n",
    "X_train, X_test, y_train, y_test = train_test_split(X, y, test_size=0.33, random_state=53)"
   ]
  },
  {
   "cell_type": "markdown",
   "metadata": {},
   "source": [
    "<a id='Step_6'></a>"
   ]
  },
  {
   "cell_type": "markdown",
   "metadata": {},
   "source": [
    "Back to [top](#top) "
   ]
  },
  {
   "cell_type": "markdown",
   "metadata": {},
   "source": [
    "#### Step 6: Use TF-IDF vectors to predict Fresh reviews\n",
    "I used the Term Frequency–Inverse Document Frequency vectors and several machine learning algorithms for a bag-of-words approach to predicting Fresh reviews."
   ]
  },
  {
   "cell_type": "code",
   "execution_count": 13,
   "metadata": {},
   "outputs": [],
   "source": [
    "models = []\n",
    "models.append(('Linear Regression', LogisticRegression()))\n",
    "models.append(('Stochastic Gradient Descent', SGDClassifier()))\n",
    "models.append(('Naive Bayes', MultinomialNB()))\n",
    "models.append(('Random Forest', RandomForestClassifier()))\n",
    "models.append(('Gradient Boosting Classifier', GradientBoostingClassifier()))\n",
    "models.append(('K-Nearest Neighbors', KNeighborsClassifier()))"
   ]
  },
  {
   "cell_type": "code",
   "execution_count": 14,
   "metadata": {
    "scrolled": false
   },
   "outputs": [
    {
     "name": "stdout",
     "output_type": "stream",
     "text": [
      "Linear Regression: 0.75\n",
      "Stochastic Gradient Descent: 0.77\n",
      "Naive Bayes: 0.69\n",
      "Random Forest: 0.67\n",
      "Gradient Boosting Classifier: 0.67\n",
      "K-Nearest Neighbors: 0.70\n",
      "\n",
      "\n",
      "Average accuracy for TF-IDF approach: 0.71\n"
     ]
    }
   ],
   "source": [
    "results = []\n",
    "names = []\n",
    "#scoring = 'metrics.accuracy_score(y_test, pred)'\n",
    "for name, model in models:\n",
    "    clf = model\n",
    "    clf.fit(X_train, y_train)\n",
    "    pred = clf.predict(X_test)\n",
    "    clf_results = metrics.accuracy_score(y_test, pred)\n",
    "    results.append(clf_results)\n",
    "    names.append(name)\n",
    "    msg = \"%s: %.2f\" % (name, clf_results)\n",
    "    print(msg)\n",
    "\n",
    "print('\\n')\n",
    "overall = mean(results)\n",
    "print(\"Average accuracy for TF-IDF approach: {:.2f}\".format(overall))"
   ]
  },
  {
   "cell_type": "markdown",
   "metadata": {},
   "source": [
    "Back to [top](#top) "
   ]
  },
  {
   "cell_type": "markdown",
   "metadata": {},
   "source": [
    "<a id='Step_7'></a>"
   ]
  },
  {
   "cell_type": "markdown",
   "metadata": {},
   "source": [
    "#### Step 7: Results and references\n",
    "\n",
    "Two different methods were used to create features from text: word frequency and Term Frequency-Inverse Document Frequency. Using these bag-of-words approaches and comparing several machine learning algorithms revealed small differences in the predictive accuracy of individual algorithms.\n",
    "\n",
    "However, the average predictive accuracy of the machine learning algorithms was the same, whether the document vectors were created using word frequency or TF-IDF bag-of-word approaches. I attribute this to the fact that the \"reviews\" in the Rottentomatoes data are actually very short excerpts of the actual movie reviews. For this reason, I believe they don't contain a lot of data to be used to differentiate between fresh and rotten reviews. Nonetheless, this project provides a template to be used for natural language processing for making categorical predictions. \n",
    "\n",
    "The primary references for this project are:\n",
    "\n",
    " - Bengfort, Benjamin; Bilbro, Rebecca; Ojeda, Tony. Applied Text Analysis with Python: Enabling Language-Aware Data Products with Machine Learning.\n",
    " - Schütze, Hinrich; Raghavan, Prabhakar; Manning, Christopher D. Introduction to Information Retrieval."
   ]
  }
 ],
 "metadata": {
  "kernelspec": {
   "display_name": "Python 3",
   "language": "python",
   "name": "python3"
  },
  "language_info": {
   "codemirror_mode": {
    "name": "ipython",
    "version": 3
   },
   "file_extension": ".py",
   "mimetype": "text/x-python",
   "name": "python",
   "nbconvert_exporter": "python",
   "pygments_lexer": "ipython3",
   "version": "3.7.3"
  }
 },
 "nbformat": 4,
 "nbformat_minor": 2
}
