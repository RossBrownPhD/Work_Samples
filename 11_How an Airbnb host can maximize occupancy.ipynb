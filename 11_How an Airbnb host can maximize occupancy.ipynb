{
 "cells": [
  {
   "cell_type": "markdown",
   "metadata": {},
   "source": [
    "<a id='top'></a>"
   ]
  },
  {
   "cell_type": "markdown",
   "metadata": {},
   "source": [
    "# What can an Airbnb host do to maximize occupancy?\n",
    "\n",
    "#### Using data from Airbnb, I developed a model that predicts which properties will have occupancy rates of 75% over the next  60 days\n",
    "\n",
    "- [Step 1](#Step_1) Preprocessing: Format and edit the data. After reviewing the 105 variables in the data, I selected 29 to use to build a model.\n",
    "- [Step 2](#Step_2) Examine value counts of categorical variables to create meaningful categories where possible.\n",
    "- [Step 3](#Step_3) Feature engineering: Number of amenities; price per person; and bathrooms, bedrooms, and beds per person.\n",
    "- [Step 4](#Step_4) Format data for EDA and analysis: Convert categorical variables to categorical data types, code target.\n",
    "- [Step 5](#Step_5) Housekeeping: Save dataframe with variables that will be useful for different, future analysis; drop variables no longer needed.\n",
    "- [Step 6](#Step_6) EDA: Descriptives, grouped by data type and content.\n",
    "- [Step 7](#Step_7) Identify outliers for removal by creating boxplots.\n",
    "- [Step 8](#Step_8) Implement random forests with basic train/test split.\n",
    "- [Step 9](#Step_9) Identify most important features."
   ]
  },
  {
   "cell_type": "code",
   "execution_count": 1,
   "metadata": {},
   "outputs": [],
   "source": [
    "import pandas as pd\n",
    "pd.set_option('mode.chained_assignment', None)\n",
    "pd.set_option('max_columns', 120)\n",
    "pd.set_option('max_colwidth', 5000)\n",
    "pd.options.display.max_rows = 999\n",
    "import numpy as np\n",
    "import matplotlib.pyplot as plt\n",
    "from IPython.display import display\n",
    "%matplotlib inline\n",
    "import seaborn as sns\n",
    "import warnings\n",
    "warnings.filterwarnings(\"ignore\")\n",
    "def warn(*args, **kwargs):\n",
    "    pass\n",
    "import warnings\n",
    "warnings.warn = warn\n",
    "import datetime as dt\n",
    "from datetime import datetime\n",
    "from datetime import timedelta \n",
    "import plotly.graph_objects as go"
   ]
  },
  {
   "cell_type": "markdown",
   "metadata": {},
   "source": [
    "<a id='Step_1'></a>"
   ]
  },
  {
   "cell_type": "markdown",
   "metadata": {},
   "source": [
    "#### Step 1: Preprocessing: Format and edit data\n",
    "I transformed text data to numeric data, reviewed NaNs and edited data to remove cases with missing data, and created datetime variables to edit data to remove inactive listings and for future feature engineering (i.e., number of reviews per month), "
   ]
  },
  {
   "cell_type": "code",
   "execution_count": 2,
   "metadata": {},
   "outputs": [],
   "source": [
    "file_loc = \"C:/Users/rmbrm/Documents/pathrise_challenge/listings.csv\"\n",
    "df = pd.read_csv(file_loc, index_col=None, na_values=['NA'], usecols = ['host_since', 'host_is_superhost', 'host_has_profile_pic', 'host_identity_verified', 'property_type', 'room_type', 'accommodates', 'bathrooms', 'bedrooms', 'beds', 'bed_type', 'price', 'cleaning_fee', 'guests_included', 'extra_people', 'availability_60', 'number_of_reviews', 'first_review', 'last_review', 'review_scores_accuracy', 'review_scores_cleanliness', 'review_scores_checkin', 'review_scores_communication', 'review_scores_location', 'review_scores_value', 'instant_bookable', 'require_guest_profile_picture', 'require_guest_phone_verification', 'amenities'])\n"
   ]
  },
  {
   "cell_type": "code",
   "execution_count": 3,
   "metadata": {},
   "outputs": [],
   "source": [
    "# Text to numeric\n",
    "\n",
    "df['price'] = df['price'].str.replace(',', '')\n",
    "df['price'] = df['price'].str.replace('$', '')\n",
    "df['price'] = df['price'].astype(float)\n",
    "\n",
    "df['cleaning_fee'] = df['cleaning_fee'].str.replace(',', '')\n",
    "df['cleaning_fee'] = df['cleaning_fee'].str.replace('$', '')\n",
    "df['cleaning_fee'] = df['cleaning_fee'].astype(float)\n",
    "\n",
    "df['extra_people'] = df['extra_people'].str.replace(',', '')\n",
    "df['extra_people'] = df['extra_people'].str.replace('$', '')\n",
    "df['extra_people'] = df['extra_people'].astype(float)\n",
    "\n",
    "df.replace(to_replace =\"t\", value =\"1\", inplace = True) \n",
    "df.replace(to_replace =\"f\", value =\"0\", inplace = True) "
   ]
  },
  {
   "cell_type": "code",
   "execution_count": 4,
   "metadata": {
    "scrolled": false
   },
   "outputs": [
    {
     "data": {
      "text/plain": [
       "host_since                            12\n",
       "host_is_superhost                     12\n",
       "host_has_profile_pic                  12\n",
       "host_identity_verified                12\n",
       "property_type                          0\n",
       "room_type                              0\n",
       "accommodates                           0\n",
       "bathrooms                              6\n",
       "bedrooms                               8\n",
       "beds                                   8\n",
       "bed_type                               0\n",
       "amenities                              0\n",
       "price                                  0\n",
       "cleaning_fee                        3721\n",
       "guests_included                        0\n",
       "extra_people                           0\n",
       "availability_60                        0\n",
       "number_of_reviews                      0\n",
       "first_review                        2593\n",
       "last_review                         2593\n",
       "review_scores_accuracy              2827\n",
       "review_scores_cleanliness           2825\n",
       "review_scores_checkin               2837\n",
       "review_scores_communication         2830\n",
       "review_scores_location              2835\n",
       "review_scores_value                 2835\n",
       "instant_bookable                       0\n",
       "require_guest_profile_picture          0\n",
       "require_guest_phone_verification       0\n",
       "dtype: int64"
      ]
     },
     "execution_count": 4,
     "metadata": {},
     "output_type": "execute_result"
    }
   ],
   "source": [
    "# Look at NaN\n",
    "\n",
    "df.isnull().sum()"
   ]
  },
  {
   "cell_type": "code",
   "execution_count": 5,
   "metadata": {},
   "outputs": [
    {
     "data": {
      "text/plain": [
       "(20677, 29)"
      ]
     },
     "execution_count": 5,
     "metadata": {},
     "output_type": "execute_result"
    }
   ],
   "source": [
    "df.shape"
   ]
  },
  {
   "cell_type": "code",
   "execution_count": 6,
   "metadata": {},
   "outputs": [
    {
     "data": {
      "text/plain": [
       "(17811, 29)"
      ]
     },
     "execution_count": 6,
     "metadata": {},
     "output_type": "execute_result"
    }
   ],
   "source": [
    "# Drop rows with missing data\n",
    "\n",
    "df.dropna(subset=[\"review_scores_accuracy\", \"review_scores_cleanliness\", \"review_scores_checkin\", \"review_scores_communication\",\n",
    "                  \"review_scores_location\", \"review_scores_value\", \"host_is_superhost\", \"host_has_profile_pic\",\n",
    "                  \"host_identity_verified\", \"first_review\", \"last_review\", \"bathrooms\", \"bedrooms\", \"beds\"], inplace=True)\n",
    "\n",
    "df.shape"
   ]
  },
  {
   "cell_type": "code",
   "execution_count": 7,
   "metadata": {},
   "outputs": [],
   "source": [
    "# Transform date variables to datetime to be used for data editing, and feature engineering for future analysis\n",
    "\n",
    "df['first_review'] = pd.to_datetime(df['first_review'])\n",
    "df['last_review'] = pd.to_datetime(df['last_review'])\n",
    "df['host_since'] = pd.to_datetime(df['host_since'])"
   ]
  },
  {
   "cell_type": "code",
   "execution_count": 8,
   "metadata": {},
   "outputs": [],
   "source": [
    "# Create a variable showing how recent the last review for the property was\n",
    "\n",
    "df['old'] = datetime.today() - df['last_review']\n",
    "df['old_days'] = (df['old']  / np.timedelta64(1, 'D')).astype(int)"
   ]
  },
  {
   "cell_type": "code",
   "execution_count": 9,
   "metadata": {},
   "outputs": [
    {
     "data": {
      "text/plain": [
       "(17811, 31)"
      ]
     },
     "execution_count": 9,
     "metadata": {},
     "output_type": "execute_result"
    }
   ],
   "source": [
    "df.shape"
   ]
  },
  {
   "cell_type": "code",
   "execution_count": 10,
   "metadata": {},
   "outputs": [
    {
     "data": {
      "text/plain": [
       "(13462, 31)"
      ]
     },
     "execution_count": 10,
     "metadata": {},
     "output_type": "execute_result"
    }
   ],
   "source": [
    "# Delete listings for which the most recent review was 1.5 years ago\n",
    "\n",
    "df = df[df.old_days < 547]\n",
    "\n",
    "df.shape"
   ]
  },
  {
   "cell_type": "markdown",
   "metadata": {},
   "source": [
    "Back to [top](#top) "
   ]
  },
  {
   "cell_type": "markdown",
   "metadata": {},
   "source": [
    "<a id='Step_2'></a>"
   ]
  },
  {
   "cell_type": "markdown",
   "metadata": {},
   "source": [
    "#### Step 2: Examine value counts of categorical variables to create meaningful categories where possible."
   ]
  },
  {
   "cell_type": "code",
   "execution_count": 11,
   "metadata": {},
   "outputs": [
    {
     "data": {
      "text/plain": [
       "Apartment                 10021\n",
       "House                       972\n",
       "Townhouse                   481\n",
       "Bed and breakfast           476\n",
       "Loft                        331\n",
       "Boat                        268\n",
       "Houseboat                   259\n",
       "Condominium                 214\n",
       "Guest suite                 139\n",
       "Aparthotel                   63\n",
       "Serviced apartment           45\n",
       "Guesthouse                   40\n",
       "Villa                        26\n",
       "Boutique hotel               26\n",
       "Hostel                       22\n",
       "Other                        21\n",
       "Hotel                        14\n",
       "Tiny house                   10\n",
       "Cottage                       9\n",
       "Cabin                         7\n",
       "Chalet                        3\n",
       "Bungalow                      3\n",
       "Barn                          2\n",
       "Camper/RV                     2\n",
       "Casa particular (Cuba)        2\n",
       "Dome house                    1\n",
       "Nature lodge                  1\n",
       "Campsite                      1\n",
       "Tent                          1\n",
       "Island                        1\n",
       "Castle                        1\n",
       "Name: property_type, dtype: int64"
      ]
     },
     "execution_count": 11,
     "metadata": {},
     "output_type": "execute_result"
    }
   ],
   "source": [
    "df['property_type'].value_counts()"
   ]
  },
  {
   "cell_type": "code",
   "execution_count": 12,
   "metadata": {
    "scrolled": true
   },
   "outputs": [
    {
     "data": {
      "text/plain": [
       "Entire home/apt    10379\n",
       "Private room        3031\n",
       "Shared room           52\n",
       "Name: room_type, dtype: int64"
      ]
     },
     "execution_count": 12,
     "metadata": {},
     "output_type": "execute_result"
    }
   ],
   "source": [
    "df['room_type'].value_counts()"
   ]
  },
  {
   "cell_type": "code",
   "execution_count": 13,
   "metadata": {
    "scrolled": true
   },
   "outputs": [
    {
     "data": {
      "text/plain": [
       "Real Bed         13354\n",
       "Pull-out Sofa       74\n",
       "Futon               24\n",
       "Airbed               6\n",
       "Couch                4\n",
       "Name: bed_type, dtype: int64"
      ]
     },
     "execution_count": 13,
     "metadata": {},
     "output_type": "execute_result"
    }
   ],
   "source": [
    "df['bed_type'].value_counts()"
   ]
  },
  {
   "cell_type": "code",
   "execution_count": 14,
   "metadata": {},
   "outputs": [],
   "source": [
    "# Based on above results, for two features code data into three categories\n",
    "\n",
    "def recode_p(property):\n",
    "    if property == 'Apartment':\n",
    "        return 1\n",
    "    elif property == 'House':\n",
    "        return 2\n",
    "    else:\n",
    "        return 3\n",
    "\n",
    "# recode room type\n",
    "def recode_r(room):\n",
    "    if room == 'Entire home/apt':\n",
    "        return 1\n",
    "    elif room == 'Private room':\n",
    "        return 2\n",
    "    else:\n",
    "        return 3\n",
    "\n",
    "df['property_code'] = df.apply(lambda x: recode_p(x['property_type']), axis=1)\n",
    "df['room_code'] = df.apply(lambda x: recode_r(x['room_type']), axis =1)"
   ]
  },
  {
   "cell_type": "markdown",
   "metadata": {},
   "source": [
    "Back to [top](#top) "
   ]
  },
  {
   "cell_type": "markdown",
   "metadata": {},
   "source": [
    "<a id='Step_3'></a>"
   ]
  },
  {
   "cell_type": "markdown",
   "metadata": {},
   "source": [
    "#### Step 3: Feature engineering: Number of amenities; price per person; and bathrooms, bedrooms, and beds per person."
   ]
  },
  {
   "cell_type": "code",
   "execution_count": 15,
   "metadata": {},
   "outputs": [],
   "source": [
    "# Create a feature of the number of amenities at a property\n",
    "\n",
    "df['amen_count']=(df['amenities'].str.count(',') + 1)"
   ]
  },
  {
   "cell_type": "code",
   "execution_count": 16,
   "metadata": {},
   "outputs": [],
   "source": [
    "# Using price, number of guests, number of property characteristics, create features for price per person,\n",
    "# bathrooms per person, bedrooms per person, and beds per person\n",
    "\n",
    "df['price_per_person'] = df['price']/df['guests_included']\n",
    "df['bathrooms_per_person'] = df['bathrooms']/df['guests_included']\n",
    "df['bedrooms_per_person'] = df['bedrooms']/df['guests_included']\n",
    "df['beds_per_person'] = df['beds']/df['guests_included']"
   ]
  },
  {
   "cell_type": "markdown",
   "metadata": {},
   "source": [
    "Back to [top](#top) "
   ]
  },
  {
   "cell_type": "markdown",
   "metadata": {},
   "source": [
    "<a id='Step_4'></a>"
   ]
  },
  {
   "cell_type": "markdown",
   "metadata": {},
   "source": [
    "#### Step 4: Format data for EDA and analysis: Convert categorical variables to categorical data types, code target.\n"
   ]
  },
  {
   "cell_type": "code",
   "execution_count": 17,
   "metadata": {},
   "outputs": [],
   "source": [
    "# Code target: Listings with availability of two weeks or less out of 60 days, i.e., listings that have high rental rates\n",
    "\n",
    "def recode(days):\n",
    "    if days < 15:\n",
    "        return 1\n",
    "    else:\n",
    "        return 0\n",
    "\n",
    "df['target'] = df.apply(lambda x: recode(x['availability_60']), axis=1)\n"
   ]
  },
  {
   "cell_type": "code",
   "execution_count": 18,
   "metadata": {},
   "outputs": [],
   "source": [
    "# Convert string vars to categoricals\n",
    "\n",
    "df[[\"host_is_superhost\", \"host_has_profile_pic\", \"host_identity_verified\", \"instant_bookable\", \n",
    "    \"require_guest_profile_picture\", \"require_guest_phone_verification\", \"property_code\", \"room_code\", \"target\"]]= df[[\"host_is_superhost\", \"host_has_profile_pic\", \"host_identity_verified\", \"instant_bookable\", \n",
    "      \"require_guest_profile_picture\", \"require_guest_phone_verification\", \"property_code\", \"room_code\", \n",
    "      \"target\"]].astype('category')"
   ]
  },
  {
   "cell_type": "markdown",
   "metadata": {},
   "source": [
    "Back to [top](#top) "
   ]
  },
  {
   "cell_type": "markdown",
   "metadata": {},
   "source": [
    "<a id='Step_5'></a>"
   ]
  },
  {
   "cell_type": "markdown",
   "metadata": {},
   "source": [
    "#### Step 5, housekeeping: Save dataframe with variables that will be useful for different, future analysis; drop variables no longer needed."
   ]
  },
  {
   "cell_type": "code",
   "execution_count": 19,
   "metadata": {},
   "outputs": [],
   "source": [
    "# Drop variables that are no longer needed and save version of df with extra variables for future analysis\n",
    "\n",
    "df.drop(['amenities', 'property_type', 'room_type', 'bed_type', 'old', \"bathrooms\", \"bedrooms\", \"beds\", \"availability_60\"],axis=1, inplace=True)\n",
    "\n",
    "df.to_pickle (\"C:/Users/rmbrm/Documents/pathrise_challenge/data_clean_vars_for_future\", compression='infer', protocol=4)\n",
    "df.to_excel (\"C:/Users/rmbrm/Documents/pathrise_challenge/data_clean_vars_for_future.xlsx\")"
   ]
  },
  {
   "cell_type": "code",
   "execution_count": 20,
   "metadata": {},
   "outputs": [],
   "source": [
    "# Drop variables that are not needed for this analysis and save df with just data for this analysis\n",
    "\n",
    "df.drop([\"host_since\", \"price\", \"accommodates\", \"cleaning_fee\", \"guests_included\", \"extra_people\", \"number_of_reviews\",\n",
    "         \"first_review\", \"last_review\"], axis=1, inplace=True)\n",
    "\n",
    "df.to_pickle (\"C:/Users/rmbrm/Documents/pathrise_challenge/data\", compression='infer', protocol=4)\n",
    "df.to_excel (\"C:/Users/rmbrm/Documents/pathrise_challenge/data.xlsx\")"
   ]
  },
  {
   "cell_type": "markdown",
   "metadata": {},
   "source": [
    "Back to [top](#top) "
   ]
  },
  {
   "cell_type": "markdown",
   "metadata": {},
   "source": [
    "<a id='Step_6'></a>"
   ]
  },
  {
   "cell_type": "markdown",
   "metadata": {},
   "source": [
    "#### Step 6, EDA: Descriptives, grouped by data type and content."
   ]
  },
  {
   "cell_type": "code",
   "execution_count": 21,
   "metadata": {},
   "outputs": [
    {
     "data": {
      "text/html": [
       "<div>\n",
       "<style scoped>\n",
       "    .dataframe tbody tr th:only-of-type {\n",
       "        vertical-align: middle;\n",
       "    }\n",
       "\n",
       "    .dataframe tbody tr th {\n",
       "        vertical-align: top;\n",
       "    }\n",
       "\n",
       "    .dataframe thead th {\n",
       "        text-align: right;\n",
       "    }\n",
       "</style>\n",
       "<table border=\"1\" class=\"dataframe\">\n",
       "  <thead>\n",
       "    <tr style=\"text-align: right;\">\n",
       "      <th></th>\n",
       "      <th>host_is_superhost</th>\n",
       "      <th>host_has_profile_pic</th>\n",
       "      <th>host_identity_verified</th>\n",
       "      <th>instant_bookable</th>\n",
       "      <th>require_guest_profile_picture</th>\n",
       "      <th>require_guest_phone_verification</th>\n",
       "      <th>property_code</th>\n",
       "      <th>room_code</th>\n",
       "      <th>target</th>\n",
       "    </tr>\n",
       "  </thead>\n",
       "  <tbody>\n",
       "    <tr>\n",
       "      <th>count</th>\n",
       "      <td>13462</td>\n",
       "      <td>13462</td>\n",
       "      <td>13462</td>\n",
       "      <td>13462</td>\n",
       "      <td>13462</td>\n",
       "      <td>13462</td>\n",
       "      <td>13462</td>\n",
       "      <td>13462</td>\n",
       "      <td>13462</td>\n",
       "    </tr>\n",
       "    <tr>\n",
       "      <th>unique</th>\n",
       "      <td>2</td>\n",
       "      <td>2</td>\n",
       "      <td>2</td>\n",
       "      <td>2</td>\n",
       "      <td>2</td>\n",
       "      <td>2</td>\n",
       "      <td>3</td>\n",
       "      <td>3</td>\n",
       "      <td>2</td>\n",
       "    </tr>\n",
       "    <tr>\n",
       "      <th>top</th>\n",
       "      <td>0</td>\n",
       "      <td>1</td>\n",
       "      <td>0</td>\n",
       "      <td>0</td>\n",
       "      <td>0</td>\n",
       "      <td>0</td>\n",
       "      <td>1</td>\n",
       "      <td>1</td>\n",
       "      <td>1</td>\n",
       "    </tr>\n",
       "    <tr>\n",
       "      <th>freq</th>\n",
       "      <td>10377</td>\n",
       "      <td>13459</td>\n",
       "      <td>8122</td>\n",
       "      <td>9643</td>\n",
       "      <td>13292</td>\n",
       "      <td>13231</td>\n",
       "      <td>10021</td>\n",
       "      <td>10379</td>\n",
       "      <td>10490</td>\n",
       "    </tr>\n",
       "  </tbody>\n",
       "</table>\n",
       "</div>"
      ],
      "text/plain": [
       "       host_is_superhost host_has_profile_pic host_identity_verified  \\\n",
       "count              13462                13462                  13462   \n",
       "unique                 2                    2                      2   \n",
       "top                    0                    1                      0   \n",
       "freq               10377                13459                   8122   \n",
       "\n",
       "       instant_bookable require_guest_profile_picture  \\\n",
       "count             13462                         13462   \n",
       "unique                2                             2   \n",
       "top                   0                             0   \n",
       "freq               9643                         13292   \n",
       "\n",
       "       require_guest_phone_verification  property_code  room_code  target  \n",
       "count                             13462          13462      13462   13462  \n",
       "unique                                2              3          3       2  \n",
       "top                                   0              1          1       1  \n",
       "freq                              13231          10021      10379   10490  "
      ]
     },
     "execution_count": 21,
     "metadata": {},
     "output_type": "execute_result"
    }
   ],
   "source": [
    "# Categorical variables descriptives\n",
    "\n",
    "df[[\"host_is_superhost\", \"host_has_profile_pic\", \"host_identity_verified\", \"instant_bookable\", \n",
    "    \"require_guest_profile_picture\", \"require_guest_phone_verification\", \"property_code\", \"room_code\", 'target']].describe()"
   ]
  },
  {
   "cell_type": "code",
   "execution_count": 22,
   "metadata": {},
   "outputs": [
    {
     "data": {
      "text/html": [
       "<div>\n",
       "<style scoped>\n",
       "    .dataframe tbody tr th:only-of-type {\n",
       "        vertical-align: middle;\n",
       "    }\n",
       "\n",
       "    .dataframe tbody tr th {\n",
       "        vertical-align: top;\n",
       "    }\n",
       "\n",
       "    .dataframe thead th {\n",
       "        text-align: right;\n",
       "    }\n",
       "</style>\n",
       "<table border=\"1\" class=\"dataframe\">\n",
       "  <thead>\n",
       "    <tr style=\"text-align: right;\">\n",
       "      <th></th>\n",
       "      <th>review_scores_accuracy</th>\n",
       "      <th>review_scores_cleanliness</th>\n",
       "      <th>review_scores_checkin</th>\n",
       "      <th>review_scores_communication</th>\n",
       "      <th>review_scores_location</th>\n",
       "      <th>review_scores_value</th>\n",
       "    </tr>\n",
       "  </thead>\n",
       "  <tbody>\n",
       "    <tr>\n",
       "      <th>count</th>\n",
       "      <td>13462.000000</td>\n",
       "      <td>13462.000000</td>\n",
       "      <td>13462.000000</td>\n",
       "      <td>13462.000000</td>\n",
       "      <td>13462.000000</td>\n",
       "      <td>13462.000000</td>\n",
       "    </tr>\n",
       "    <tr>\n",
       "      <th>mean</th>\n",
       "      <td>9.722627</td>\n",
       "      <td>9.508394</td>\n",
       "      <td>9.765339</td>\n",
       "      <td>9.816743</td>\n",
       "      <td>9.529193</td>\n",
       "      <td>9.187862</td>\n",
       "    </tr>\n",
       "    <tr>\n",
       "      <th>std</th>\n",
       "      <td>0.628324</td>\n",
       "      <td>0.794947</td>\n",
       "      <td>0.618278</td>\n",
       "      <td>0.561691</td>\n",
       "      <td>0.645225</td>\n",
       "      <td>0.757495</td>\n",
       "    </tr>\n",
       "    <tr>\n",
       "      <th>min</th>\n",
       "      <td>2.000000</td>\n",
       "      <td>2.000000</td>\n",
       "      <td>2.000000</td>\n",
       "      <td>2.000000</td>\n",
       "      <td>2.000000</td>\n",
       "      <td>2.000000</td>\n",
       "    </tr>\n",
       "    <tr>\n",
       "      <th>25%</th>\n",
       "      <td>10.000000</td>\n",
       "      <td>9.000000</td>\n",
       "      <td>10.000000</td>\n",
       "      <td>10.000000</td>\n",
       "      <td>9.000000</td>\n",
       "      <td>9.000000</td>\n",
       "    </tr>\n",
       "    <tr>\n",
       "      <th>50%</th>\n",
       "      <td>10.000000</td>\n",
       "      <td>10.000000</td>\n",
       "      <td>10.000000</td>\n",
       "      <td>10.000000</td>\n",
       "      <td>10.000000</td>\n",
       "      <td>9.000000</td>\n",
       "    </tr>\n",
       "    <tr>\n",
       "      <th>75%</th>\n",
       "      <td>10.000000</td>\n",
       "      <td>10.000000</td>\n",
       "      <td>10.000000</td>\n",
       "      <td>10.000000</td>\n",
       "      <td>10.000000</td>\n",
       "      <td>10.000000</td>\n",
       "    </tr>\n",
       "    <tr>\n",
       "      <th>max</th>\n",
       "      <td>10.000000</td>\n",
       "      <td>10.000000</td>\n",
       "      <td>10.000000</td>\n",
       "      <td>10.000000</td>\n",
       "      <td>10.000000</td>\n",
       "      <td>10.000000</td>\n",
       "    </tr>\n",
       "  </tbody>\n",
       "</table>\n",
       "</div>"
      ],
      "text/plain": [
       "       review_scores_accuracy  review_scores_cleanliness  \\\n",
       "count            13462.000000               13462.000000   \n",
       "mean                 9.722627                   9.508394   \n",
       "std                  0.628324                   0.794947   \n",
       "min                  2.000000                   2.000000   \n",
       "25%                 10.000000                   9.000000   \n",
       "50%                 10.000000                  10.000000   \n",
       "75%                 10.000000                  10.000000   \n",
       "max                 10.000000                  10.000000   \n",
       "\n",
       "       review_scores_checkin  review_scores_communication  \\\n",
       "count           13462.000000                 13462.000000   \n",
       "mean                9.765339                     9.816743   \n",
       "std                 0.618278                     0.561691   \n",
       "min                 2.000000                     2.000000   \n",
       "25%                10.000000                    10.000000   \n",
       "50%                10.000000                    10.000000   \n",
       "75%                10.000000                    10.000000   \n",
       "max                10.000000                    10.000000   \n",
       "\n",
       "       review_scores_location  review_scores_value  \n",
       "count            13462.000000         13462.000000  \n",
       "mean                 9.529193             9.187862  \n",
       "std                  0.645225             0.757495  \n",
       "min                  2.000000             2.000000  \n",
       "25%                  9.000000             9.000000  \n",
       "50%                 10.000000             9.000000  \n",
       "75%                 10.000000            10.000000  \n",
       "max                 10.000000            10.000000  "
      ]
     },
     "execution_count": 22,
     "metadata": {},
     "output_type": "execute_result"
    }
   ],
   "source": [
    "# Continuous variables summarizing reviews\n",
    "\n",
    "df[[\"review_scores_accuracy\", \"review_scores_cleanliness\", \"review_scores_checkin\", \n",
    "     \"review_scores_communication\", \"review_scores_location\", \"review_scores_value\"]].describe()"
   ]
  },
  {
   "cell_type": "code",
   "execution_count": 23,
   "metadata": {
    "scrolled": false
   },
   "outputs": [
    {
     "data": {
      "text/html": [
       "<div>\n",
       "<style scoped>\n",
       "    .dataframe tbody tr th:only-of-type {\n",
       "        vertical-align: middle;\n",
       "    }\n",
       "\n",
       "    .dataframe tbody tr th {\n",
       "        vertical-align: top;\n",
       "    }\n",
       "\n",
       "    .dataframe thead th {\n",
       "        text-align: right;\n",
       "    }\n",
       "</style>\n",
       "<table border=\"1\" class=\"dataframe\">\n",
       "  <thead>\n",
       "    <tr style=\"text-align: right;\">\n",
       "      <th></th>\n",
       "      <th>amen_count</th>\n",
       "      <th>price_per_person</th>\n",
       "      <th>bathrooms_per_person</th>\n",
       "      <th>bedrooms_per_person</th>\n",
       "      <th>beds_per_person</th>\n",
       "    </tr>\n",
       "  </thead>\n",
       "  <tbody>\n",
       "    <tr>\n",
       "      <th>count</th>\n",
       "      <td>13462.000000</td>\n",
       "      <td>13462.000000</td>\n",
       "      <td>13462.000000</td>\n",
       "      <td>13462.000000</td>\n",
       "      <td>13462.000000</td>\n",
       "    </tr>\n",
       "    <tr>\n",
       "      <th>mean</th>\n",
       "      <td>22.625539</td>\n",
       "      <td>123.173858</td>\n",
       "      <td>0.928547</td>\n",
       "      <td>1.111660</td>\n",
       "      <td>1.384833</td>\n",
       "    </tr>\n",
       "    <tr>\n",
       "      <th>std</th>\n",
       "      <td>10.204547</td>\n",
       "      <td>98.217302</td>\n",
       "      <td>0.436495</td>\n",
       "      <td>0.766577</td>\n",
       "      <td>1.068454</td>\n",
       "    </tr>\n",
       "    <tr>\n",
       "      <th>min</th>\n",
       "      <td>1.000000</td>\n",
       "      <td>0.000000</td>\n",
       "      <td>0.000000</td>\n",
       "      <td>0.000000</td>\n",
       "      <td>0.000000</td>\n",
       "    </tr>\n",
       "    <tr>\n",
       "      <th>25%</th>\n",
       "      <td>15.000000</td>\n",
       "      <td>70.000000</td>\n",
       "      <td>0.500000</td>\n",
       "      <td>0.666667</td>\n",
       "      <td>1.000000</td>\n",
       "    </tr>\n",
       "    <tr>\n",
       "      <th>50%</th>\n",
       "      <td>21.000000</td>\n",
       "      <td>100.000000</td>\n",
       "      <td>1.000000</td>\n",
       "      <td>1.000000</td>\n",
       "      <td>1.000000</td>\n",
       "    </tr>\n",
       "    <tr>\n",
       "      <th>75%</th>\n",
       "      <td>29.000000</td>\n",
       "      <td>150.000000</td>\n",
       "      <td>1.000000</td>\n",
       "      <td>1.000000</td>\n",
       "      <td>2.000000</td>\n",
       "    </tr>\n",
       "    <tr>\n",
       "      <th>max</th>\n",
       "      <td>74.000000</td>\n",
       "      <td>5040.000000</td>\n",
       "      <td>15.000000</td>\n",
       "      <td>12.000000</td>\n",
       "      <td>32.000000</td>\n",
       "    </tr>\n",
       "  </tbody>\n",
       "</table>\n",
       "</div>"
      ],
      "text/plain": [
       "         amen_count  price_per_person  bathrooms_per_person  \\\n",
       "count  13462.000000      13462.000000          13462.000000   \n",
       "mean      22.625539        123.173858              0.928547   \n",
       "std       10.204547         98.217302              0.436495   \n",
       "min        1.000000          0.000000              0.000000   \n",
       "25%       15.000000         70.000000              0.500000   \n",
       "50%       21.000000        100.000000              1.000000   \n",
       "75%       29.000000        150.000000              1.000000   \n",
       "max       74.000000       5040.000000             15.000000   \n",
       "\n",
       "       bedrooms_per_person  beds_per_person  \n",
       "count         13462.000000     13462.000000  \n",
       "mean              1.111660         1.384833  \n",
       "std               0.766577         1.068454  \n",
       "min               0.000000         0.000000  \n",
       "25%               0.666667         1.000000  \n",
       "50%               1.000000         1.000000  \n",
       "75%               1.000000         2.000000  \n",
       "max              12.000000        32.000000  "
      ]
     },
     "execution_count": 23,
     "metadata": {},
     "output_type": "execute_result"
    }
   ],
   "source": [
    "# Other continuous variables\n",
    "\n",
    "df[[\"amen_count\", \"price_per_person\", \"bathrooms_per_person\", \"bedrooms_per_person\", \"beds_per_person\"]].describe()"
   ]
  },
  {
   "cell_type": "markdown",
   "metadata": {},
   "source": [
    "Back to [top](#top) "
   ]
  },
  {
   "cell_type": "markdown",
   "metadata": {},
   "source": [
    "<a id='Step_7'></a>"
   ]
  },
  {
   "cell_type": "markdown",
   "metadata": {},
   "source": [
    "#### Step 7: Identify outliers for removal by creating boxplots.\n",
    "\n",
    "Interactive boxplots were created with Plotly, so that data is viewable on hover. Please click the link below to view boxplots."
   ]
  },
  {
   "cell_type": "markdown",
   "metadata": {},
   "source": [
    "[box_plots](https://nbviewer.jupyter.org/github/RossBrownPhD/Work_Samples_and_Resume/blob/5d34106c072f5e2c3363fa6ea1c243390c3bf928/Ross_Brown_Pathrise_Challenge_Boxplots.ipynb)"
   ]
  },
  {
   "cell_type": "code",
   "execution_count": 24,
   "metadata": {},
   "outputs": [
    {
     "data": {
      "text/plain": [
       "(13462, 21)"
      ]
     },
     "execution_count": 24,
     "metadata": {},
     "output_type": "execute_result"
    }
   ],
   "source": [
    "# Remove cases based on boxplots\n",
    "\n",
    "df.shape"
   ]
  },
  {
   "cell_type": "code",
   "execution_count": 25,
   "metadata": {},
   "outputs": [
    {
     "data": {
      "text/plain": [
       "(13249, 21)"
      ]
     },
     "execution_count": 25,
     "metadata": {},
     "output_type": "execute_result"
    }
   ],
   "source": [
    "df = df[df.amen_count < 69]\n",
    "df = df[df.price_per_person < 2001] \n",
    "df = df[df.bathrooms_per_person < 4] \n",
    "df = df[df.bedrooms_per_person < 5] \n",
    "df = df[df.beds_per_person < 5] \n",
    "\n",
    "df.shape"
   ]
  },
  {
   "cell_type": "markdown",
   "metadata": {},
   "source": [
    "Back to [top](#top) "
   ]
  },
  {
   "cell_type": "markdown",
   "metadata": {},
   "source": [
    "<a id='Step_8'></a>"
   ]
  },
  {
   "cell_type": "markdown",
   "metadata": {},
   "source": [
    "#### Step 8: Implement random forests with basic train/test split."
   ]
  },
  {
   "cell_type": "code",
   "execution_count": 26,
   "metadata": {},
   "outputs": [],
   "source": [
    "# Convert categorical vars to ints for machine learning\n",
    "\n",
    "df[[\"host_is_superhost\", \"host_has_profile_pic\", \"host_identity_verified\", \"instant_bookable\", \n",
    "    \"require_guest_profile_picture\", \"require_guest_phone_verification\", \"property_code\", \"room_code\", \"target\"]]= df[[\"host_is_superhost\", \"host_has_profile_pic\", \"host_identity_verified\", \"instant_bookable\", \n",
    "      \"require_guest_profile_picture\", \"require_guest_phone_verification\", \"property_code\", \"room_code\", \n",
    "      \"target\"]].astype('int')"
   ]
  },
  {
   "cell_type": "code",
   "execution_count": 27,
   "metadata": {},
   "outputs": [],
   "source": [
    "# Remove leaking feature\n",
    "\n",
    "df.drop(['old_days'], axis=1, inplace = True)"
   ]
  },
  {
   "cell_type": "code",
   "execution_count": 28,
   "metadata": {},
   "outputs": [
    {
     "data": {
      "text/plain": [
       "(numpy.ndarray, numpy.ndarray)"
      ]
     },
     "execution_count": 28,
     "metadata": {},
     "output_type": "execute_result"
    }
   ],
   "source": [
    "features = df.drop(df.columns[19], axis=1).values \n",
    "target = df['target'].values\n",
    "\n",
    "type (features), type(target)"
   ]
  },
  {
   "cell_type": "code",
   "execution_count": 29,
   "metadata": {},
   "outputs": [
    {
     "name": "stdout",
     "output_type": "stream",
     "text": [
      "[[0.         1.         1.         ... 0.33333333 0.33333333 0.66666667]\n",
      " [0.         1.         0.         ... 1.         1.         1.        ]\n",
      " [0.         1.         1.         ... 1.5        3.         4.        ]\n",
      " ...\n",
      " [1.         1.         1.         ... 1.         2.         1.        ]\n",
      " [0.         1.         0.         ... 0.5        0.5        0.5       ]\n",
      " [0.         1.         0.         ... 1.         1.         1.        ]]\n"
     ]
    }
   ],
   "source": [
    "print(features)"
   ]
  },
  {
   "cell_type": "code",
   "execution_count": 30,
   "metadata": {},
   "outputs": [
    {
     "name": "stdout",
     "output_type": "stream",
     "text": [
      "[1 0 1 ... 1 1 1]\n"
     ]
    }
   ],
   "source": [
    "print(target)"
   ]
  },
  {
   "cell_type": "code",
   "execution_count": 31,
   "metadata": {},
   "outputs": [
    {
     "name": "stdout",
     "output_type": "stream",
     "text": [
      "Accuracy on training set: 0.998\n",
      "Accuracy on test set: 0.785\n"
     ]
    }
   ],
   "source": [
    "from sklearn.ensemble import RandomForestClassifier\n",
    "from sklearn.model_selection import train_test_split\n",
    "X_train, X_test, y_train, y_test = train_test_split(features, target, random_state = 42)\n",
    "forest = RandomForestClassifier(n_estimators = 100, random_state = 42)\n",
    "forest.fit(X_train, y_train)\n",
    "\n",
    "print(\"Accuracy on training set: {:.3f}\".format(forest.score(X_train, y_train)))\n",
    "print(\"Accuracy on test set: {:.3f}\".format(forest.score( X_test, y_test)))"
   ]
  },
  {
   "cell_type": "markdown",
   "metadata": {},
   "source": [
    "Back to [top](#top) "
   ]
  },
  {
   "cell_type": "markdown",
   "metadata": {},
   "source": [
    "<a id='Step_9'></a>"
   ]
  },
  {
   "cell_type": "markdown",
   "metadata": {},
   "source": [
    "#### Step 9: Identify most important features."
   ]
  },
  {
   "cell_type": "code",
   "execution_count": 32,
   "metadata": {
    "scrolled": false
   },
   "outputs": [
    {
     "name": "stdout",
     "output_type": "stream",
     "text": [
      "Feature ranking:\n",
      "1. feature 15 (0.238847)\n",
      "2. feature 14 (0.205282)\n",
      "3. feature 13 (0.068843)\n",
      "4. feature 16 (0.064504)\n",
      "5. feature 18 (0.057069)\n",
      "6. feature 17 (0.049747)\n",
      "7. feature 4 (0.043436)\n",
      "8. feature 12 (0.039789)\n",
      "9. feature 7 (0.037077)\n",
      "10. feature 8 (0.035065)\n",
      "11. feature 2 (0.033145)\n",
      "12. feature 3 (0.025840)\n",
      "13. feature 5 (0.024622)\n",
      "14. feature 9 (0.023755)\n",
      "15. feature 0 (0.021996)\n",
      "16. feature 6 (0.020854)\n",
      "17. feature 11 (0.005830)\n",
      "18. feature 10 (0.004167)\n",
      "19. feature 1 (0.000135)\n"
     ]
    },
    {
     "data": {
      "image/png": "[encoded data removed]",
      "text/plain": [
       "<Figure size 1440x720 with 1 Axes>"
      ]
     },
     "metadata": {
      "needs_background": "light"
     },
     "output_type": "display_data"
    }
   ],
   "source": [
    "importances = forest.feature_importances_\n",
    "std = np.std([tree.feature_importances_ for tree in forest.estimators_],\n",
    "             axis=0)\n",
    "indices = np.argsort(importances)[::-1]\n",
    "\n",
    "# Print the feature ranking\n",
    "print(\"Feature ranking:\")\n",
    "\n",
    "for f in range(X_train.shape[1]):\n",
    "    print(\"%d. feature %d (%f)\" % (f + 1, indices[f], importances[indices[f]]))\n",
    "\n",
    "# Plot the feature importances of the forest\n",
    "plt.figure(figsize=(20,10))\n",
    "plt.title(\"Feature importances\")\n",
    "plt.bar(range(X_train.shape[1]), importances[indices],\n",
    "       color=\"r\", yerr=std[indices], align=\"center\")\n",
    "plt.xticks(range(X_train.shape[1]), indices)\n",
    "plt.xlim([-1, X_train.shape[1]])\n",
    "plt.show()"
   ]
  },
  {
   "cell_type": "markdown",
   "metadata": {},
   "source": [
    "| Feature                                        | Proportion of effect on target     |\n",
    "|------------------------------------------------|------------------------------------|\n",
    "|  Price per person                              | 0.24                               |\n",
    "|------------------------------------------------|------------------------------------|\n",
    "|  Number of amenities                           | 0.21                               |\n",
    "|------------------------------------------------|------------------------------------|\n",
    "|  Type of room                                  | 0.07                               |\n",
    "|------------------------------------------------|------------------------------------|\n",
    "|  Bathrooms per person                          | 0.06                               |\n",
    "|------------------------------------------------|------------------------------------|\n",
    "|  Beds per person                               | 0.06                               |\n",
    "|------------------------------------------------|------------------------------------|\n",
    "|  Bedrooms per person                           | 0.05                               |\n",
    "|------------------------------------------------|------------------------------------|\n",
    "|  Reviews score for cleanliness                 | 0.04                               |\n",
    "|------------------------------------------------|------------------------------------|\n",
    "|  Type of property                              | 0.04                               |\n",
    "|------------------------------------------------|------------------------------------|\n",
    "|  Reviews score for location                    | 0.04                               |\n",
    "|------------------------------------------------|------------------------------------|\n",
    "|  Reviews score for value                       | 0.04                               |\n",
    "|------------------------------------------------|------------------------------------|\n",
    "|  Host identity verified                        | 0.03                               |\n",
    "|------------------------------------------------|------------------------------------|\n",
    "|  Reviews score for accuracy                    | 0.03                               |\n",
    "|------------------------------------------------|------------------------------------|\n",
    "|  Reviews score for check in                    | 0.02                               |\n",
    "|------------------------------------------------|------------------------------------|\n",
    "|  Instantly bookable                            | 0.02                               |\n",
    "|------------------------------------------------|------------------------------------|\n",
    "|  Host is superhost                             | 0.02                               |\n",
    "|------------------------------------------------|------------------------------------|\n",
    "|  Reviews score for communication               | 0.02                               |\n",
    "|------------------------------------------------|------------------------------------|\n",
    "|  Require guest phone verification              | 0.01                               |\n",
    "|------------------------------------------------|------------------------------------|\n",
    "|  Require guest profile picture                 | 0.00                               |\n",
    "|------------------------------------------------|------------------------------------|\n",
    "|  Host has profile picture                      | 0.00                               |\n",
    "|------------------------------------------------|------------------------------------|\n"
   ]
  },
  {
   "cell_type": "markdown",
   "metadata": {},
   "source": [
    "Back to [top](#top) "
   ]
  }
 ],
 "metadata": {
  "kernelspec": {
   "display_name": "Python 3",
   "language": "python",
   "name": "python3"
  },
  "language_info": {
   "codemirror_mode": {
    "name": "ipython",
    "version": 3
   },
   "file_extension": ".py",
   "mimetype": "text/x-python",
   "name": "python",
   "nbconvert_exporter": "python",
   "pygments_lexer": "ipython3",
   "version": "3.7.3"
  }
 },
 "nbformat": 4,
 "nbformat_minor": 2
}
